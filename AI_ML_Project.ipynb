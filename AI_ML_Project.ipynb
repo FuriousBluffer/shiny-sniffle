{
  "nbformat": 4,
  "nbformat_minor": 0,
  "metadata": {
    "kernelspec": {
      "display_name": "Python 3",
      "language": "python",
      "name": "python3"
    },
    "language_info": {
      "codemirror_mode": {
        "name": "ipython",
        "version": 3
      },
      "file_extension": ".py",
      "mimetype": "text/x-python",
      "name": "python",
      "nbconvert_exporter": "python",
      "pygments_lexer": "ipython3",
      "version": "3.7.3"
    },
    "colab": {
      "name": "AI ML Project.ipynb",
      "provenance": [],
      "collapsed_sections": [],
      "include_colab_link": true
    }
  },
  "cells": [
    {
      "cell_type": "markdown",
      "metadata": {
        "id": "view-in-github",
        "colab_type": "text"
      },
      "source": [
        "<a href=\"https://colab.research.google.com/github/FuriousBluffer/shiny-sniffle/blob/main/AI_ML_Project.ipynb\" target=\"_parent\"><img src=\"https://colab.research.google.com/assets/colab-badge.svg\" alt=\"Open In Colab\"/></a>"
      ]
    },
    {
      "cell_type": "markdown",
      "metadata": {
        "id": "qncIQjWiPbjF"
      },
      "source": [
        "# Section 1: Gathering & Cleaning Data"
      ]
    },
    {
      "cell_type": "markdown",
      "metadata": {
        "id": "dU_2fjf6fn88"
      },
      "source": [
        "**Fitness Device Data:**\n",
        "\n",
        "\n",
        " \n",
        "After importing the required libraries, fitness data of various people had been downlaoded from kaggle.The dataset has many files involving daily calories, routines, etc."
      ]
    },
    {
      "cell_type": "code",
      "metadata": {
        "id": "ac0nVGgQPbjG"
      },
      "source": [
        "import pandas as pd\n",
        "import numpy as np\n",
        "import seaborn as sns\n",
        "import matplotlib.pyplot as plt\n",
        "%matplotlib inline"
      ],
      "execution_count": 104,
      "outputs": []
    },
    {
      "cell_type": "code",
      "metadata": {
        "colab": {
          "base_uri": "https://localhost:8080/",
          "height": 0
        },
        "id": "5jiYE70ZPbjG",
        "outputId": "957ce9cb-569f-415a-81b6-5ac0830155cf"
      },
      "source": [
        "d_act=pd.read_csv(r\"/content/drive/MyDrive/FitBit/dailyActivity_merged.csv\")\n",
        "h_cal=pd.read_csv(r\"/content/drive/MyDrive/FitBit/hourlyCalories_merged.csv\")\n",
        "h_steps=pd.read_csv(r\"/content/drive/MyDrive/FitBit/hourlySteps_merged.csv\")\n",
        "d_sleep=pd.read_csv(r\"/content/drive/MyDrive/FitBit/sleepDay_merged.csv\")\n",
        "weight=pd.read_csv(r\"/content/drive/MyDrive/FitBit/weightLogInfo_merged.csv\")\n",
        "d_act.shape\n",
        "d_act.head()"
      ],
      "execution_count": 105,
      "outputs": [
        {
          "output_type": "execute_result",
          "data": {
            "text/html": [
              "<div>\n",
              "<style scoped>\n",
              "    .dataframe tbody tr th:only-of-type {\n",
              "        vertical-align: middle;\n",
              "    }\n",
              "\n",
              "    .dataframe tbody tr th {\n",
              "        vertical-align: top;\n",
              "    }\n",
              "\n",
              "    .dataframe thead th {\n",
              "        text-align: right;\n",
              "    }\n",
              "</style>\n",
              "<table border=\"1\" class=\"dataframe\">\n",
              "  <thead>\n",
              "    <tr style=\"text-align: right;\">\n",
              "      <th></th>\n",
              "      <th>Id</th>\n",
              "      <th>ActivityDate</th>\n",
              "      <th>TotalSteps</th>\n",
              "      <th>TotalDistance</th>\n",
              "      <th>TrackerDistance</th>\n",
              "      <th>LoggedActivitiesDistance</th>\n",
              "      <th>VeryActiveDistance</th>\n",
              "      <th>ModeratelyActiveDistance</th>\n",
              "      <th>LightActiveDistance</th>\n",
              "      <th>SedentaryActiveDistance</th>\n",
              "      <th>VeryActiveMinutes</th>\n",
              "      <th>FairlyActiveMinutes</th>\n",
              "      <th>LightlyActiveMinutes</th>\n",
              "      <th>SedentaryMinutes</th>\n",
              "      <th>Calories</th>\n",
              "    </tr>\n",
              "  </thead>\n",
              "  <tbody>\n",
              "    <tr>\n",
              "      <th>0</th>\n",
              "      <td>1503960366</td>\n",
              "      <td>4/12/2016</td>\n",
              "      <td>13162</td>\n",
              "      <td>8.50</td>\n",
              "      <td>8.50</td>\n",
              "      <td>0.0</td>\n",
              "      <td>1.88</td>\n",
              "      <td>0.55</td>\n",
              "      <td>6.06</td>\n",
              "      <td>0.0</td>\n",
              "      <td>25</td>\n",
              "      <td>13</td>\n",
              "      <td>328</td>\n",
              "      <td>728</td>\n",
              "      <td>1985</td>\n",
              "    </tr>\n",
              "    <tr>\n",
              "      <th>1</th>\n",
              "      <td>1503960366</td>\n",
              "      <td>4/13/2016</td>\n",
              "      <td>10735</td>\n",
              "      <td>6.97</td>\n",
              "      <td>6.97</td>\n",
              "      <td>0.0</td>\n",
              "      <td>1.57</td>\n",
              "      <td>0.69</td>\n",
              "      <td>4.71</td>\n",
              "      <td>0.0</td>\n",
              "      <td>21</td>\n",
              "      <td>19</td>\n",
              "      <td>217</td>\n",
              "      <td>776</td>\n",
              "      <td>1797</td>\n",
              "    </tr>\n",
              "    <tr>\n",
              "      <th>2</th>\n",
              "      <td>1503960366</td>\n",
              "      <td>4/14/2016</td>\n",
              "      <td>10460</td>\n",
              "      <td>6.74</td>\n",
              "      <td>6.74</td>\n",
              "      <td>0.0</td>\n",
              "      <td>2.44</td>\n",
              "      <td>0.40</td>\n",
              "      <td>3.91</td>\n",
              "      <td>0.0</td>\n",
              "      <td>30</td>\n",
              "      <td>11</td>\n",
              "      <td>181</td>\n",
              "      <td>1218</td>\n",
              "      <td>1776</td>\n",
              "    </tr>\n",
              "    <tr>\n",
              "      <th>3</th>\n",
              "      <td>1503960366</td>\n",
              "      <td>4/15/2016</td>\n",
              "      <td>9762</td>\n",
              "      <td>6.28</td>\n",
              "      <td>6.28</td>\n",
              "      <td>0.0</td>\n",
              "      <td>2.14</td>\n",
              "      <td>1.26</td>\n",
              "      <td>2.83</td>\n",
              "      <td>0.0</td>\n",
              "      <td>29</td>\n",
              "      <td>34</td>\n",
              "      <td>209</td>\n",
              "      <td>726</td>\n",
              "      <td>1745</td>\n",
              "    </tr>\n",
              "    <tr>\n",
              "      <th>4</th>\n",
              "      <td>1503960366</td>\n",
              "      <td>4/16/2016</td>\n",
              "      <td>12669</td>\n",
              "      <td>8.16</td>\n",
              "      <td>8.16</td>\n",
              "      <td>0.0</td>\n",
              "      <td>2.71</td>\n",
              "      <td>0.41</td>\n",
              "      <td>5.04</td>\n",
              "      <td>0.0</td>\n",
              "      <td>36</td>\n",
              "      <td>10</td>\n",
              "      <td>221</td>\n",
              "      <td>773</td>\n",
              "      <td>1863</td>\n",
              "    </tr>\n",
              "  </tbody>\n",
              "</table>\n",
              "</div>"
            ],
            "text/plain": [
              "           Id ActivityDate  ...  SedentaryMinutes  Calories\n",
              "0  1503960366    4/12/2016  ...               728      1985\n",
              "1  1503960366    4/13/2016  ...               776      1797\n",
              "2  1503960366    4/14/2016  ...              1218      1776\n",
              "3  1503960366    4/15/2016  ...               726      1745\n",
              "4  1503960366    4/16/2016  ...               773      1863\n",
              "\n",
              "[5 rows x 15 columns]"
            ]
          },
          "metadata": {},
          "execution_count": 105
        }
      ]
    },
    {
      "cell_type": "markdown",
      "metadata": {
        "id": "49QSyojni_Op"
      },
      "source": [
        "**Filtering** only useful columns for our analysis\n"
      ]
    },
    {
      "cell_type": "code",
      "metadata": {
        "id": "8v-4_4ehimzg"
      },
      "source": [
        "d_act=d_act[[\"Id\",\"ActivityDate\",\"TotalSteps\",\"TotalDistance\",\"VeryActiveMinutes\",\"FairlyActiveMinutes\",\"LightlyActiveMinutes\",\"SedentaryMinutes\",\"Calories\"]]"
      ],
      "execution_count": 106,
      "outputs": []
    },
    {
      "cell_type": "code",
      "metadata": {
        "colab": {
          "base_uri": "https://localhost:8080/",
          "height": 0
        },
        "id": "JAydrS-oiuN2",
        "outputId": "0293dbd0-2807-47bb-b44c-a1e79ea6b2b5"
      },
      "source": [
        "d_act.info()\n",
        "print('\\nNo. of duplicate rows=',d_act.duplicated().sum())\n",
        "print('Number of participants=',d_act.Id.nunique())\n",
        "d_act.describe()"
      ],
      "execution_count": 107,
      "outputs": [
        {
          "output_type": "stream",
          "name": "stdout",
          "text": [
            "<class 'pandas.core.frame.DataFrame'>\n",
            "RangeIndex: 940 entries, 0 to 939\n",
            "Data columns (total 9 columns):\n",
            " #   Column                Non-Null Count  Dtype  \n",
            "---  ------                --------------  -----  \n",
            " 0   Id                    940 non-null    int64  \n",
            " 1   ActivityDate          940 non-null    object \n",
            " 2   TotalSteps            940 non-null    int64  \n",
            " 3   TotalDistance         940 non-null    float64\n",
            " 4   VeryActiveMinutes     940 non-null    int64  \n",
            " 5   FairlyActiveMinutes   940 non-null    int64  \n",
            " 6   LightlyActiveMinutes  940 non-null    int64  \n",
            " 7   SedentaryMinutes      940 non-null    int64  \n",
            " 8   Calories              940 non-null    int64  \n",
            "dtypes: float64(1), int64(7), object(1)\n",
            "memory usage: 66.2+ KB\n",
            "\n",
            "No. of duplicate rows= 0\n",
            "Number of participants= 33\n"
          ]
        },
        {
          "output_type": "execute_result",
          "data": {
            "text/html": [
              "<div>\n",
              "<style scoped>\n",
              "    .dataframe tbody tr th:only-of-type {\n",
              "        vertical-align: middle;\n",
              "    }\n",
              "\n",
              "    .dataframe tbody tr th {\n",
              "        vertical-align: top;\n",
              "    }\n",
              "\n",
              "    .dataframe thead th {\n",
              "        text-align: right;\n",
              "    }\n",
              "</style>\n",
              "<table border=\"1\" class=\"dataframe\">\n",
              "  <thead>\n",
              "    <tr style=\"text-align: right;\">\n",
              "      <th></th>\n",
              "      <th>Id</th>\n",
              "      <th>TotalSteps</th>\n",
              "      <th>TotalDistance</th>\n",
              "      <th>VeryActiveMinutes</th>\n",
              "      <th>FairlyActiveMinutes</th>\n",
              "      <th>LightlyActiveMinutes</th>\n",
              "      <th>SedentaryMinutes</th>\n",
              "      <th>Calories</th>\n",
              "    </tr>\n",
              "  </thead>\n",
              "  <tbody>\n",
              "    <tr>\n",
              "      <th>count</th>\n",
              "      <td>9.400000e+02</td>\n",
              "      <td>940.000000</td>\n",
              "      <td>940.000000</td>\n",
              "      <td>940.000000</td>\n",
              "      <td>940.000000</td>\n",
              "      <td>940.000000</td>\n",
              "      <td>940.000000</td>\n",
              "      <td>940.000000</td>\n",
              "    </tr>\n",
              "    <tr>\n",
              "      <th>mean</th>\n",
              "      <td>4.855407e+09</td>\n",
              "      <td>7637.910638</td>\n",
              "      <td>5.489702</td>\n",
              "      <td>21.164894</td>\n",
              "      <td>13.564894</td>\n",
              "      <td>192.812766</td>\n",
              "      <td>991.210638</td>\n",
              "      <td>2303.609574</td>\n",
              "    </tr>\n",
              "    <tr>\n",
              "      <th>std</th>\n",
              "      <td>2.424805e+09</td>\n",
              "      <td>5087.150742</td>\n",
              "      <td>3.924606</td>\n",
              "      <td>32.844803</td>\n",
              "      <td>19.987404</td>\n",
              "      <td>109.174700</td>\n",
              "      <td>301.267437</td>\n",
              "      <td>718.166862</td>\n",
              "    </tr>\n",
              "    <tr>\n",
              "      <th>min</th>\n",
              "      <td>1.503960e+09</td>\n",
              "      <td>0.000000</td>\n",
              "      <td>0.000000</td>\n",
              "      <td>0.000000</td>\n",
              "      <td>0.000000</td>\n",
              "      <td>0.000000</td>\n",
              "      <td>0.000000</td>\n",
              "      <td>0.000000</td>\n",
              "    </tr>\n",
              "    <tr>\n",
              "      <th>25%</th>\n",
              "      <td>2.320127e+09</td>\n",
              "      <td>3789.750000</td>\n",
              "      <td>2.620000</td>\n",
              "      <td>0.000000</td>\n",
              "      <td>0.000000</td>\n",
              "      <td>127.000000</td>\n",
              "      <td>729.750000</td>\n",
              "      <td>1828.500000</td>\n",
              "    </tr>\n",
              "    <tr>\n",
              "      <th>50%</th>\n",
              "      <td>4.445115e+09</td>\n",
              "      <td>7405.500000</td>\n",
              "      <td>5.245000</td>\n",
              "      <td>4.000000</td>\n",
              "      <td>6.000000</td>\n",
              "      <td>199.000000</td>\n",
              "      <td>1057.500000</td>\n",
              "      <td>2134.000000</td>\n",
              "    </tr>\n",
              "    <tr>\n",
              "      <th>75%</th>\n",
              "      <td>6.962181e+09</td>\n",
              "      <td>10727.000000</td>\n",
              "      <td>7.712500</td>\n",
              "      <td>32.000000</td>\n",
              "      <td>19.000000</td>\n",
              "      <td>264.000000</td>\n",
              "      <td>1229.500000</td>\n",
              "      <td>2793.250000</td>\n",
              "    </tr>\n",
              "    <tr>\n",
              "      <th>max</th>\n",
              "      <td>8.877689e+09</td>\n",
              "      <td>36019.000000</td>\n",
              "      <td>28.030001</td>\n",
              "      <td>210.000000</td>\n",
              "      <td>143.000000</td>\n",
              "      <td>518.000000</td>\n",
              "      <td>1440.000000</td>\n",
              "      <td>4900.000000</td>\n",
              "    </tr>\n",
              "  </tbody>\n",
              "</table>\n",
              "</div>"
            ],
            "text/plain": [
              "                 Id    TotalSteps  ...  SedentaryMinutes     Calories\n",
              "count  9.400000e+02    940.000000  ...        940.000000   940.000000\n",
              "mean   4.855407e+09   7637.910638  ...        991.210638  2303.609574\n",
              "std    2.424805e+09   5087.150742  ...        301.267437   718.166862\n",
              "min    1.503960e+09      0.000000  ...          0.000000     0.000000\n",
              "25%    2.320127e+09   3789.750000  ...        729.750000  1828.500000\n",
              "50%    4.445115e+09   7405.500000  ...       1057.500000  2134.000000\n",
              "75%    6.962181e+09  10727.000000  ...       1229.500000  2793.250000\n",
              "max    8.877689e+09  36019.000000  ...       1440.000000  4900.000000\n",
              "\n",
              "[8 rows x 8 columns]"
            ]
          },
          "metadata": {},
          "execution_count": 107
        }
      ]
    },
    {
      "cell_type": "markdown",
      "metadata": {
        "id": "mQoRZzLGkW4a"
      },
      "source": [
        "Findings:\n",
        "\n",
        "1. Data is clean and has no wrong or null or duplicate entry.\n",
        "\n",
        "2. No. of participants=33\n",
        "\n",
        "3. Minimum value of every column is zero signifying that some users have disabled a particular features on some days. So, we will apply relevant filters on particular column during its analysis.\n",
        "\n",
        "4. We need to derive and add new column named Day using the Date. As people tend to relax on weekends so this will help us analyze that separately(will be done in next cell)."
      ]
    },
    {
      "cell_type": "code",
      "metadata": {
        "scrolled": true,
        "colab": {
          "base_uri": "https://localhost:8080/",
          "height": 0
        },
        "id": "FCAxO5c8PbjJ",
        "outputId": "45fe7b63-e67f-4280-fe9f-d40e93c707f2"
      },
      "source": [
        "d_act.ActivityDate=pd.to_datetime(d_act.ActivityDate)\n",
        "d_act['Day']=d_act.ActivityDate.dt.day_name()\n",
        "print(\"Sample Processed data:\")\n",
        "d_act.head()"
      ],
      "execution_count": 108,
      "outputs": [
        {
          "output_type": "stream",
          "name": "stdout",
          "text": [
            "Sample Processed data:\n"
          ]
        },
        {
          "output_type": "execute_result",
          "data": {
            "text/html": [
              "<div>\n",
              "<style scoped>\n",
              "    .dataframe tbody tr th:only-of-type {\n",
              "        vertical-align: middle;\n",
              "    }\n",
              "\n",
              "    .dataframe tbody tr th {\n",
              "        vertical-align: top;\n",
              "    }\n",
              "\n",
              "    .dataframe thead th {\n",
              "        text-align: right;\n",
              "    }\n",
              "</style>\n",
              "<table border=\"1\" class=\"dataframe\">\n",
              "  <thead>\n",
              "    <tr style=\"text-align: right;\">\n",
              "      <th></th>\n",
              "      <th>Id</th>\n",
              "      <th>ActivityDate</th>\n",
              "      <th>TotalSteps</th>\n",
              "      <th>TotalDistance</th>\n",
              "      <th>VeryActiveMinutes</th>\n",
              "      <th>FairlyActiveMinutes</th>\n",
              "      <th>LightlyActiveMinutes</th>\n",
              "      <th>SedentaryMinutes</th>\n",
              "      <th>Calories</th>\n",
              "      <th>Day</th>\n",
              "    </tr>\n",
              "  </thead>\n",
              "  <tbody>\n",
              "    <tr>\n",
              "      <th>0</th>\n",
              "      <td>1503960366</td>\n",
              "      <td>2016-04-12</td>\n",
              "      <td>13162</td>\n",
              "      <td>8.50</td>\n",
              "      <td>25</td>\n",
              "      <td>13</td>\n",
              "      <td>328</td>\n",
              "      <td>728</td>\n",
              "      <td>1985</td>\n",
              "      <td>Tuesday</td>\n",
              "    </tr>\n",
              "    <tr>\n",
              "      <th>1</th>\n",
              "      <td>1503960366</td>\n",
              "      <td>2016-04-13</td>\n",
              "      <td>10735</td>\n",
              "      <td>6.97</td>\n",
              "      <td>21</td>\n",
              "      <td>19</td>\n",
              "      <td>217</td>\n",
              "      <td>776</td>\n",
              "      <td>1797</td>\n",
              "      <td>Wednesday</td>\n",
              "    </tr>\n",
              "    <tr>\n",
              "      <th>2</th>\n",
              "      <td>1503960366</td>\n",
              "      <td>2016-04-14</td>\n",
              "      <td>10460</td>\n",
              "      <td>6.74</td>\n",
              "      <td>30</td>\n",
              "      <td>11</td>\n",
              "      <td>181</td>\n",
              "      <td>1218</td>\n",
              "      <td>1776</td>\n",
              "      <td>Thursday</td>\n",
              "    </tr>\n",
              "    <tr>\n",
              "      <th>3</th>\n",
              "      <td>1503960366</td>\n",
              "      <td>2016-04-15</td>\n",
              "      <td>9762</td>\n",
              "      <td>6.28</td>\n",
              "      <td>29</td>\n",
              "      <td>34</td>\n",
              "      <td>209</td>\n",
              "      <td>726</td>\n",
              "      <td>1745</td>\n",
              "      <td>Friday</td>\n",
              "    </tr>\n",
              "    <tr>\n",
              "      <th>4</th>\n",
              "      <td>1503960366</td>\n",
              "      <td>2016-04-16</td>\n",
              "      <td>12669</td>\n",
              "      <td>8.16</td>\n",
              "      <td>36</td>\n",
              "      <td>10</td>\n",
              "      <td>221</td>\n",
              "      <td>773</td>\n",
              "      <td>1863</td>\n",
              "      <td>Saturday</td>\n",
              "    </tr>\n",
              "  </tbody>\n",
              "</table>\n",
              "</div>"
            ],
            "text/plain": [
              "           Id ActivityDate  TotalSteps  ...  SedentaryMinutes  Calories        Day\n",
              "0  1503960366   2016-04-12       13162  ...               728      1985    Tuesday\n",
              "1  1503960366   2016-04-13       10735  ...               776      1797  Wednesday\n",
              "2  1503960366   2016-04-14       10460  ...              1218      1776   Thursday\n",
              "3  1503960366   2016-04-15        9762  ...               726      1745     Friday\n",
              "4  1503960366   2016-04-16       12669  ...               773      1863   Saturday\n",
              "\n",
              "[5 rows x 10 columns]"
            ]
          },
          "metadata": {},
          "execution_count": 108
        }
      ]
    },
    {
      "cell_type": "markdown",
      "metadata": {
        "id": "ZlcAUckMnT4e"
      },
      "source": [
        "**Hourly_Calories dataset:**"
      ]
    },
    {
      "cell_type": "code",
      "metadata": {
        "colab": {
          "base_uri": "https://localhost:8080/",
          "height": 0
        },
        "id": "LcvnMsKznXQm",
        "outputId": "7890b59b-b51f-48c9-a65e-b1fd670e57a3"
      },
      "source": [
        "print(\"Sample data:\")\n",
        "h_cal.head()"
      ],
      "execution_count": 109,
      "outputs": [
        {
          "output_type": "stream",
          "name": "stdout",
          "text": [
            "Sample data:\n"
          ]
        },
        {
          "output_type": "execute_result",
          "data": {
            "text/html": [
              "<div>\n",
              "<style scoped>\n",
              "    .dataframe tbody tr th:only-of-type {\n",
              "        vertical-align: middle;\n",
              "    }\n",
              "\n",
              "    .dataframe tbody tr th {\n",
              "        vertical-align: top;\n",
              "    }\n",
              "\n",
              "    .dataframe thead th {\n",
              "        text-align: right;\n",
              "    }\n",
              "</style>\n",
              "<table border=\"1\" class=\"dataframe\">\n",
              "  <thead>\n",
              "    <tr style=\"text-align: right;\">\n",
              "      <th></th>\n",
              "      <th>Id</th>\n",
              "      <th>ActivityHour</th>\n",
              "      <th>Calories</th>\n",
              "    </tr>\n",
              "  </thead>\n",
              "  <tbody>\n",
              "    <tr>\n",
              "      <th>0</th>\n",
              "      <td>1503960366</td>\n",
              "      <td>4/12/2016 12:00:00 AM</td>\n",
              "      <td>81</td>\n",
              "    </tr>\n",
              "    <tr>\n",
              "      <th>1</th>\n",
              "      <td>1503960366</td>\n",
              "      <td>4/12/2016 1:00:00 AM</td>\n",
              "      <td>61</td>\n",
              "    </tr>\n",
              "    <tr>\n",
              "      <th>2</th>\n",
              "      <td>1503960366</td>\n",
              "      <td>4/12/2016 2:00:00 AM</td>\n",
              "      <td>59</td>\n",
              "    </tr>\n",
              "    <tr>\n",
              "      <th>3</th>\n",
              "      <td>1503960366</td>\n",
              "      <td>4/12/2016 3:00:00 AM</td>\n",
              "      <td>47</td>\n",
              "    </tr>\n",
              "    <tr>\n",
              "      <th>4</th>\n",
              "      <td>1503960366</td>\n",
              "      <td>4/12/2016 4:00:00 AM</td>\n",
              "      <td>48</td>\n",
              "    </tr>\n",
              "  </tbody>\n",
              "</table>\n",
              "</div>"
            ],
            "text/plain": [
              "           Id           ActivityHour  Calories\n",
              "0  1503960366  4/12/2016 12:00:00 AM        81\n",
              "1  1503960366   4/12/2016 1:00:00 AM        61\n",
              "2  1503960366   4/12/2016 2:00:00 AM        59\n",
              "3  1503960366   4/12/2016 3:00:00 AM        47\n",
              "4  1503960366   4/12/2016 4:00:00 AM        48"
            ]
          },
          "metadata": {},
          "execution_count": 109
        }
      ]
    },
    {
      "cell_type": "code",
      "metadata": {
        "scrolled": false,
        "colab": {
          "base_uri": "https://localhost:8080/",
          "height": 0
        },
        "id": "e9YDhb0KPbjJ",
        "outputId": "a01a686f-c93f-4501-a61f-921d550d32ee"
      },
      "source": [
        "h_cal.info()\n",
        "print('\\nNo. of duplicate rows=',h_cal.duplicated().sum())\n",
        "print('Number of participants=',h_cal.Id.nunique())\n",
        "h_cal.describe()"
      ],
      "execution_count": 110,
      "outputs": [
        {
          "output_type": "stream",
          "name": "stdout",
          "text": [
            "<class 'pandas.core.frame.DataFrame'>\n",
            "RangeIndex: 22099 entries, 0 to 22098\n",
            "Data columns (total 3 columns):\n",
            " #   Column        Non-Null Count  Dtype \n",
            "---  ------        --------------  ----- \n",
            " 0   Id            22099 non-null  int64 \n",
            " 1   ActivityHour  22099 non-null  object\n",
            " 2   Calories      22099 non-null  int64 \n",
            "dtypes: int64(2), object(1)\n",
            "memory usage: 518.1+ KB\n",
            "\n",
            "No. of duplicate rows= 0\n",
            "Number of participants= 33\n"
          ]
        },
        {
          "output_type": "execute_result",
          "data": {
            "text/html": [
              "<div>\n",
              "<style scoped>\n",
              "    .dataframe tbody tr th:only-of-type {\n",
              "        vertical-align: middle;\n",
              "    }\n",
              "\n",
              "    .dataframe tbody tr th {\n",
              "        vertical-align: top;\n",
              "    }\n",
              "\n",
              "    .dataframe thead th {\n",
              "        text-align: right;\n",
              "    }\n",
              "</style>\n",
              "<table border=\"1\" class=\"dataframe\">\n",
              "  <thead>\n",
              "    <tr style=\"text-align: right;\">\n",
              "      <th></th>\n",
              "      <th>Id</th>\n",
              "      <th>Calories</th>\n",
              "    </tr>\n",
              "  </thead>\n",
              "  <tbody>\n",
              "    <tr>\n",
              "      <th>count</th>\n",
              "      <td>2.209900e+04</td>\n",
              "      <td>22099.000000</td>\n",
              "    </tr>\n",
              "    <tr>\n",
              "      <th>mean</th>\n",
              "      <td>4.848235e+09</td>\n",
              "      <td>97.386760</td>\n",
              "    </tr>\n",
              "    <tr>\n",
              "      <th>std</th>\n",
              "      <td>2.422500e+09</td>\n",
              "      <td>60.702622</td>\n",
              "    </tr>\n",
              "    <tr>\n",
              "      <th>min</th>\n",
              "      <td>1.503960e+09</td>\n",
              "      <td>42.000000</td>\n",
              "    </tr>\n",
              "    <tr>\n",
              "      <th>25%</th>\n",
              "      <td>2.320127e+09</td>\n",
              "      <td>63.000000</td>\n",
              "    </tr>\n",
              "    <tr>\n",
              "      <th>50%</th>\n",
              "      <td>4.445115e+09</td>\n",
              "      <td>83.000000</td>\n",
              "    </tr>\n",
              "    <tr>\n",
              "      <th>75%</th>\n",
              "      <td>6.962181e+09</td>\n",
              "      <td>108.000000</td>\n",
              "    </tr>\n",
              "    <tr>\n",
              "      <th>max</th>\n",
              "      <td>8.877689e+09</td>\n",
              "      <td>948.000000</td>\n",
              "    </tr>\n",
              "  </tbody>\n",
              "</table>\n",
              "</div>"
            ],
            "text/plain": [
              "                 Id      Calories\n",
              "count  2.209900e+04  22099.000000\n",
              "mean   4.848235e+09     97.386760\n",
              "std    2.422500e+09     60.702622\n",
              "min    1.503960e+09     42.000000\n",
              "25%    2.320127e+09     63.000000\n",
              "50%    4.445115e+09     83.000000\n",
              "75%    6.962181e+09    108.000000\n",
              "max    8.877689e+09    948.000000"
            ]
          },
          "metadata": {},
          "execution_count": 110
        }
      ]
    },
    {
      "cell_type": "markdown",
      "metadata": {
        "id": "VuZeLvYintF_"
      },
      "source": [
        "Findings:\n",
        "\n",
        "1. Data is clean and has no wrong or null or duplicate entry.\n",
        "2. No. of participants=33\n",
        "3. ActivityHour column data needs to be convert to day and time(will be done in next cell)."
      ]
    },
    {
      "cell_type": "code",
      "metadata": {
        "colab": {
          "base_uri": "https://localhost:8080/",
          "height": 0
        },
        "id": "EeW2L6x7n49M",
        "outputId": "2d77f12c-5325-4592-f671-56076c192586"
      },
      "source": [
        "h_cal.ActivityHour=pd.to_datetime(h_cal.ActivityHour)\n",
        "h_cal.ActivityHour=h_cal.ActivityHour.astype(str)\n",
        "h_cal[\"Date\"]=h_cal.ActivityHour.str.split(expand=True)[0]\n",
        "h_cal[\"Time\"]=h_cal.ActivityHour.str.split(expand=True)[1]\n",
        "h_cal.Date=pd.to_datetime(h_cal.Date)\n",
        "h_cal[\"Day\"]=h_cal.Date.dt.day_name()\n",
        "print(\"Sample Processed data:\")\n",
        "h_cal.head()"
      ],
      "execution_count": 111,
      "outputs": [
        {
          "output_type": "stream",
          "name": "stdout",
          "text": [
            "Sample Processed data:\n"
          ]
        },
        {
          "output_type": "execute_result",
          "data": {
            "text/html": [
              "<div>\n",
              "<style scoped>\n",
              "    .dataframe tbody tr th:only-of-type {\n",
              "        vertical-align: middle;\n",
              "    }\n",
              "\n",
              "    .dataframe tbody tr th {\n",
              "        vertical-align: top;\n",
              "    }\n",
              "\n",
              "    .dataframe thead th {\n",
              "        text-align: right;\n",
              "    }\n",
              "</style>\n",
              "<table border=\"1\" class=\"dataframe\">\n",
              "  <thead>\n",
              "    <tr style=\"text-align: right;\">\n",
              "      <th></th>\n",
              "      <th>Id</th>\n",
              "      <th>ActivityHour</th>\n",
              "      <th>Calories</th>\n",
              "      <th>Date</th>\n",
              "      <th>Time</th>\n",
              "      <th>Day</th>\n",
              "    </tr>\n",
              "  </thead>\n",
              "  <tbody>\n",
              "    <tr>\n",
              "      <th>0</th>\n",
              "      <td>1503960366</td>\n",
              "      <td>2016-04-12 00:00:00</td>\n",
              "      <td>81</td>\n",
              "      <td>2016-04-12</td>\n",
              "      <td>00:00:00</td>\n",
              "      <td>Tuesday</td>\n",
              "    </tr>\n",
              "    <tr>\n",
              "      <th>1</th>\n",
              "      <td>1503960366</td>\n",
              "      <td>2016-04-12 01:00:00</td>\n",
              "      <td>61</td>\n",
              "      <td>2016-04-12</td>\n",
              "      <td>01:00:00</td>\n",
              "      <td>Tuesday</td>\n",
              "    </tr>\n",
              "    <tr>\n",
              "      <th>2</th>\n",
              "      <td>1503960366</td>\n",
              "      <td>2016-04-12 02:00:00</td>\n",
              "      <td>59</td>\n",
              "      <td>2016-04-12</td>\n",
              "      <td>02:00:00</td>\n",
              "      <td>Tuesday</td>\n",
              "    </tr>\n",
              "    <tr>\n",
              "      <th>3</th>\n",
              "      <td>1503960366</td>\n",
              "      <td>2016-04-12 03:00:00</td>\n",
              "      <td>47</td>\n",
              "      <td>2016-04-12</td>\n",
              "      <td>03:00:00</td>\n",
              "      <td>Tuesday</td>\n",
              "    </tr>\n",
              "    <tr>\n",
              "      <th>4</th>\n",
              "      <td>1503960366</td>\n",
              "      <td>2016-04-12 04:00:00</td>\n",
              "      <td>48</td>\n",
              "      <td>2016-04-12</td>\n",
              "      <td>04:00:00</td>\n",
              "      <td>Tuesday</td>\n",
              "    </tr>\n",
              "  </tbody>\n",
              "</table>\n",
              "</div>"
            ],
            "text/plain": [
              "           Id         ActivityHour  Calories       Date      Time      Day\n",
              "0  1503960366  2016-04-12 00:00:00        81 2016-04-12  00:00:00  Tuesday\n",
              "1  1503960366  2016-04-12 01:00:00        61 2016-04-12  01:00:00  Tuesday\n",
              "2  1503960366  2016-04-12 02:00:00        59 2016-04-12  02:00:00  Tuesday\n",
              "3  1503960366  2016-04-12 03:00:00        47 2016-04-12  03:00:00  Tuesday\n",
              "4  1503960366  2016-04-12 04:00:00        48 2016-04-12  04:00:00  Tuesday"
            ]
          },
          "metadata": {},
          "execution_count": 111
        }
      ]
    },
    {
      "cell_type": "markdown",
      "metadata": {
        "id": "o-BJVkavn_P4"
      },
      "source": [
        "**Hourly_Steps dataset:**"
      ]
    },
    {
      "cell_type": "code",
      "metadata": {
        "colab": {
          "base_uri": "https://localhost:8080/",
          "height": 0
        },
        "id": "lNHp7bMboPdu",
        "outputId": "db7ea816-b33f-437f-f322-3047f1c28269"
      },
      "source": [
        "h_steps.info()\n",
        "print('\\nNo. of duplicate rows=',h_steps.duplicated().sum())\n",
        "print('Number of participants=',h_steps.Id.nunique())\n",
        "h_steps.describe()"
      ],
      "execution_count": 112,
      "outputs": [
        {
          "output_type": "stream",
          "name": "stdout",
          "text": [
            "<class 'pandas.core.frame.DataFrame'>\n",
            "RangeIndex: 22099 entries, 0 to 22098\n",
            "Data columns (total 3 columns):\n",
            " #   Column        Non-Null Count  Dtype \n",
            "---  ------        --------------  ----- \n",
            " 0   Id            22099 non-null  int64 \n",
            " 1   ActivityHour  22099 non-null  object\n",
            " 2   StepTotal     22099 non-null  int64 \n",
            "dtypes: int64(2), object(1)\n",
            "memory usage: 518.1+ KB\n",
            "\n",
            "No. of duplicate rows= 0\n",
            "Number of participants= 33\n"
          ]
        },
        {
          "output_type": "execute_result",
          "data": {
            "text/html": [
              "<div>\n",
              "<style scoped>\n",
              "    .dataframe tbody tr th:only-of-type {\n",
              "        vertical-align: middle;\n",
              "    }\n",
              "\n",
              "    .dataframe tbody tr th {\n",
              "        vertical-align: top;\n",
              "    }\n",
              "\n",
              "    .dataframe thead th {\n",
              "        text-align: right;\n",
              "    }\n",
              "</style>\n",
              "<table border=\"1\" class=\"dataframe\">\n",
              "  <thead>\n",
              "    <tr style=\"text-align: right;\">\n",
              "      <th></th>\n",
              "      <th>Id</th>\n",
              "      <th>StepTotal</th>\n",
              "    </tr>\n",
              "  </thead>\n",
              "  <tbody>\n",
              "    <tr>\n",
              "      <th>count</th>\n",
              "      <td>2.209900e+04</td>\n",
              "      <td>22099.000000</td>\n",
              "    </tr>\n",
              "    <tr>\n",
              "      <th>mean</th>\n",
              "      <td>4.848235e+09</td>\n",
              "      <td>320.166342</td>\n",
              "    </tr>\n",
              "    <tr>\n",
              "      <th>std</th>\n",
              "      <td>2.422500e+09</td>\n",
              "      <td>690.384228</td>\n",
              "    </tr>\n",
              "    <tr>\n",
              "      <th>min</th>\n",
              "      <td>1.503960e+09</td>\n",
              "      <td>0.000000</td>\n",
              "    </tr>\n",
              "    <tr>\n",
              "      <th>25%</th>\n",
              "      <td>2.320127e+09</td>\n",
              "      <td>0.000000</td>\n",
              "    </tr>\n",
              "    <tr>\n",
              "      <th>50%</th>\n",
              "      <td>4.445115e+09</td>\n",
              "      <td>40.000000</td>\n",
              "    </tr>\n",
              "    <tr>\n",
              "      <th>75%</th>\n",
              "      <td>6.962181e+09</td>\n",
              "      <td>357.000000</td>\n",
              "    </tr>\n",
              "    <tr>\n",
              "      <th>max</th>\n",
              "      <td>8.877689e+09</td>\n",
              "      <td>10554.000000</td>\n",
              "    </tr>\n",
              "  </tbody>\n",
              "</table>\n",
              "</div>"
            ],
            "text/plain": [
              "                 Id     StepTotal\n",
              "count  2.209900e+04  22099.000000\n",
              "mean   4.848235e+09    320.166342\n",
              "std    2.422500e+09    690.384228\n",
              "min    1.503960e+09      0.000000\n",
              "25%    2.320127e+09      0.000000\n",
              "50%    4.445115e+09     40.000000\n",
              "75%    6.962181e+09    357.000000\n",
              "max    8.877689e+09  10554.000000"
            ]
          },
          "metadata": {},
          "execution_count": 112
        }
      ]
    },
    {
      "cell_type": "code",
      "metadata": {
        "colab": {
          "base_uri": "https://localhost:8080/",
          "height": 0
        },
        "id": "S4MPvSbVoU1t",
        "outputId": "a0593b72-5398-4c69-ced1-02463ea475c8"
      },
      "source": [
        "print(\"Sample data:\")\n",
        "h_steps.head()"
      ],
      "execution_count": 113,
      "outputs": [
        {
          "output_type": "stream",
          "name": "stdout",
          "text": [
            "Sample data:\n"
          ]
        },
        {
          "output_type": "execute_result",
          "data": {
            "text/html": [
              "<div>\n",
              "<style scoped>\n",
              "    .dataframe tbody tr th:only-of-type {\n",
              "        vertical-align: middle;\n",
              "    }\n",
              "\n",
              "    .dataframe tbody tr th {\n",
              "        vertical-align: top;\n",
              "    }\n",
              "\n",
              "    .dataframe thead th {\n",
              "        text-align: right;\n",
              "    }\n",
              "</style>\n",
              "<table border=\"1\" class=\"dataframe\">\n",
              "  <thead>\n",
              "    <tr style=\"text-align: right;\">\n",
              "      <th></th>\n",
              "      <th>Id</th>\n",
              "      <th>ActivityHour</th>\n",
              "      <th>StepTotal</th>\n",
              "    </tr>\n",
              "  </thead>\n",
              "  <tbody>\n",
              "    <tr>\n",
              "      <th>0</th>\n",
              "      <td>1503960366</td>\n",
              "      <td>04-12-2016 00:00</td>\n",
              "      <td>373</td>\n",
              "    </tr>\n",
              "    <tr>\n",
              "      <th>1</th>\n",
              "      <td>1503960366</td>\n",
              "      <td>04-12-2016 01:00</td>\n",
              "      <td>160</td>\n",
              "    </tr>\n",
              "    <tr>\n",
              "      <th>2</th>\n",
              "      <td>1503960366</td>\n",
              "      <td>04-12-2016 02:00</td>\n",
              "      <td>151</td>\n",
              "    </tr>\n",
              "    <tr>\n",
              "      <th>3</th>\n",
              "      <td>1503960366</td>\n",
              "      <td>04-12-2016 03:00</td>\n",
              "      <td>0</td>\n",
              "    </tr>\n",
              "    <tr>\n",
              "      <th>4</th>\n",
              "      <td>1503960366</td>\n",
              "      <td>04-12-2016 04:00</td>\n",
              "      <td>0</td>\n",
              "    </tr>\n",
              "  </tbody>\n",
              "</table>\n",
              "</div>"
            ],
            "text/plain": [
              "           Id      ActivityHour  StepTotal\n",
              "0  1503960366  04-12-2016 00:00        373\n",
              "1  1503960366  04-12-2016 01:00        160\n",
              "2  1503960366  04-12-2016 02:00        151\n",
              "3  1503960366  04-12-2016 03:00          0\n",
              "4  1503960366  04-12-2016 04:00          0"
            ]
          },
          "metadata": {},
          "execution_count": 113
        }
      ]
    },
    {
      "cell_type": "markdown",
      "metadata": {
        "id": "geknDL6eoZe2"
      },
      "source": [
        "Findings:\n",
        "\n",
        "1. Data is clean and has no wrong or null or duplicate entry.\n",
        "2. No. of participants=33\n",
        "3. ActivityHour column data needs to be convert to day and time(will be done in next cell)."
      ]
    },
    {
      "cell_type": "code",
      "metadata": {
        "colab": {
          "base_uri": "https://localhost:8080/",
          "height": 0
        },
        "id": "fjrvUmJ7ogmC",
        "outputId": "a1dd5c5f-817f-4522-d2a7-34db99471e48"
      },
      "source": [
        "h_steps.ActivityHour=pd.to_datetime(h_steps.ActivityHour)\n",
        "h_steps.ActivityHour=h_steps.ActivityHour.astype(str)\n",
        "h_steps[\"Date\"]=h_steps.ActivityHour.str.split(expand=True)[0]\n",
        "h_steps[\"Time\"]=h_steps.ActivityHour.str.split(expand=True)[1]\n",
        "h_steps.Date=pd.to_datetime(h_steps.Date)\n",
        "h_steps[\"Day\"]=h_steps.Date.dt.day_name()\n",
        "print(\"Sample Processed data:\")\n",
        "h_steps.head()"
      ],
      "execution_count": 114,
      "outputs": [
        {
          "output_type": "stream",
          "name": "stdout",
          "text": [
            "Sample Processed data:\n"
          ]
        },
        {
          "output_type": "execute_result",
          "data": {
            "text/html": [
              "<div>\n",
              "<style scoped>\n",
              "    .dataframe tbody tr th:only-of-type {\n",
              "        vertical-align: middle;\n",
              "    }\n",
              "\n",
              "    .dataframe tbody tr th {\n",
              "        vertical-align: top;\n",
              "    }\n",
              "\n",
              "    .dataframe thead th {\n",
              "        text-align: right;\n",
              "    }\n",
              "</style>\n",
              "<table border=\"1\" class=\"dataframe\">\n",
              "  <thead>\n",
              "    <tr style=\"text-align: right;\">\n",
              "      <th></th>\n",
              "      <th>Id</th>\n",
              "      <th>ActivityHour</th>\n",
              "      <th>StepTotal</th>\n",
              "      <th>Date</th>\n",
              "      <th>Time</th>\n",
              "      <th>Day</th>\n",
              "    </tr>\n",
              "  </thead>\n",
              "  <tbody>\n",
              "    <tr>\n",
              "      <th>0</th>\n",
              "      <td>1503960366</td>\n",
              "      <td>2016-04-12 00:00:00</td>\n",
              "      <td>373</td>\n",
              "      <td>2016-04-12</td>\n",
              "      <td>00:00:00</td>\n",
              "      <td>Tuesday</td>\n",
              "    </tr>\n",
              "    <tr>\n",
              "      <th>1</th>\n",
              "      <td>1503960366</td>\n",
              "      <td>2016-04-12 01:00:00</td>\n",
              "      <td>160</td>\n",
              "      <td>2016-04-12</td>\n",
              "      <td>01:00:00</td>\n",
              "      <td>Tuesday</td>\n",
              "    </tr>\n",
              "    <tr>\n",
              "      <th>2</th>\n",
              "      <td>1503960366</td>\n",
              "      <td>2016-04-12 02:00:00</td>\n",
              "      <td>151</td>\n",
              "      <td>2016-04-12</td>\n",
              "      <td>02:00:00</td>\n",
              "      <td>Tuesday</td>\n",
              "    </tr>\n",
              "    <tr>\n",
              "      <th>3</th>\n",
              "      <td>1503960366</td>\n",
              "      <td>2016-04-12 03:00:00</td>\n",
              "      <td>0</td>\n",
              "      <td>2016-04-12</td>\n",
              "      <td>03:00:00</td>\n",
              "      <td>Tuesday</td>\n",
              "    </tr>\n",
              "    <tr>\n",
              "      <th>4</th>\n",
              "      <td>1503960366</td>\n",
              "      <td>2016-04-12 04:00:00</td>\n",
              "      <td>0</td>\n",
              "      <td>2016-04-12</td>\n",
              "      <td>04:00:00</td>\n",
              "      <td>Tuesday</td>\n",
              "    </tr>\n",
              "  </tbody>\n",
              "</table>\n",
              "</div>"
            ],
            "text/plain": [
              "           Id         ActivityHour  StepTotal       Date      Time      Day\n",
              "0  1503960366  2016-04-12 00:00:00        373 2016-04-12  00:00:00  Tuesday\n",
              "1  1503960366  2016-04-12 01:00:00        160 2016-04-12  01:00:00  Tuesday\n",
              "2  1503960366  2016-04-12 02:00:00        151 2016-04-12  02:00:00  Tuesday\n",
              "3  1503960366  2016-04-12 03:00:00          0 2016-04-12  03:00:00  Tuesday\n",
              "4  1503960366  2016-04-12 04:00:00          0 2016-04-12  04:00:00  Tuesday"
            ]
          },
          "metadata": {},
          "execution_count": 114
        }
      ]
    },
    {
      "cell_type": "markdown",
      "metadata": {
        "id": "87NZEJTXolE-"
      },
      "source": [
        "Daily_Sleep dataset:"
      ]
    },
    {
      "cell_type": "code",
      "metadata": {
        "colab": {
          "base_uri": "https://localhost:8080/",
          "height": 0
        },
        "id": "qceGZLNyonz0",
        "outputId": "3c601d24-e5b2-40c1-d388-68d450db6778"
      },
      "source": [
        "print(\"Sample data:\")\n",
        "d_sleep.head()"
      ],
      "execution_count": 115,
      "outputs": [
        {
          "output_type": "stream",
          "name": "stdout",
          "text": [
            "Sample data:\n"
          ]
        },
        {
          "output_type": "execute_result",
          "data": {
            "text/html": [
              "<div>\n",
              "<style scoped>\n",
              "    .dataframe tbody tr th:only-of-type {\n",
              "        vertical-align: middle;\n",
              "    }\n",
              "\n",
              "    .dataframe tbody tr th {\n",
              "        vertical-align: top;\n",
              "    }\n",
              "\n",
              "    .dataframe thead th {\n",
              "        text-align: right;\n",
              "    }\n",
              "</style>\n",
              "<table border=\"1\" class=\"dataframe\">\n",
              "  <thead>\n",
              "    <tr style=\"text-align: right;\">\n",
              "      <th></th>\n",
              "      <th>Id</th>\n",
              "      <th>SleepDay</th>\n",
              "      <th>TotalSleepRecords</th>\n",
              "      <th>TotalMinutesAsleep</th>\n",
              "      <th>TotalTimeInBed</th>\n",
              "    </tr>\n",
              "  </thead>\n",
              "  <tbody>\n",
              "    <tr>\n",
              "      <th>0</th>\n",
              "      <td>1503960366</td>\n",
              "      <td>4/12/2016 12:00:00 AM</td>\n",
              "      <td>1</td>\n",
              "      <td>327</td>\n",
              "      <td>346</td>\n",
              "    </tr>\n",
              "    <tr>\n",
              "      <th>1</th>\n",
              "      <td>1503960366</td>\n",
              "      <td>4/13/2016 12:00:00 AM</td>\n",
              "      <td>2</td>\n",
              "      <td>384</td>\n",
              "      <td>407</td>\n",
              "    </tr>\n",
              "    <tr>\n",
              "      <th>2</th>\n",
              "      <td>1503960366</td>\n",
              "      <td>4/15/2016 12:00:00 AM</td>\n",
              "      <td>1</td>\n",
              "      <td>412</td>\n",
              "      <td>442</td>\n",
              "    </tr>\n",
              "    <tr>\n",
              "      <th>3</th>\n",
              "      <td>1503960366</td>\n",
              "      <td>4/16/2016 12:00:00 AM</td>\n",
              "      <td>2</td>\n",
              "      <td>340</td>\n",
              "      <td>367</td>\n",
              "    </tr>\n",
              "    <tr>\n",
              "      <th>4</th>\n",
              "      <td>1503960366</td>\n",
              "      <td>4/17/2016 12:00:00 AM</td>\n",
              "      <td>1</td>\n",
              "      <td>700</td>\n",
              "      <td>712</td>\n",
              "    </tr>\n",
              "  </tbody>\n",
              "</table>\n",
              "</div>"
            ],
            "text/plain": [
              "           Id               SleepDay  ...  TotalMinutesAsleep  TotalTimeInBed\n",
              "0  1503960366  4/12/2016 12:00:00 AM  ...                 327             346\n",
              "1  1503960366  4/13/2016 12:00:00 AM  ...                 384             407\n",
              "2  1503960366  4/15/2016 12:00:00 AM  ...                 412             442\n",
              "3  1503960366  4/16/2016 12:00:00 AM  ...                 340             367\n",
              "4  1503960366  4/17/2016 12:00:00 AM  ...                 700             712\n",
              "\n",
              "[5 rows x 5 columns]"
            ]
          },
          "metadata": {},
          "execution_count": 115
        }
      ]
    },
    {
      "cell_type": "markdown",
      "metadata": {
        "id": "ZE9Z7KpwoxeH"
      },
      "source": [
        " Filtering useful columns"
      ]
    },
    {
      "cell_type": "code",
      "metadata": {
        "id": "8FkJXVTxou4v"
      },
      "source": [
        "d_sleep=d_sleep[[\"Id\",\"SleepDay\",\"TotalMinutesAsleep\"]]"
      ],
      "execution_count": 116,
      "outputs": []
    },
    {
      "cell_type": "code",
      "metadata": {
        "colab": {
          "base_uri": "https://localhost:8080/",
          "height": 0
        },
        "id": "cPJ-clIno2gg",
        "outputId": "ac81b8ae-a881-4107-bd56-9f2758c4d296"
      },
      "source": [
        "d_sleep.info()\n",
        "print('\\nNo. of duplicate rows=',d_sleep.duplicated().sum())\n",
        "print('Number of participants=',d_sleep.Id.nunique())\n",
        "d_sleep.describe()"
      ],
      "execution_count": 117,
      "outputs": [
        {
          "output_type": "stream",
          "name": "stdout",
          "text": [
            "<class 'pandas.core.frame.DataFrame'>\n",
            "RangeIndex: 413 entries, 0 to 412\n",
            "Data columns (total 3 columns):\n",
            " #   Column              Non-Null Count  Dtype \n",
            "---  ------              --------------  ----- \n",
            " 0   Id                  413 non-null    int64 \n",
            " 1   SleepDay            413 non-null    object\n",
            " 2   TotalMinutesAsleep  413 non-null    int64 \n",
            "dtypes: int64(2), object(1)\n",
            "memory usage: 9.8+ KB\n",
            "\n",
            "No. of duplicate rows= 3\n",
            "Number of participants= 24\n"
          ]
        },
        {
          "output_type": "execute_result",
          "data": {
            "text/html": [
              "<div>\n",
              "<style scoped>\n",
              "    .dataframe tbody tr th:only-of-type {\n",
              "        vertical-align: middle;\n",
              "    }\n",
              "\n",
              "    .dataframe tbody tr th {\n",
              "        vertical-align: top;\n",
              "    }\n",
              "\n",
              "    .dataframe thead th {\n",
              "        text-align: right;\n",
              "    }\n",
              "</style>\n",
              "<table border=\"1\" class=\"dataframe\">\n",
              "  <thead>\n",
              "    <tr style=\"text-align: right;\">\n",
              "      <th></th>\n",
              "      <th>Id</th>\n",
              "      <th>TotalMinutesAsleep</th>\n",
              "    </tr>\n",
              "  </thead>\n",
              "  <tbody>\n",
              "    <tr>\n",
              "      <th>count</th>\n",
              "      <td>4.130000e+02</td>\n",
              "      <td>413.000000</td>\n",
              "    </tr>\n",
              "    <tr>\n",
              "      <th>mean</th>\n",
              "      <td>5.000979e+09</td>\n",
              "      <td>419.467312</td>\n",
              "    </tr>\n",
              "    <tr>\n",
              "      <th>std</th>\n",
              "      <td>2.060360e+09</td>\n",
              "      <td>118.344679</td>\n",
              "    </tr>\n",
              "    <tr>\n",
              "      <th>min</th>\n",
              "      <td>1.503960e+09</td>\n",
              "      <td>58.000000</td>\n",
              "    </tr>\n",
              "    <tr>\n",
              "      <th>25%</th>\n",
              "      <td>3.977334e+09</td>\n",
              "      <td>361.000000</td>\n",
              "    </tr>\n",
              "    <tr>\n",
              "      <th>50%</th>\n",
              "      <td>4.702922e+09</td>\n",
              "      <td>433.000000</td>\n",
              "    </tr>\n",
              "    <tr>\n",
              "      <th>75%</th>\n",
              "      <td>6.962181e+09</td>\n",
              "      <td>490.000000</td>\n",
              "    </tr>\n",
              "    <tr>\n",
              "      <th>max</th>\n",
              "      <td>8.792010e+09</td>\n",
              "      <td>796.000000</td>\n",
              "    </tr>\n",
              "  </tbody>\n",
              "</table>\n",
              "</div>"
            ],
            "text/plain": [
              "                 Id  TotalMinutesAsleep\n",
              "count  4.130000e+02          413.000000\n",
              "mean   5.000979e+09          419.467312\n",
              "std    2.060360e+09          118.344679\n",
              "min    1.503960e+09           58.000000\n",
              "25%    3.977334e+09          361.000000\n",
              "50%    4.702922e+09          433.000000\n",
              "75%    6.962181e+09          490.000000\n",
              "max    8.792010e+09          796.000000"
            ]
          },
          "metadata": {},
          "execution_count": 117
        }
      ]
    },
    {
      "cell_type": "markdown",
      "metadata": {
        "id": "79lmwVIPpshy"
      },
      "source": [
        "Findings:\n",
        "\n",
        "1. Data is clean and has no wrong or null or duplicate entry.\n",
        "2. No. of participants=24\n",
        "3. SleepDay column's format needs to be converted to datetime(will be done in next cell).\n",
        "4. There are 3 duplicate entries(will be removed in next cell)."
      ]
    },
    {
      "cell_type": "code",
      "metadata": {
        "colab": {
          "base_uri": "https://localhost:8080/",
          "height": 0
        },
        "id": "00hHYJ0xpzzp",
        "outputId": "7d47a33e-45ad-46be-bbc6-968a40addaaa"
      },
      "source": [
        "d_sleep.rename(columns={\"SleepDay\":\"Date\"},inplace=True)\n",
        "d_sleep.Date=pd.to_datetime(d_sleep.Date)\n",
        "d_sleep[\"Day\"]=d_sleep.Date.dt.day_name()\n",
        "print(\"Sample Processed Data:\")\n",
        "d_sleep.drop_duplicates(inplace=True)\n",
        "d_sleep.head()"
      ],
      "execution_count": 118,
      "outputs": [
        {
          "output_type": "stream",
          "name": "stdout",
          "text": [
            "Sample Processed Data:\n"
          ]
        },
        {
          "output_type": "execute_result",
          "data": {
            "text/html": [
              "<div>\n",
              "<style scoped>\n",
              "    .dataframe tbody tr th:only-of-type {\n",
              "        vertical-align: middle;\n",
              "    }\n",
              "\n",
              "    .dataframe tbody tr th {\n",
              "        vertical-align: top;\n",
              "    }\n",
              "\n",
              "    .dataframe thead th {\n",
              "        text-align: right;\n",
              "    }\n",
              "</style>\n",
              "<table border=\"1\" class=\"dataframe\">\n",
              "  <thead>\n",
              "    <tr style=\"text-align: right;\">\n",
              "      <th></th>\n",
              "      <th>Id</th>\n",
              "      <th>Date</th>\n",
              "      <th>TotalMinutesAsleep</th>\n",
              "      <th>Day</th>\n",
              "    </tr>\n",
              "  </thead>\n",
              "  <tbody>\n",
              "    <tr>\n",
              "      <th>0</th>\n",
              "      <td>1503960366</td>\n",
              "      <td>2016-04-12</td>\n",
              "      <td>327</td>\n",
              "      <td>Tuesday</td>\n",
              "    </tr>\n",
              "    <tr>\n",
              "      <th>1</th>\n",
              "      <td>1503960366</td>\n",
              "      <td>2016-04-13</td>\n",
              "      <td>384</td>\n",
              "      <td>Wednesday</td>\n",
              "    </tr>\n",
              "    <tr>\n",
              "      <th>2</th>\n",
              "      <td>1503960366</td>\n",
              "      <td>2016-04-15</td>\n",
              "      <td>412</td>\n",
              "      <td>Friday</td>\n",
              "    </tr>\n",
              "    <tr>\n",
              "      <th>3</th>\n",
              "      <td>1503960366</td>\n",
              "      <td>2016-04-16</td>\n",
              "      <td>340</td>\n",
              "      <td>Saturday</td>\n",
              "    </tr>\n",
              "    <tr>\n",
              "      <th>4</th>\n",
              "      <td>1503960366</td>\n",
              "      <td>2016-04-17</td>\n",
              "      <td>700</td>\n",
              "      <td>Sunday</td>\n",
              "    </tr>\n",
              "  </tbody>\n",
              "</table>\n",
              "</div>"
            ],
            "text/plain": [
              "           Id       Date  TotalMinutesAsleep        Day\n",
              "0  1503960366 2016-04-12                 327    Tuesday\n",
              "1  1503960366 2016-04-13                 384  Wednesday\n",
              "2  1503960366 2016-04-15                 412     Friday\n",
              "3  1503960366 2016-04-16                 340   Saturday\n",
              "4  1503960366 2016-04-17                 700     Sunday"
            ]
          },
          "metadata": {},
          "execution_count": 118
        }
      ]
    },
    {
      "cell_type": "markdown",
      "metadata": {
        "id": "bvt97CtOp42f"
      },
      "source": [
        "**Weights dataset:**"
      ]
    },
    {
      "cell_type": "code",
      "metadata": {
        "colab": {
          "base_uri": "https://localhost:8080/",
          "height": 0
        },
        "id": "CWSBkY2tqBpM",
        "outputId": "ce3a3815-6ed1-4c9b-b343-bef868f68ec4"
      },
      "source": [
        "print(\"Sample Data:\")\n",
        "weight.head()"
      ],
      "execution_count": 119,
      "outputs": [
        {
          "output_type": "stream",
          "name": "stdout",
          "text": [
            "Sample Data:\n"
          ]
        },
        {
          "output_type": "execute_result",
          "data": {
            "text/html": [
              "<div>\n",
              "<style scoped>\n",
              "    .dataframe tbody tr th:only-of-type {\n",
              "        vertical-align: middle;\n",
              "    }\n",
              "\n",
              "    .dataframe tbody tr th {\n",
              "        vertical-align: top;\n",
              "    }\n",
              "\n",
              "    .dataframe thead th {\n",
              "        text-align: right;\n",
              "    }\n",
              "</style>\n",
              "<table border=\"1\" class=\"dataframe\">\n",
              "  <thead>\n",
              "    <tr style=\"text-align: right;\">\n",
              "      <th></th>\n",
              "      <th>Id</th>\n",
              "      <th>Date</th>\n",
              "      <th>WeightKg</th>\n",
              "      <th>WeightPounds</th>\n",
              "      <th>Fat</th>\n",
              "      <th>BMI</th>\n",
              "      <th>IsManualReport</th>\n",
              "      <th>LogId</th>\n",
              "    </tr>\n",
              "  </thead>\n",
              "  <tbody>\n",
              "    <tr>\n",
              "      <th>0</th>\n",
              "      <td>1503960366</td>\n",
              "      <td>5/2/2016 11:59:59 PM</td>\n",
              "      <td>52.599998</td>\n",
              "      <td>115.963147</td>\n",
              "      <td>22.0</td>\n",
              "      <td>22.650000</td>\n",
              "      <td>True</td>\n",
              "      <td>1462233599000</td>\n",
              "    </tr>\n",
              "    <tr>\n",
              "      <th>1</th>\n",
              "      <td>1503960366</td>\n",
              "      <td>5/3/2016 11:59:59 PM</td>\n",
              "      <td>52.599998</td>\n",
              "      <td>115.963147</td>\n",
              "      <td>NaN</td>\n",
              "      <td>22.650000</td>\n",
              "      <td>True</td>\n",
              "      <td>1462319999000</td>\n",
              "    </tr>\n",
              "    <tr>\n",
              "      <th>2</th>\n",
              "      <td>1927972279</td>\n",
              "      <td>4/13/2016 1:08:52 AM</td>\n",
              "      <td>133.500000</td>\n",
              "      <td>294.317120</td>\n",
              "      <td>NaN</td>\n",
              "      <td>47.540001</td>\n",
              "      <td>False</td>\n",
              "      <td>1460509732000</td>\n",
              "    </tr>\n",
              "    <tr>\n",
              "      <th>3</th>\n",
              "      <td>2873212765</td>\n",
              "      <td>4/21/2016 11:59:59 PM</td>\n",
              "      <td>56.700001</td>\n",
              "      <td>125.002104</td>\n",
              "      <td>NaN</td>\n",
              "      <td>21.450001</td>\n",
              "      <td>True</td>\n",
              "      <td>1461283199000</td>\n",
              "    </tr>\n",
              "    <tr>\n",
              "      <th>4</th>\n",
              "      <td>2873212765</td>\n",
              "      <td>5/12/2016 11:59:59 PM</td>\n",
              "      <td>57.299999</td>\n",
              "      <td>126.324875</td>\n",
              "      <td>NaN</td>\n",
              "      <td>21.690001</td>\n",
              "      <td>True</td>\n",
              "      <td>1463097599000</td>\n",
              "    </tr>\n",
              "  </tbody>\n",
              "</table>\n",
              "</div>"
            ],
            "text/plain": [
              "           Id                   Date  ...  IsManualReport          LogId\n",
              "0  1503960366   5/2/2016 11:59:59 PM  ...            True  1462233599000\n",
              "1  1503960366   5/3/2016 11:59:59 PM  ...            True  1462319999000\n",
              "2  1927972279   4/13/2016 1:08:52 AM  ...           False  1460509732000\n",
              "3  2873212765  4/21/2016 11:59:59 PM  ...            True  1461283199000\n",
              "4  2873212765  5/12/2016 11:59:59 PM  ...            True  1463097599000\n",
              "\n",
              "[5 rows x 8 columns]"
            ]
          },
          "metadata": {},
          "execution_count": 119
        }
      ]
    },
    {
      "cell_type": "code",
      "metadata": {
        "colab": {
          "base_uri": "https://localhost:8080/",
          "height": 0
        },
        "id": "w3-3VqBbtRIJ",
        "outputId": "ca5809c9-69d1-45a9-b80c-b6754be38f18"
      },
      "source": [
        "weight.info()\n",
        "print('\\nNo. of duplicate rows=',weight.duplicated().sum())\n",
        "print('Number of participants=',weight.Id.nunique())\n",
        "weight.describe()"
      ],
      "execution_count": 120,
      "outputs": [
        {
          "output_type": "stream",
          "name": "stdout",
          "text": [
            "<class 'pandas.core.frame.DataFrame'>\n",
            "RangeIndex: 67 entries, 0 to 66\n",
            "Data columns (total 8 columns):\n",
            " #   Column          Non-Null Count  Dtype  \n",
            "---  ------          --------------  -----  \n",
            " 0   Id              67 non-null     int64  \n",
            " 1   Date            67 non-null     object \n",
            " 2   WeightKg        67 non-null     float64\n",
            " 3   WeightPounds    67 non-null     float64\n",
            " 4   Fat             2 non-null      float64\n",
            " 5   BMI             67 non-null     float64\n",
            " 6   IsManualReport  67 non-null     bool   \n",
            " 7   LogId           67 non-null     int64  \n",
            "dtypes: bool(1), float64(4), int64(2), object(1)\n",
            "memory usage: 3.9+ KB\n",
            "\n",
            "No. of duplicate rows= 0\n",
            "Number of participants= 8\n"
          ]
        },
        {
          "output_type": "execute_result",
          "data": {
            "text/html": [
              "<div>\n",
              "<style scoped>\n",
              "    .dataframe tbody tr th:only-of-type {\n",
              "        vertical-align: middle;\n",
              "    }\n",
              "\n",
              "    .dataframe tbody tr th {\n",
              "        vertical-align: top;\n",
              "    }\n",
              "\n",
              "    .dataframe thead th {\n",
              "        text-align: right;\n",
              "    }\n",
              "</style>\n",
              "<table border=\"1\" class=\"dataframe\">\n",
              "  <thead>\n",
              "    <tr style=\"text-align: right;\">\n",
              "      <th></th>\n",
              "      <th>Id</th>\n",
              "      <th>WeightKg</th>\n",
              "      <th>WeightPounds</th>\n",
              "      <th>Fat</th>\n",
              "      <th>BMI</th>\n",
              "      <th>LogId</th>\n",
              "    </tr>\n",
              "  </thead>\n",
              "  <tbody>\n",
              "    <tr>\n",
              "      <th>count</th>\n",
              "      <td>6.700000e+01</td>\n",
              "      <td>67.000000</td>\n",
              "      <td>67.000000</td>\n",
              "      <td>2.00000</td>\n",
              "      <td>67.000000</td>\n",
              "      <td>6.700000e+01</td>\n",
              "    </tr>\n",
              "    <tr>\n",
              "      <th>mean</th>\n",
              "      <td>7.009282e+09</td>\n",
              "      <td>72.035821</td>\n",
              "      <td>158.811801</td>\n",
              "      <td>23.50000</td>\n",
              "      <td>25.185224</td>\n",
              "      <td>1.461772e+12</td>\n",
              "    </tr>\n",
              "    <tr>\n",
              "      <th>std</th>\n",
              "      <td>1.950322e+09</td>\n",
              "      <td>13.923206</td>\n",
              "      <td>30.695415</td>\n",
              "      <td>2.12132</td>\n",
              "      <td>3.066963</td>\n",
              "      <td>7.829948e+08</td>\n",
              "    </tr>\n",
              "    <tr>\n",
              "      <th>min</th>\n",
              "      <td>1.503960e+09</td>\n",
              "      <td>52.599998</td>\n",
              "      <td>115.963147</td>\n",
              "      <td>22.00000</td>\n",
              "      <td>21.450001</td>\n",
              "      <td>1.460444e+12</td>\n",
              "    </tr>\n",
              "    <tr>\n",
              "      <th>25%</th>\n",
              "      <td>6.962181e+09</td>\n",
              "      <td>61.400002</td>\n",
              "      <td>135.363832</td>\n",
              "      <td>22.75000</td>\n",
              "      <td>23.959999</td>\n",
              "      <td>1.461079e+12</td>\n",
              "    </tr>\n",
              "    <tr>\n",
              "      <th>50%</th>\n",
              "      <td>6.962181e+09</td>\n",
              "      <td>62.500000</td>\n",
              "      <td>137.788914</td>\n",
              "      <td>23.50000</td>\n",
              "      <td>24.389999</td>\n",
              "      <td>1.461802e+12</td>\n",
              "    </tr>\n",
              "    <tr>\n",
              "      <th>75%</th>\n",
              "      <td>8.877689e+09</td>\n",
              "      <td>85.049999</td>\n",
              "      <td>187.503152</td>\n",
              "      <td>24.25000</td>\n",
              "      <td>25.559999</td>\n",
              "      <td>1.462375e+12</td>\n",
              "    </tr>\n",
              "    <tr>\n",
              "      <th>max</th>\n",
              "      <td>8.877689e+09</td>\n",
              "      <td>133.500000</td>\n",
              "      <td>294.317120</td>\n",
              "      <td>25.00000</td>\n",
              "      <td>47.540001</td>\n",
              "      <td>1.463098e+12</td>\n",
              "    </tr>\n",
              "  </tbody>\n",
              "</table>\n",
              "</div>"
            ],
            "text/plain": [
              "                 Id    WeightKg  ...        BMI         LogId\n",
              "count  6.700000e+01   67.000000  ...  67.000000  6.700000e+01\n",
              "mean   7.009282e+09   72.035821  ...  25.185224  1.461772e+12\n",
              "std    1.950322e+09   13.923206  ...   3.066963  7.829948e+08\n",
              "min    1.503960e+09   52.599998  ...  21.450001  1.460444e+12\n",
              "25%    6.962181e+09   61.400002  ...  23.959999  1.461079e+12\n",
              "50%    6.962181e+09   62.500000  ...  24.389999  1.461802e+12\n",
              "75%    8.877689e+09   85.049999  ...  25.559999  1.462375e+12\n",
              "max    8.877689e+09  133.500000  ...  47.540001  1.463098e+12\n",
              "\n",
              "[8 rows x 6 columns]"
            ]
          },
          "metadata": {},
          "execution_count": 120
        }
      ]
    },
    {
      "cell_type": "markdown",
      "metadata": {
        "id": "JJwtDV4RtVo2"
      },
      "source": [
        "Findings:\n",
        "\n",
        "1. Data is clean and has no wrong or null or duplicate entry.\n",
        "2. No. of participants=8 We need atleast 30 data points for having considerable accuracy of the analysis. Since, we have only 8 participants' data so analyzing it wouldn't give accurate resuts so lets ignore this dataset."
      ]
    },
    {
      "cell_type": "markdown",
      "metadata": {
        "id": "vLDlWzSVtmvY"
      },
      "source": [
        "**Identify interesting facts,trend and relationships:**\n",
        "\n",
        "Now lets analyze the processed data to find some interesting insights."
      ]
    },
    {
      "cell_type": "code",
      "metadata": {
        "id": "jTjoVK57th1a"
      },
      "source": [
        "d_act[\"Active_Score\"]=d_act.VeryActiveMinutes*0.4+d_act.FairlyActiveMinutes*0.2+d_act.LightlyActiveMinutes*0.1\n",
        "u_act=pd.merge(d_act,d_sleep,left_on=['Id','ActivityDate'],right_on=['Id','Date'])"
      ],
      "execution_count": 121,
      "outputs": []
    },
    {
      "cell_type": "markdown",
      "metadata": {
        "id": "GF8FbNnLtz1I"
      },
      "source": [
        "Developed a relative matrix named Active_Score that adds up the matrices :- VeryActiveMinutes, FairlyActiveMinutes, LightlyActiveMinutes in the ratio 4:2:1. This will help us analyze other matrices with respect to activesness of people with ease."
      ]
    },
    {
      "cell_type": "markdown",
      "metadata": {
        "id": "_s2T70R5t4OC"
      },
      "source": [
        "As Sunday is a holiday let's see if we can find any significant effect of it on people's activity.(Here we will compare mean of all matrices of week days excluding Sunday with that of Sunday)"
      ]
    },
    {
      "cell_type": "code",
      "metadata": {
        "colab": {
          "base_uri": "https://localhost:8080/",
          "height": 0
        },
        "id": "fLnx_yjWt8RW",
        "outputId": "44979173-9e22-408a-ba9f-1fa3075d24ac"
      },
      "source": [
        "u_sleep=d_sleep[[\"TotalMinutesAsleep\",\"Day\"]].groupby(\"Day\").mean().reset_index()\n",
        "u_sleep.TotalMinutesAsleep=round(u_sleep.TotalMinutesAsleep/60,2)\n",
        "u_sleep.rename(columns={\"TotalMinutesAsleep\":\"Sleep_hours\"},inplace=True)\n",
        "u_sleep=u_sleep.sort_values(by=[\"Sleep_hours\"],ascending=False).reset_index(drop=True)\n",
        "print(\"Mean of Sleep_hours of all weekdays except Sunday=\",round(u_sleep[\"Sleep_hours\"][u_sleep.Day!=\"Sunday\"].mean(),1))\n",
        "u_sleep"
      ],
      "execution_count": 122,
      "outputs": [
        {
          "output_type": "stream",
          "name": "stdout",
          "text": [
            "Mean of Sleep_hours of all weekdays except Sunday= 6.9\n"
          ]
        },
        {
          "output_type": "execute_result",
          "data": {
            "text/html": [
              "<div>\n",
              "<style scoped>\n",
              "    .dataframe tbody tr th:only-of-type {\n",
              "        vertical-align: middle;\n",
              "    }\n",
              "\n",
              "    .dataframe tbody tr th {\n",
              "        vertical-align: top;\n",
              "    }\n",
              "\n",
              "    .dataframe thead th {\n",
              "        text-align: right;\n",
              "    }\n",
              "</style>\n",
              "<table border=\"1\" class=\"dataframe\">\n",
              "  <thead>\n",
              "    <tr style=\"text-align: right;\">\n",
              "      <th></th>\n",
              "      <th>Day</th>\n",
              "      <th>Sleep_hours</th>\n",
              "    </tr>\n",
              "  </thead>\n",
              "  <tbody>\n",
              "    <tr>\n",
              "      <th>0</th>\n",
              "      <td>Sunday</td>\n",
              "      <td>7.55</td>\n",
              "    </tr>\n",
              "    <tr>\n",
              "      <th>1</th>\n",
              "      <td>Wednesday</td>\n",
              "      <td>7.24</td>\n",
              "    </tr>\n",
              "    <tr>\n",
              "      <th>2</th>\n",
              "      <td>Monday</td>\n",
              "      <td>6.99</td>\n",
              "    </tr>\n",
              "    <tr>\n",
              "      <th>3</th>\n",
              "      <td>Saturday</td>\n",
              "      <td>6.98</td>\n",
              "    </tr>\n",
              "    <tr>\n",
              "      <th>4</th>\n",
              "      <td>Friday</td>\n",
              "      <td>6.76</td>\n",
              "    </tr>\n",
              "    <tr>\n",
              "      <th>5</th>\n",
              "      <td>Tuesday</td>\n",
              "      <td>6.74</td>\n",
              "    </tr>\n",
              "    <tr>\n",
              "      <th>6</th>\n",
              "      <td>Thursday</td>\n",
              "      <td>6.69</td>\n",
              "    </tr>\n",
              "  </tbody>\n",
              "</table>\n",
              "</div>"
            ],
            "text/plain": [
              "         Day  Sleep_hours\n",
              "0     Sunday         7.55\n",
              "1  Wednesday         7.24\n",
              "2     Monday         6.99\n",
              "3   Saturday         6.98\n",
              "4     Friday         6.76\n",
              "5    Tuesday         6.74\n",
              "6   Thursday         6.69"
            ]
          },
          "metadata": {},
          "execution_count": 122
        }
      ]
    },
    {
      "cell_type": "markdown",
      "metadata": {
        "id": "huLsBOTvuDBJ"
      },
      "source": [
        "People generally sleep 40 min extra on Sunday which is equivalent to 9.4% more as compared to other days."
      ]
    },
    {
      "cell_type": "markdown",
      "metadata": {
        "id": "VJFCe83cuJoz"
      },
      "source": [
        "Lets find out how other matrices differ on Sunday:"
      ]
    },
    {
      "cell_type": "code",
      "metadata": {
        "id": "yxhkf0yVuLcc"
      },
      "source": [
        "import warnings\n",
        "warnings.filterwarnings(\"ignore\") #To avoid unnecessary warnings"
      ],
      "execution_count": 123,
      "outputs": []
    },
    {
      "cell_type": "code",
      "metadata": {
        "colab": {
          "base_uri": "https://localhost:8080/"
        },
        "id": "O1dbuCe9uP37",
        "outputId": "68f77531-e45f-4f5c-ad41-701cf8a34378"
      },
      "source": [
        "sd_act=d_act[d_act.TotalSteps>0]\n",
        "sd_act=sd_act[d_act.Calories>0]\n",
        "print(\"Filtered out the data containg TotalSteps and Calories as 0.\")"
      ],
      "execution_count": 124,
      "outputs": [
        {
          "output_type": "stream",
          "name": "stdout",
          "text": [
            "Filtered out the data containg TotalSteps and Calories as 0.\n"
          ]
        }
      ]
    },
    {
      "cell_type": "code",
      "metadata": {
        "colab": {
          "base_uri": "https://localhost:8080/"
        },
        "id": "EFBasF1huP0k",
        "outputId": "0c531472-b2e4-467d-e021-1b52ae2d25ff"
      },
      "source": [
        "week_sd_act=sd_act[sd_act.columns.difference([\"Id\",\"ActivityDate\"])].groupby(\"Day\").mean().reset_index()\n",
        "print(\"Average of matrices of all days except Sunday:\")\n",
        "round(week_sd_act[[\"Active_Score\",\"Calories\",\"SedentaryMinutes\",\"TotalDistance\",\"TotalSteps\"]][week_sd_act.Day!=\"Sunday\"].mean(),1)"
      ],
      "execution_count": 125,
      "outputs": [
        {
          "output_type": "stream",
          "name": "stdout",
          "text": [
            "Average of matrices of all days except Sunday:\n"
          ]
        },
        {
          "output_type": "execute_result",
          "data": {
            "text/plain": [
              "Active_Score          33.5\n",
              "Calories            2370.1\n",
              "SedentaryMinutes     957.8\n",
              "TotalDistance          6.0\n",
              "TotalSteps          8424.6\n",
              "dtype: float64"
            ]
          },
          "metadata": {},
          "execution_count": 125
        }
      ]
    },
    {
      "cell_type": "code",
      "metadata": {
        "colab": {
          "base_uri": "https://localhost:8080/",
          "height": 0
        },
        "id": "o-53O_RRuPrb",
        "outputId": "922ff79c-cb59-46fd-91d5-0178be3bcffd"
      },
      "source": [
        "round(week_sd_act[[\"Day\",\"Active_Score\",\"Calories\",\"SedentaryMinutes\",\"TotalDistance\",\"TotalSteps\"]][week_sd_act.Day==\"Sunday\"],1)"
      ],
      "execution_count": 126,
      "outputs": [
        {
          "output_type": "execute_result",
          "data": {
            "text/html": [
              "<div>\n",
              "<style scoped>\n",
              "    .dataframe tbody tr th:only-of-type {\n",
              "        vertical-align: middle;\n",
              "    }\n",
              "\n",
              "    .dataframe tbody tr th {\n",
              "        vertical-align: top;\n",
              "    }\n",
              "\n",
              "    .dataframe thead th {\n",
              "        text-align: right;\n",
              "    }\n",
              "</style>\n",
              "<table border=\"1\" class=\"dataframe\">\n",
              "  <thead>\n",
              "    <tr style=\"text-align: right;\">\n",
              "      <th></th>\n",
              "      <th>Day</th>\n",
              "      <th>Active_Score</th>\n",
              "      <th>Calories</th>\n",
              "      <th>SedentaryMinutes</th>\n",
              "      <th>TotalDistance</th>\n",
              "      <th>TotalSteps</th>\n",
              "    </tr>\n",
              "  </thead>\n",
              "  <tbody>\n",
              "    <tr>\n",
              "      <th>3</th>\n",
              "      <td>Sunday</td>\n",
              "      <td>31.1</td>\n",
              "      <td>2310.9</td>\n",
              "      <td>945.3</td>\n",
              "      <td>5.5</td>\n",
              "      <td>7626.6</td>\n",
              "    </tr>\n",
              "  </tbody>\n",
              "</table>\n",
              "</div>"
            ],
            "text/plain": [
              "      Day  Active_Score  Calories  SedentaryMinutes  TotalDistance  TotalSteps\n",
              "3  Sunday          31.1    2310.9             945.3            5.5      7626.6"
            ]
          },
          "metadata": {},
          "execution_count": 126
        }
      ]
    },
    {
      "cell_type": "markdown",
      "metadata": {
        "id": "ker0Zmt5ubiL"
      },
      "source": [
        "There is a significant differences in Active_Score, Calories, TotalDistance and TotalSteps. So lets analyze them:"
      ]
    },
    {
      "cell_type": "code",
      "metadata": {
        "colab": {
          "base_uri": "https://localhost:8080/",
          "height": 0
        },
        "id": "c-B4A6uquPX-",
        "outputId": "646ab51f-02b3-4237-8039-04cfa49ac899"
      },
      "source": [
        "week_sd_act[[\"Day\",\"Active_Score\",\"Calories\",\"TotalDistance\",\"TotalSteps\"]]"
      ],
      "execution_count": 127,
      "outputs": [
        {
          "output_type": "execute_result",
          "data": {
            "text/html": [
              "<div>\n",
              "<style scoped>\n",
              "    .dataframe tbody tr th:only-of-type {\n",
              "        vertical-align: middle;\n",
              "    }\n",
              "\n",
              "    .dataframe tbody tr th {\n",
              "        vertical-align: top;\n",
              "    }\n",
              "\n",
              "    .dataframe thead th {\n",
              "        text-align: right;\n",
              "    }\n",
              "</style>\n",
              "<table border=\"1\" class=\"dataframe\">\n",
              "  <thead>\n",
              "    <tr style=\"text-align: right;\">\n",
              "      <th></th>\n",
              "      <th>Day</th>\n",
              "      <th>Active_Score</th>\n",
              "      <th>Calories</th>\n",
              "      <th>TotalDistance</th>\n",
              "      <th>TotalSteps</th>\n",
              "    </tr>\n",
              "  </thead>\n",
              "  <tbody>\n",
              "    <tr>\n",
              "      <th>0</th>\n",
              "      <td>Friday</td>\n",
              "      <td>32.407500</td>\n",
              "      <td>2351.608333</td>\n",
              "      <td>5.575417</td>\n",
              "      <td>7820.641667</td>\n",
              "    </tr>\n",
              "    <tr>\n",
              "      <th>1</th>\n",
              "      <td>Monday</td>\n",
              "      <td>34.090000</td>\n",
              "      <td>2385.618182</td>\n",
              "      <td>6.057727</td>\n",
              "      <td>8488.218182</td>\n",
              "    </tr>\n",
              "    <tr>\n",
              "      <th>2</th>\n",
              "      <td>Saturday</td>\n",
              "      <td>35.571681</td>\n",
              "      <td>2428.752212</td>\n",
              "      <td>6.424602</td>\n",
              "      <td>8946.628319</td>\n",
              "    </tr>\n",
              "    <tr>\n",
              "      <th>3</th>\n",
              "      <td>Sunday</td>\n",
              "      <td>31.126364</td>\n",
              "      <td>2310.927273</td>\n",
              "      <td>5.529909</td>\n",
              "      <td>7626.554545</td>\n",
              "    </tr>\n",
              "    <tr>\n",
              "      <th>4</th>\n",
              "      <td>Thursday</td>\n",
              "      <td>31.718045</td>\n",
              "      <td>2274.436090</td>\n",
              "      <td>5.871429</td>\n",
              "      <td>8185.398496</td>\n",
              "    </tr>\n",
              "    <tr>\n",
              "      <th>5</th>\n",
              "      <td>Tuesday</td>\n",
              "      <td>35.007246</td>\n",
              "      <td>2440.978261</td>\n",
              "      <td>6.423913</td>\n",
              "      <td>8949.282609</td>\n",
              "    </tr>\n",
              "    <tr>\n",
              "      <th>6</th>\n",
              "      <td>Wednesday</td>\n",
              "      <td>32.284892</td>\n",
              "      <td>2339.431655</td>\n",
              "      <td>5.922662</td>\n",
              "      <td>8157.597122</td>\n",
              "    </tr>\n",
              "  </tbody>\n",
              "</table>\n",
              "</div>"
            ],
            "text/plain": [
              "         Day  Active_Score     Calories  TotalDistance   TotalSteps\n",
              "0     Friday     32.407500  2351.608333       5.575417  7820.641667\n",
              "1     Monday     34.090000  2385.618182       6.057727  8488.218182\n",
              "2   Saturday     35.571681  2428.752212       6.424602  8946.628319\n",
              "3     Sunday     31.126364  2310.927273       5.529909  7626.554545\n",
              "4   Thursday     31.718045  2274.436090       5.871429  8185.398496\n",
              "5    Tuesday     35.007246  2440.978261       6.423913  8949.282609\n",
              "6  Wednesday     32.284892  2339.431655       5.922662  8157.597122"
            ]
          },
          "metadata": {},
          "execution_count": 127
        }
      ]
    },
    {
      "cell_type": "markdown",
      "metadata": {
        "id": "13WfIGgsuu4e"
      },
      "source": [
        "Findings:\n",
        "\n",
        "1. People travel 8.3% less on Sunday as compared to other days.\n",
        "2. People walk 9.5% less on Sunday as compared to other days.\n",
        "3. For other matrices Data for Sunday is not significantly different."
      ]
    },
    {
      "cell_type": "code",
      "metadata": {
        "colab": {
          "base_uri": "https://localhost:8080/",
          "height": 0
        },
        "id": "f4rIKbbi7-o7",
        "outputId": "8c1dd3b4-1f8d-4105-ca52-9e3320a62e06"
      },
      "source": [
        "sd_act=d_act[d_act.TotalSteps>0]\n",
        "id_act=sd_act.groupby(sd_act.Id).mean().reset_index() #Used filtered data with TotalSteps >0\n",
        "print((id_act.TotalSteps<7500).sum(),\"people out of 33 walk less than 7500 steps a day\")\n",
        "print(\"\\n\")\n",
        "plt.hist(id_act.TotalSteps,bins=15)\n",
        "plt.xlabel(\"Total_Steps\")\n",
        "plt.ylabel(\"No. of people\")\n",
        "plt.title(\"No. of people vs Steps they walk\");"
      ],
      "execution_count": 128,
      "outputs": [
        {
          "output_type": "stream",
          "name": "stdout",
          "text": [
            "16 people out of 33 walk less than 7500 steps a day\n",
            "\n",
            "\n"
          ]
        },
        {
          "output_type": "display_data",
          "data": {
            "image/png": "[encoded data removed]",
            "text/plain": [
              "<Figure size 432x288 with 1 Axes>"
            ]
          },
          "metadata": {
            "needs_background": "light"
          }
        }
      ]
    },
    {
      "cell_type": "markdown",
      "metadata": {
        "id": "Z9w8j-YA8GBZ"
      },
      "source": [
        "**16 out of 33 users take less than 7500 steps which is equivalent to 48.5%.** This seems to be a major concern and I think we should try to address this.\n",
        "\n",
        "Suggesstions:\n",
        "\n",
        "1. Notify frequently with the number of steps left to complete daily quota. Frequency can be increased for people having record of walking less.\n",
        "2. To develop an algorithm that will notify people at evening or at night to go for an walk if their step count is less than 7500."
      ]
    },
    {
      "cell_type": "code",
      "metadata": {
        "colab": {
          "base_uri": "https://localhost:8080/",
          "height": 0
        },
        "id": "74iSpbhd8UrR",
        "outputId": "b1021734-98e8-46c3-ff6e-ee54065da5b1"
      },
      "source": [
        "data=[u_act.SedentaryMinutes.mean(),u_act.TotalMinutesAsleep.mean(),u_act.LightlyActiveMinutes.mean(),u_act.FairlyActiveMinutes.mean(),u_act.VeryActiveMinutes.mean()]\n",
        "labels=[\"Sedentary time\",\"Sleep time\",\"Lightly active time\",\"Fairly active minutes\",\"Very active minutes\"]\n",
        "plt.pie(x=data,autopct=\"%.1f%%\",explode=[0.05]*5, labels=labels, pctdistance=0.8)\n",
        "plt.title(\"Time Expenditure\");"
      ],
      "execution_count": 129,
      "outputs": [
        {
          "output_type": "display_data",
          "data": {
            "image/png": "[encoded data removed]",
            "text/plain": [
              "<Figure size 432x288 with 1 Axes>"
            ]
          },
          "metadata": {}
        }
      ]
    },
    {
      "cell_type": "markdown",
      "metadata": {
        "id": "c0tgZ-TL8ZxM"
      },
      "source": [
        "**Findings:**\n",
        "1. On average people are sleeping 30% of total time which comes out to be 7.2 hours which is good.\n",
        "2. Sedentary time is 51% that is approx 12 hours. This time needs to be decrease as spending too much time in sedentary have very bad effect on health."
      ]
    },
    {
      "cell_type": "markdown",
      "metadata": {
        "id": "R3JxtGdl8nk_"
      },
      "source": [
        "Let's study effect of number of steps on Calories burned along with the activeness of the people."
      ]
    },
    {
      "cell_type": "code",
      "metadata": {
        "colab": {
          "base_uri": "https://localhost:8080/",
          "height": 0
        },
        "id": "o7TSvc6c8pCM",
        "outputId": "b444ae74-4769-4a40-ee63-91a576a9a2ed"
      },
      "source": [
        "g=sns.scatterplot(x=d_act.TotalSteps,y=d_act.Calories,hue=d_act.Active_Score);\n",
        "g.set(xlabel=\"Daily Steps\",ylabel=\"Daily Calories\",title=\"Calories burnt vs Steps walked on daily basis.\");"
      ],
      "execution_count": 130,
      "outputs": [
        {
          "output_type": "display_data",
          "data": {
            "image/png": "[encoded data removed]",
            "text/plain": [
              "<Figure size 432x288 with 1 Axes>"
            ]
          },
          "metadata": {
            "needs_background": "light"
          }
        }
      ]
    },
    {
      "cell_type": "markdown",
      "metadata": {
        "id": "wVesT27C80y8"
      },
      "source": [
        "**Findings:**\n",
        "\n",
        "1. Positive correlation has been found between Daily steps and calories.\n",
        "2. Activeness tends to increase with more number of calories burned or with more number of steps.\n",
        "3. Increase in activeness with increase in calories is observed between 10000-15000 daily steps. This shows that people with higher activity score are more fit and healthy."
      ]
    },
    {
      "cell_type": "markdown",
      "metadata": {
        "id": "Rv44nwYp9XDX"
      },
      "source": [
        "Now let's visualize the graph of Variation in Calories burnt during the day to get most active periods in a day."
      ]
    },
    {
      "cell_type": "code",
      "metadata": {
        "colab": {
          "base_uri": "https://localhost:8080/",
          "height": 0
        },
        "id": "B9qaE_Db9Yt_",
        "outputId": "d7ad1c88-278a-401f-f5d8-f0ec612142a3"
      },
      "source": [
        "u_h_cal=h_cal[['Time','Calories']].groupby('Time').mean().reset_index()\n",
        "plt.plot(u_h_cal.Time,u_h_cal.Calories)\n",
        "plt.ylim(ymin=0)\n",
        "plt.xticks(rotation=90)\n",
        "plt.grid(True)\n",
        "plt.xlabel(\"Time\")\n",
        "plt.ylabel(\"Calories\");\n",
        "plt.title(\"Variation of Calories burnt during whole day\");"
      ],
      "execution_count": 131,
      "outputs": [
        {
          "output_type": "display_data",
          "data": {
            "image/png": "[encoded data removed]",
            "text/plain": [
              "<Figure size 432x288 with 1 Axes>"
            ]
          },
          "metadata": {
            "needs_background": "light"
          }
        }
      ]
    },
    {
      "cell_type": "markdown",
      "metadata": {
        "id": "ZS7OIDff-kEk"
      },
      "source": [
        "**Findings:**\n",
        "\n",
        "1. Activeness tends to increase steadly from 4am to 12pm since graph goes on rising in this period. This signifies that generally people start to wake up between 4am-5am.\n",
        "2. From 12pm to 3pm people tend to decrease their activites.This may signify that people start feeling tired from 12pm.\n",
        "3. Drastic decrease in calories burned between 2pm to 3pm which may be due to relaxation after lunch.\n",
        "4. People again tend to become more active from 3 pm till 7 pm with peak period from 5 pm to 7 pm. This may due to increased recreational activities in evening."
      ]
    },
    {
      "cell_type": "markdown",
      "metadata": {
        "id": "zM_pvNWT-wPm"
      },
      "source": [
        "**Suggesstions:**\n",
        "\n",
        "1. We can send motivational notification to exercise at around 5pm and 5am.\n",
        "2. We can also send notification around 12pm to do any simple recreational activity (eg. drink water, breath exercise, recreational break or walk) so people get fresh."
      ]
    },
    {
      "cell_type": "markdown",
      "metadata": {
        "id": "efkzZPp4-6Ij"
      },
      "source": [
        "Now let's see effect of sedentary on sleep quality:"
      ]
    },
    {
      "cell_type": "code",
      "metadata": {
        "colab": {
          "base_uri": "https://localhost:8080/",
          "height": 0
        },
        "id": "YgvKSY2n9Yqd",
        "outputId": "53db7819-e8c3-4e3f-ec0f-b366982e2768"
      },
      "source": [
        "g=sns.scatterplot(x=u_act.TotalMinutesAsleep/60,y=u_act.SedentaryMinutes/60,hue=u_act.Active_Score)\n",
        "sns.set_style('whitegrid')\n",
        "g.set(xlabel='Sleep_hours',ylabel='Sedentary_hours',title=\"Sedentary hours vs Sleep hours\")\n",
        "sns.set_style(\"whitegrid\");"
      ],
      "execution_count": 132,
      "outputs": [
        {
          "output_type": "display_data",
          "data": {
            "image/png": "[encoded data removed]",
            "text/plain": [
              "<Figure size 432x288 with 1 Axes>"
            ]
          },
          "metadata": {
            "needs_background": "light"
          }
        }
      ]
    },
    {
      "cell_type": "markdown",
      "metadata": {
        "id": "vY-snlU9_Azo"
      },
      "source": [
        "**Findings:**\n",
        "\n",
        "1. With more number of sedentary hours a depreciation in sleep quality is observed due to which sleep hours decreases.\n",
        "2. Activeness tends to decrease with increase in sedentary hours. Since, Color tends to fade along y axis.\n",
        "3. Most active users tend to have sleep between 6-9 hours and have Sedentary time of 7-13 hours.\n",
        "\n",
        "**Suggesstions:**\n",
        "\n",
        "1. For users having sleep time less than 6 hours we can send personalized notification to decrease their sedentary time for having good sleep quality.\n",
        "2. Our goal can be to motivate most people to come under the sweet spot balancing Sleep hours and Sedentary hours which is 6-9 hours of sleep and 7-13 hours of sedentary time."
      ]
    },
    {
      "cell_type": "markdown",
      "metadata": {
        "id": "3KizpSuP_QzA"
      },
      "source": [
        "Let's find out how many hours do the most active people sleep so that we can get clear goal to motivate others."
      ]
    },
    {
      "cell_type": "code",
      "metadata": {
        "colab": {
          "base_uri": "https://localhost:8080/",
          "height": 0
        },
        "id": "HJlPqs4m9YoM",
        "outputId": "677f8f4f-a15e-46cf-da9f-2984ffc2c279"
      },
      "source": [
        "g=sns.scatterplot(x=u_act.Calories,y=u_act.TotalMinutesAsleep/60,hue=u_act.Active_Score);\n",
        "g.set(ylabel=\"Sleep_hours\");"
      ],
      "execution_count": 133,
      "outputs": [
        {
          "output_type": "display_data",
          "data": {
            "image/png": "[encoded data removed]",
            "text/plain": [
              "<Figure size 432x288 with 1 Axes>"
            ]
          },
          "metadata": {}
        }
      ]
    },
    {
      "cell_type": "markdown",
      "metadata": {
        "id": "LMApmr81_X9O"
      },
      "source": [
        "**Findings:**\n",
        "\n",
        "1. There are no dots in upper right and lower right region signifying the fact that for being most active we have to get right hours of sleep which is neither too high nor too low.\n",
        "2. Most active people have Sleep hours between 6-9 hours.\n",
        "People sleeping either less than 4 hours or more than 10 hours tend to be less active.\n",
        "\n",
        "**Ideas:**\n",
        "\n",
        "1. We can notify people with less sleep hours to atleast have 6 hours of sleep.\n",
        "2. We can also encourage people with high sleep hours to reduce to 9-10 hours."
      ]
    },
    {
      "cell_type": "markdown",
      "metadata": {
        "id": "PPGAqWvg_iqt"
      },
      "source": [
        "Let's find out what percent of people sleep less than 4 hours a day and more than 10 hours a day."
      ]
    },
    {
      "cell_type": "code",
      "metadata": {
        "colab": {
          "base_uri": "https://localhost:8080/"
        },
        "id": "f2ho56hW9Yd8",
        "outputId": "254963c3-009c-4005-c69c-7aa488d5b8bf"
      },
      "source": [
        "sd_act=u_act[u_act.TotalMinutesAsleep>0]\n",
        "id_act=sd_act.groupby(sd_act.Id).mean().reset_index() #Used filtered data with sleep time >0\n",
        "print((id_act.TotalMinutesAsleep<240).sum(),\"people out of 33 sleep than 4 hours  a day\")\n",
        "print((id_act.TotalMinutesAsleep<300).sum(),\"people out of 33 sleep than 5 hours  a day\")\n",
        "print((id_act.TotalMinutesAsleep>600).sum(),\"person out of 33 sleep more than 10 hours a day\")"
      ],
      "execution_count": 134,
      "outputs": [
        {
          "output_type": "stream",
          "name": "stdout",
          "text": [
            "3 people out of 33 sleep than 4 hours  a day\n",
            "6 people out of 33 sleep than 5 hours  a day\n",
            "1 person out of 33 sleep more than 10 hours a day\n"
          ]
        }
      ]
    },
    {
      "cell_type": "markdown",
      "metadata": {
        "id": "9pYp-Q2N_vF9"
      },
      "source": [
        "**Findings:**\n",
        "\n",
        "1. 9.1% of people sleep less than 4 hours.\n",
        "2. 3% of people sleep more than 10 hours a day.\n",
        "3. Overall 12% people either sleep for very less hours or much more. These are the people who are not able to use their full potential."
      ]
    },
    {
      "cell_type": "code",
      "metadata": {
        "colab": {
          "base_uri": "https://localhost:8080/"
        },
        "id": "FiYCtT6TEq8C",
        "outputId": "7c40f6b0-0343-4d3d-c894-2c525beccdc5"
      },
      "source": [
        "import pandas as pd\n",
        "import os\n",
        "import glob\n",
        "import datetime as dt\n",
        "path = '/content/drive/MyDrive/FitBit'\n",
        "\n",
        "filenames =  os.listdir(path)\n",
        "print(filenames)\n",
        "\n",
        "for filename in filenames:\n",
        "    globals()[filename.split('.')[0]] = pd.read_csv(f\"{path}/{filename}\")\n",
        "    print(filename.split('.')[0])"
      ],
      "execution_count": 135,
      "outputs": [
        {
          "output_type": "stream",
          "name": "stdout",
          "text": [
            "['minuteIntensitiesNarrow_merged (1).csv', 'minuteCaloriesWide_merged (1).csv', 'minuteIntensitiesNarrow_merged.csv', 'minuteCaloriesWide_merged.csv', 'minuteIntensitiesWide_merged (1).csv', 'minuteMETsNarrow_merged (1).csv', 'minuteMETsNarrow_merged.csv', 'minuteIntensitiesWide_merged.csv', 'minuteSleep_merged (1).csv', 'minuteStepsNarrow_merged (1).csv', 'minuteSleep_merged.csv', 'minuteStepsNarrow_merged.csv', 'minuteStepsWide_merged (1).csv', 'minuteStepsWide_merged.csv', 'dailyCalories_merged.csv', 'dailyActivity_merged.csv', 'dailyIntensities_merged.csv', 'dailySteps_merged.csv', 'sleepDay_merged.csv', 'weightLogInfo_merged.csv', 'hourlyCalories_merged.csv', 'hourlySteps_merged.csv', 'hourlyIntensities_merged.csv', 'minuteCaloriesNarrow_merged.csv']\n",
            "minuteIntensitiesNarrow_merged (1)\n",
            "minuteCaloriesWide_merged (1)\n",
            "minuteIntensitiesNarrow_merged\n",
            "minuteCaloriesWide_merged\n",
            "minuteIntensitiesWide_merged (1)\n",
            "minuteMETsNarrow_merged (1)\n",
            "minuteMETsNarrow_merged\n",
            "minuteIntensitiesWide_merged\n",
            "minuteSleep_merged (1)\n",
            "minuteStepsNarrow_merged (1)\n",
            "minuteSleep_merged\n",
            "minuteStepsNarrow_merged\n",
            "minuteStepsWide_merged (1)\n",
            "minuteStepsWide_merged\n",
            "dailyCalories_merged\n",
            "dailyActivity_merged\n",
            "dailyIntensities_merged\n",
            "dailySteps_merged\n",
            "sleepDay_merged\n",
            "weightLogInfo_merged\n",
            "hourlyCalories_merged\n",
            "hourlySteps_merged\n",
            "hourlyIntensities_merged\n",
            "minuteCaloriesNarrow_merged\n"
          ]
        }
      ]
    },
    {
      "cell_type": "code",
      "metadata": {
        "colab": {
          "base_uri": "https://localhost:8080/"
        },
        "id": "8XsN3E9cEq2K",
        "outputId": "74ee6e1a-ad87-427b-9019-2e77b46b23bc"
      },
      "source": [
        "print(len(hourlySteps_merged))\n",
        "print(len(hourlyCalories_merged))\n",
        "print(len(dailyCalories_merged))\n",
        "print(len(dailySteps_merged))\n",
        "print(len(sleepDay_merged))"
      ],
      "execution_count": 136,
      "outputs": [
        {
          "output_type": "stream",
          "name": "stdout",
          "text": [
            "22099\n",
            "22099\n",
            "940\n",
            "940\n",
            "413\n"
          ]
        }
      ]
    },
    {
      "cell_type": "code",
      "metadata": {
        "colab": {
          "base_uri": "https://localhost:8080/"
        },
        "id": "1mpxbZHKIDee",
        "outputId": "92a99e9d-cd43-44c1-f9b9-c251395f5a37"
      },
      "source": [
        "hourlySteps_merged.head(3),hourlyCalories_merged.head(3),dailySteps_merged.head(3), dailyActivity_merged.head(3)"
      ],
      "execution_count": 137,
      "outputs": [
        {
          "output_type": "execute_result",
          "data": {
            "text/plain": [
              "(           Id      ActivityHour  StepTotal\n",
              " 0  1503960366  04-12-2016 00:00        373\n",
              " 1  1503960366  04-12-2016 01:00        160\n",
              " 2  1503960366  04-12-2016 02:00        151,\n",
              "            Id           ActivityHour  Calories\n",
              " 0  1503960366  4/12/2016 12:00:00 AM        81\n",
              " 1  1503960366   4/12/2016 1:00:00 AM        61\n",
              " 2  1503960366   4/12/2016 2:00:00 AM        59,\n",
              "            Id ActivityDay  StepTotal\n",
              " 0  1503960366   4/12/2016      13162\n",
              " 1  1503960366   4/13/2016      10735\n",
              " 2  1503960366   4/14/2016      10460,\n",
              "            Id ActivityDate  ...  SedentaryMinutes  Calories\n",
              " 0  1503960366    4/12/2016  ...               728      1985\n",
              " 1  1503960366    4/13/2016  ...               776      1797\n",
              " 2  1503960366    4/14/2016  ...              1218      1776\n",
              " \n",
              " [3 rows x 15 columns])"
            ]
          },
          "metadata": {},
          "execution_count": 137
        }
      ]
    },
    {
      "cell_type": "markdown",
      "metadata": {
        "id": "DCPhR0HWEqIA"
      },
      "source": [
        "Merging datasets to create hourly and daily datasets for Easy Analysis."
      ]
    },
    {
      "cell_type": "code",
      "metadata": {
        "colab": {
          "base_uri": "https://localhost:8080/"
        },
        "id": "VPwPSYP1xr4g",
        "outputId": "f05e136d-9e91-4d93-f679-73c1f4ad8660"
      },
      "source": [
        "#Merging Daily Data\n",
        "dailyStuff = pd.merge(dailyActivity_merged, dailyCalories_merged, left_on = [\"Id\",\"ActivityDate\"],\n",
        "                  right_on = [\"Id\",\"ActivityDay\"])\n",
        "dailyStuff = pd.merge(dailyStuff,dailyIntensities_merged, on = [\"Id\",\"ActivityDay\"])\n",
        "dailyStuff = pd.merge(dailyStuff,dailySteps_merged, on = [\"Id\",\"ActivityDay\"])\n",
        "\n",
        "#Making Activity Day datetime and getting only the date part to merge with sleep data (now this column is not datetime)\n",
        "dailyStuff['ActivityDay'] = pd.to_datetime(dailyStuff['ActivityDay']).dt.date\n",
        "\n",
        "#making sleepday's SleepDay column datetime and getting only the date\n",
        "#Since, everydays sleep time is 12.00 AM, We dont have much use of that data (now this column is not datetime)\n",
        "sleepDay_merged['SleepDay']= pd.to_datetime(sleepDay_merged['SleepDay']).dt.date\n",
        "\n",
        "#creating a new dataframe  with sleepdata - this dataframe have less rows than dailyStuff dataframe\n",
        "dailyStuff_with_Sleep = pd.merge(dailyStuff,sleepDay_merged, how = 'right',left_on = [\"Id\",\"ActivityDay\"],\n",
        "                                  right_on = [\"Id\",\"SleepDay\"])\n",
        "\n",
        "dailyStuff.head(4),dailyStuff_with_Sleep.head(4)"
      ],
      "execution_count": 138,
      "outputs": [
        {
          "output_type": "execute_result",
          "data": {
            "text/plain": [
              "(           Id ActivityDate  ...  VeryActiveDistance_y  StepTotal\n",
              " 0  1503960366    4/13/2016  ...                  1.57      10735\n",
              " 1  1503960366    4/14/2016  ...                  2.44      10460\n",
              " 2  1503960366    4/15/2016  ...                  2.14       9762\n",
              " 3  1503960366    4/16/2016  ...                  2.71      12669\n",
              " \n",
              " [4 rows x 26 columns],\n",
              "            Id ActivityDate  ...  TotalMinutesAsleep  TotalTimeInBed\n",
              " 0  1503960366          NaN  ...                 327             346\n",
              " 1  1503960366    4/13/2016  ...                 384             407\n",
              " 2  1503960366    4/15/2016  ...                 412             442\n",
              " 3  1503960366    4/16/2016  ...                 340             367\n",
              " \n",
              " [4 rows x 30 columns])"
            ]
          },
          "metadata": {},
          "execution_count": 138
        }
      ]
    },
    {
      "cell_type": "code",
      "metadata": {
        "id": "hsHBmphUxt9i"
      },
      "source": [
        "#Let's remove these columns because they are redundant and we don't need em.\n",
        "dailyStuff.drop(['ActivityDate','Calories_y','SedentaryMinutes_y','LightlyActiveMinutes_y','SedentaryActiveDistance_y',\n",
        "                 'FairlyActiveMinutes_y','VeryActiveMinutes_y','LightActiveDistance_y','ModeratelyActiveDistance_y',\n",
        "                'VeryActiveDistance_y','StepTotal'],inplace = True,axis = 1)\n",
        "dailyStuff_with_Sleep.drop(['ActivityDate','SleepDay','Calories_y','SedentaryMinutes_y','LightlyActiveMinutes_y',\n",
        "                            'SedentaryActiveDistance_y','FairlyActiveMinutes_y','VeryActiveMinutes_y',\n",
        "                            'LightActiveDistance_y','ModeratelyActiveDistance_y', 'VeryActiveDistance_y',\n",
        "                            'StepTotal'],inplace = True,axis = 1)\n",
        "\n",
        "#and now lets rename some columns\n",
        "dailyStuff.rename(columns = {'Calories_x':'Calories','SedentaryMinutes_x':'SedentaryMinutes',\n",
        "                            'LightlyActiveMinutes_x':'LightlyActiveMinutes','FairlyActiveMinutes_x':'FairlyActiveMinutes',\n",
        "                            'VeryActiveMinutes_x':'VeryActiveMinutes','SedentaryMinutes_x':'SedentaryMinutes',\n",
        "                            'LightActiveDistance_x':'LightActiveDistance','ModeratelyActiveDistance_x':'ModeratelyActiveDistance',\n",
        "                            'VeryActiveDistance_x':'VeryActiveDistance','SedentaryActiveDistance_x':'SedentaryActiveDistance'},inplace = True)\n",
        "dailyStuff_with_Sleep.rename(columns = {'Calories_x':'Calories','SedentaryMinutes_x':'SedentaryMinutes',\n",
        "                            'LightlyActiveMinutes_x':'LightlyActiveMinutes','FairlyActiveMinutes_x':'FairlyActiveMinutes',\n",
        "                            'VeryActiveMinutes_x':'VeryActiveMinutes','SedentaryMinutes_x':'SedentaryMinutes',\n",
        "                            'LightActiveDistance_x':'LightActiveDistance','ModeratelyActiveDistance_x':'ModeratelyActiveDistance',\n",
        "                            'VeryActiveDistance_x':'VeryActiveDistance','SedentaryActiveDistance_x':'SedentaryActiveDistance'},inplace = True)"
      ],
      "execution_count": 139,
      "outputs": []
    },
    {
      "cell_type": "code",
      "metadata": {
        "colab": {
          "base_uri": "https://localhost:8080/",
          "height": 0
        },
        "id": "Ox3Jdmn8xt6U",
        "outputId": "5adeca5d-44c4-46cc-990b-b9fde875bd14"
      },
      "source": [
        "dailyStuff_with_Sleep = dailyStuff_with_Sleep.iloc[1: , :]\n",
        "dailyStuff_with_Sleep.head()"
      ],
      "execution_count": 140,
      "outputs": [
        {
          "output_type": "execute_result",
          "data": {
            "text/html": [
              "<div>\n",
              "<style scoped>\n",
              "    .dataframe tbody tr th:only-of-type {\n",
              "        vertical-align: middle;\n",
              "    }\n",
              "\n",
              "    .dataframe tbody tr th {\n",
              "        vertical-align: top;\n",
              "    }\n",
              "\n",
              "    .dataframe thead th {\n",
              "        text-align: right;\n",
              "    }\n",
              "</style>\n",
              "<table border=\"1\" class=\"dataframe\">\n",
              "  <thead>\n",
              "    <tr style=\"text-align: right;\">\n",
              "      <th></th>\n",
              "      <th>Id</th>\n",
              "      <th>TotalSteps</th>\n",
              "      <th>TotalDistance</th>\n",
              "      <th>TrackerDistance</th>\n",
              "      <th>LoggedActivitiesDistance</th>\n",
              "      <th>VeryActiveDistance</th>\n",
              "      <th>ModeratelyActiveDistance</th>\n",
              "      <th>LightActiveDistance</th>\n",
              "      <th>SedentaryActiveDistance</th>\n",
              "      <th>VeryActiveMinutes</th>\n",
              "      <th>FairlyActiveMinutes</th>\n",
              "      <th>LightlyActiveMinutes</th>\n",
              "      <th>SedentaryMinutes</th>\n",
              "      <th>Calories</th>\n",
              "      <th>ActivityDay</th>\n",
              "      <th>TotalSleepRecords</th>\n",
              "      <th>TotalMinutesAsleep</th>\n",
              "      <th>TotalTimeInBed</th>\n",
              "    </tr>\n",
              "  </thead>\n",
              "  <tbody>\n",
              "    <tr>\n",
              "      <th>1</th>\n",
              "      <td>1503960366</td>\n",
              "      <td>10735.0</td>\n",
              "      <td>6.97</td>\n",
              "      <td>6.97</td>\n",
              "      <td>0.0</td>\n",
              "      <td>1.57</td>\n",
              "      <td>0.69</td>\n",
              "      <td>4.71</td>\n",
              "      <td>0.0</td>\n",
              "      <td>21.0</td>\n",
              "      <td>19.0</td>\n",
              "      <td>217.0</td>\n",
              "      <td>776.0</td>\n",
              "      <td>1797.0</td>\n",
              "      <td>2016-04-13</td>\n",
              "      <td>2</td>\n",
              "      <td>384</td>\n",
              "      <td>407</td>\n",
              "    </tr>\n",
              "    <tr>\n",
              "      <th>2</th>\n",
              "      <td>1503960366</td>\n",
              "      <td>9762.0</td>\n",
              "      <td>6.28</td>\n",
              "      <td>6.28</td>\n",
              "      <td>0.0</td>\n",
              "      <td>2.14</td>\n",
              "      <td>1.26</td>\n",
              "      <td>2.83</td>\n",
              "      <td>0.0</td>\n",
              "      <td>29.0</td>\n",
              "      <td>34.0</td>\n",
              "      <td>209.0</td>\n",
              "      <td>726.0</td>\n",
              "      <td>1745.0</td>\n",
              "      <td>2016-04-15</td>\n",
              "      <td>1</td>\n",
              "      <td>412</td>\n",
              "      <td>442</td>\n",
              "    </tr>\n",
              "    <tr>\n",
              "      <th>3</th>\n",
              "      <td>1503960366</td>\n",
              "      <td>12669.0</td>\n",
              "      <td>8.16</td>\n",
              "      <td>8.16</td>\n",
              "      <td>0.0</td>\n",
              "      <td>2.71</td>\n",
              "      <td>0.41</td>\n",
              "      <td>5.04</td>\n",
              "      <td>0.0</td>\n",
              "      <td>36.0</td>\n",
              "      <td>10.0</td>\n",
              "      <td>221.0</td>\n",
              "      <td>773.0</td>\n",
              "      <td>1863.0</td>\n",
              "      <td>2016-04-16</td>\n",
              "      <td>2</td>\n",
              "      <td>340</td>\n",
              "      <td>367</td>\n",
              "    </tr>\n",
              "    <tr>\n",
              "      <th>4</th>\n",
              "      <td>1503960366</td>\n",
              "      <td>9705.0</td>\n",
              "      <td>6.48</td>\n",
              "      <td>6.48</td>\n",
              "      <td>0.0</td>\n",
              "      <td>3.19</td>\n",
              "      <td>0.78</td>\n",
              "      <td>2.51</td>\n",
              "      <td>0.0</td>\n",
              "      <td>38.0</td>\n",
              "      <td>20.0</td>\n",
              "      <td>164.0</td>\n",
              "      <td>539.0</td>\n",
              "      <td>1728.0</td>\n",
              "      <td>2016-04-17</td>\n",
              "      <td>1</td>\n",
              "      <td>700</td>\n",
              "      <td>712</td>\n",
              "    </tr>\n",
              "    <tr>\n",
              "      <th>5</th>\n",
              "      <td>1503960366</td>\n",
              "      <td>15506.0</td>\n",
              "      <td>9.88</td>\n",
              "      <td>9.88</td>\n",
              "      <td>0.0</td>\n",
              "      <td>3.53</td>\n",
              "      <td>1.32</td>\n",
              "      <td>5.03</td>\n",
              "      <td>0.0</td>\n",
              "      <td>50.0</td>\n",
              "      <td>31.0</td>\n",
              "      <td>264.0</td>\n",
              "      <td>775.0</td>\n",
              "      <td>2035.0</td>\n",
              "      <td>2016-04-19</td>\n",
              "      <td>1</td>\n",
              "      <td>304</td>\n",
              "      <td>320</td>\n",
              "    </tr>\n",
              "  </tbody>\n",
              "</table>\n",
              "</div>"
            ],
            "text/plain": [
              "           Id  TotalSteps  ...  TotalMinutesAsleep  TotalTimeInBed\n",
              "1  1503960366     10735.0  ...                 384             407\n",
              "2  1503960366      9762.0  ...                 412             442\n",
              "3  1503960366     12669.0  ...                 340             367\n",
              "4  1503960366      9705.0  ...                 700             712\n",
              "5  1503960366     15506.0  ...                 304             320\n",
              "\n",
              "[5 rows x 18 columns]"
            ]
          },
          "metadata": {},
          "execution_count": 140
        }
      ]
    },
    {
      "cell_type": "code",
      "metadata": {
        "colab": {
          "base_uri": "https://localhost:8080/",
          "height": 0
        },
        "id": "V6Q6y-V2xt4i",
        "outputId": "6a9453f6-fceb-4fad-8de2-b386af693f02"
      },
      "source": [
        "#Merging Hourly Data\n",
        "hourlyStuff = pd.merge(hourlyCalories_merged,hourlyIntensities_merged,on = [\"Id\",\"ActivityHour\"])\n",
        "hourlyStuff = pd.merge(hourlyStuff,hourlySteps_merged,on = [\"Id\",\"ActivityHour\"])\n",
        "\n",
        "#creating a new column with hour of the day because it might be useful in the future\n",
        "hourlyStuff['Hour'] = pd.to_datetime(hourlyStuff['ActivityHour']).dt.hour\n",
        "hourlyStuff.head(4)"
      ],
      "execution_count": 141,
      "outputs": [
        {
          "output_type": "execute_result",
          "data": {
            "text/html": [
              "<div>\n",
              "<style scoped>\n",
              "    .dataframe tbody tr th:only-of-type {\n",
              "        vertical-align: middle;\n",
              "    }\n",
              "\n",
              "    .dataframe tbody tr th {\n",
              "        vertical-align: top;\n",
              "    }\n",
              "\n",
              "    .dataframe thead th {\n",
              "        text-align: right;\n",
              "    }\n",
              "</style>\n",
              "<table border=\"1\" class=\"dataframe\">\n",
              "  <thead>\n",
              "    <tr style=\"text-align: right;\">\n",
              "      <th></th>\n",
              "      <th>Id</th>\n",
              "      <th>ActivityHour</th>\n",
              "      <th>Calories</th>\n",
              "      <th>TotalIntensity</th>\n",
              "      <th>AverageIntensity</th>\n",
              "      <th>StepTotal</th>\n",
              "      <th>Hour</th>\n",
              "    </tr>\n",
              "  </thead>\n",
              "  <tbody>\n",
              "    <tr>\n",
              "      <th>0</th>\n",
              "      <td>1503960366</td>\n",
              "      <td>4/13/2016 12:00:00 AM</td>\n",
              "      <td>69</td>\n",
              "      <td>14</td>\n",
              "      <td>0.233333</td>\n",
              "      <td>144</td>\n",
              "      <td>0</td>\n",
              "    </tr>\n",
              "    <tr>\n",
              "      <th>1</th>\n",
              "      <td>1503960366</td>\n",
              "      <td>4/13/2016 1:00:00 AM</td>\n",
              "      <td>48</td>\n",
              "      <td>0</td>\n",
              "      <td>0.000000</td>\n",
              "      <td>0</td>\n",
              "      <td>1</td>\n",
              "    </tr>\n",
              "    <tr>\n",
              "      <th>2</th>\n",
              "      <td>1503960366</td>\n",
              "      <td>4/13/2016 2:00:00 AM</td>\n",
              "      <td>47</td>\n",
              "      <td>0</td>\n",
              "      <td>0.000000</td>\n",
              "      <td>0</td>\n",
              "      <td>2</td>\n",
              "    </tr>\n",
              "    <tr>\n",
              "      <th>3</th>\n",
              "      <td>1503960366</td>\n",
              "      <td>4/13/2016 3:00:00 AM</td>\n",
              "      <td>53</td>\n",
              "      <td>4</td>\n",
              "      <td>0.066667</td>\n",
              "      <td>36</td>\n",
              "      <td>3</td>\n",
              "    </tr>\n",
              "  </tbody>\n",
              "</table>\n",
              "</div>"
            ],
            "text/plain": [
              "           Id           ActivityHour  ...  StepTotal  Hour\n",
              "0  1503960366  4/13/2016 12:00:00 AM  ...        144     0\n",
              "1  1503960366   4/13/2016 1:00:00 AM  ...          0     1\n",
              "2  1503960366   4/13/2016 2:00:00 AM  ...          0     2\n",
              "3  1503960366   4/13/2016 3:00:00 AM  ...         36     3\n",
              "\n",
              "[4 rows x 7 columns]"
            ]
          },
          "metadata": {},
          "execution_count": 141
        }
      ]
    },
    {
      "cell_type": "code",
      "metadata": {
        "colab": {
          "base_uri": "https://localhost:8080/"
        },
        "id": "Zo_vaou4xt10",
        "outputId": "3757adb9-f818-4ef7-ef5d-806cc348a531"
      },
      "source": [
        "dailyStuff.info()\n",
        "dailyStuff_with_Sleep.info()"
      ],
      "execution_count": 142,
      "outputs": [
        {
          "output_type": "stream",
          "name": "stdout",
          "text": [
            "<class 'pandas.core.frame.DataFrame'>\n",
            "Int64Index: 578 entries, 0 to 577\n",
            "Data columns (total 15 columns):\n",
            " #   Column                    Non-Null Count  Dtype  \n",
            "---  ------                    --------------  -----  \n",
            " 0   Id                        578 non-null    int64  \n",
            " 1   TotalSteps                578 non-null    int64  \n",
            " 2   TotalDistance             578 non-null    float64\n",
            " 3   TrackerDistance           578 non-null    float64\n",
            " 4   LoggedActivitiesDistance  578 non-null    float64\n",
            " 5   VeryActiveDistance        578 non-null    float64\n",
            " 6   ModeratelyActiveDistance  578 non-null    float64\n",
            " 7   LightActiveDistance       578 non-null    float64\n",
            " 8   SedentaryActiveDistance   578 non-null    float64\n",
            " 9   VeryActiveMinutes         578 non-null    int64  \n",
            " 10  FairlyActiveMinutes       578 non-null    int64  \n",
            " 11  LightlyActiveMinutes      578 non-null    int64  \n",
            " 12  SedentaryMinutes          578 non-null    int64  \n",
            " 13  Calories                  578 non-null    int64  \n",
            " 14  ActivityDay               578 non-null    object \n",
            "dtypes: float64(7), int64(7), object(1)\n",
            "memory usage: 72.2+ KB\n",
            "<class 'pandas.core.frame.DataFrame'>\n",
            "Int64Index: 412 entries, 1 to 412\n",
            "Data columns (total 18 columns):\n",
            " #   Column                    Non-Null Count  Dtype  \n",
            "---  ------                    --------------  -----  \n",
            " 0   Id                        412 non-null    int64  \n",
            " 1   TotalSteps                252 non-null    float64\n",
            " 2   TotalDistance             252 non-null    float64\n",
            " 3   TrackerDistance           252 non-null    float64\n",
            " 4   LoggedActivitiesDistance  252 non-null    float64\n",
            " 5   VeryActiveDistance        252 non-null    float64\n",
            " 6   ModeratelyActiveDistance  252 non-null    float64\n",
            " 7   LightActiveDistance       252 non-null    float64\n",
            " 8   SedentaryActiveDistance   252 non-null    float64\n",
            " 9   VeryActiveMinutes         252 non-null    float64\n",
            " 10  FairlyActiveMinutes       252 non-null    float64\n",
            " 11  LightlyActiveMinutes      252 non-null    float64\n",
            " 12  SedentaryMinutes          252 non-null    float64\n",
            " 13  Calories                  252 non-null    float64\n",
            " 14  ActivityDay               252 non-null    object \n",
            " 15  TotalSleepRecords         412 non-null    int64  \n",
            " 16  TotalMinutesAsleep        412 non-null    int64  \n",
            " 17  TotalTimeInBed            412 non-null    int64  \n",
            "dtypes: float64(13), int64(4), object(1)\n",
            "memory usage: 61.2+ KB\n"
          ]
        }
      ]
    },
    {
      "cell_type": "markdown",
      "metadata": {
        "id": "6tVN7K1HyLzN"
      },
      "source": [
        "We can see that most data types assigned are correct. We will have to convert ActivityDay to a datetime type as well. And the other thing that concerns little bit is the User Id data type which is set to numeric. Since we used data collected from 33 differant users, we can set them to categorical type as well. But, Since we are not analyzing individuals' activities we can leave it as it is or convert to string type. We'll do the latter."
      ]
    },
    {
      "cell_type": "code",
      "metadata": {
        "id": "6Qs7EkGLxtzK"
      },
      "source": [
        "dailyStuff['ActivityDay'] = pd.to_datetime(dailyStuff['ActivityDay'])\n",
        "dailyStuff['Day'] = dailyStuff['ActivityDay'].dt.day_name()\n",
        "dailyStuff_with_Sleep['ActivityDay'] = pd.to_datetime(dailyStuff_with_Sleep['ActivityDay'])\n",
        "dailyStuff_with_Sleep['Day'] = dailyStuff_with_Sleep['ActivityDay'].dt.day_name()\n",
        "dailyStuff['Id'] = dailyStuff['Id'].astype('string')\n",
        "dailyStuff_with_Sleep['Id'] = dailyStuff_with_Sleep['Id'].astype('string')"
      ],
      "execution_count": 143,
      "outputs": []
    },
    {
      "cell_type": "code",
      "metadata": {
        "colab": {
          "base_uri": "https://localhost:8080/",
          "height": 0
        },
        "id": "Kcgj6vAwxtws",
        "outputId": "b825241c-7cb2-45af-94ad-79296847a516"
      },
      "source": [
        "dailyStuff.head()"
      ],
      "execution_count": 144,
      "outputs": [
        {
          "output_type": "execute_result",
          "data": {
            "text/html": [
              "<div>\n",
              "<style scoped>\n",
              "    .dataframe tbody tr th:only-of-type {\n",
              "        vertical-align: middle;\n",
              "    }\n",
              "\n",
              "    .dataframe tbody tr th {\n",
              "        vertical-align: top;\n",
              "    }\n",
              "\n",
              "    .dataframe thead th {\n",
              "        text-align: right;\n",
              "    }\n",
              "</style>\n",
              "<table border=\"1\" class=\"dataframe\">\n",
              "  <thead>\n",
              "    <tr style=\"text-align: right;\">\n",
              "      <th></th>\n",
              "      <th>Id</th>\n",
              "      <th>TotalSteps</th>\n",
              "      <th>TotalDistance</th>\n",
              "      <th>TrackerDistance</th>\n",
              "      <th>LoggedActivitiesDistance</th>\n",
              "      <th>VeryActiveDistance</th>\n",
              "      <th>ModeratelyActiveDistance</th>\n",
              "      <th>LightActiveDistance</th>\n",
              "      <th>SedentaryActiveDistance</th>\n",
              "      <th>VeryActiveMinutes</th>\n",
              "      <th>FairlyActiveMinutes</th>\n",
              "      <th>LightlyActiveMinutes</th>\n",
              "      <th>SedentaryMinutes</th>\n",
              "      <th>Calories</th>\n",
              "      <th>ActivityDay</th>\n",
              "      <th>Day</th>\n",
              "    </tr>\n",
              "  </thead>\n",
              "  <tbody>\n",
              "    <tr>\n",
              "      <th>0</th>\n",
              "      <td>1503960366</td>\n",
              "      <td>10735</td>\n",
              "      <td>6.97</td>\n",
              "      <td>6.97</td>\n",
              "      <td>0.0</td>\n",
              "      <td>1.57</td>\n",
              "      <td>0.69</td>\n",
              "      <td>4.71</td>\n",
              "      <td>0.0</td>\n",
              "      <td>21</td>\n",
              "      <td>19</td>\n",
              "      <td>217</td>\n",
              "      <td>776</td>\n",
              "      <td>1797</td>\n",
              "      <td>2016-04-13</td>\n",
              "      <td>Wednesday</td>\n",
              "    </tr>\n",
              "    <tr>\n",
              "      <th>1</th>\n",
              "      <td>1503960366</td>\n",
              "      <td>10460</td>\n",
              "      <td>6.74</td>\n",
              "      <td>6.74</td>\n",
              "      <td>0.0</td>\n",
              "      <td>2.44</td>\n",
              "      <td>0.40</td>\n",
              "      <td>3.91</td>\n",
              "      <td>0.0</td>\n",
              "      <td>30</td>\n",
              "      <td>11</td>\n",
              "      <td>181</td>\n",
              "      <td>1218</td>\n",
              "      <td>1776</td>\n",
              "      <td>2016-04-14</td>\n",
              "      <td>Thursday</td>\n",
              "    </tr>\n",
              "    <tr>\n",
              "      <th>2</th>\n",
              "      <td>1503960366</td>\n",
              "      <td>9762</td>\n",
              "      <td>6.28</td>\n",
              "      <td>6.28</td>\n",
              "      <td>0.0</td>\n",
              "      <td>2.14</td>\n",
              "      <td>1.26</td>\n",
              "      <td>2.83</td>\n",
              "      <td>0.0</td>\n",
              "      <td>29</td>\n",
              "      <td>34</td>\n",
              "      <td>209</td>\n",
              "      <td>726</td>\n",
              "      <td>1745</td>\n",
              "      <td>2016-04-15</td>\n",
              "      <td>Friday</td>\n",
              "    </tr>\n",
              "    <tr>\n",
              "      <th>3</th>\n",
              "      <td>1503960366</td>\n",
              "      <td>12669</td>\n",
              "      <td>8.16</td>\n",
              "      <td>8.16</td>\n",
              "      <td>0.0</td>\n",
              "      <td>2.71</td>\n",
              "      <td>0.41</td>\n",
              "      <td>5.04</td>\n",
              "      <td>0.0</td>\n",
              "      <td>36</td>\n",
              "      <td>10</td>\n",
              "      <td>221</td>\n",
              "      <td>773</td>\n",
              "      <td>1863</td>\n",
              "      <td>2016-04-16</td>\n",
              "      <td>Saturday</td>\n",
              "    </tr>\n",
              "    <tr>\n",
              "      <th>4</th>\n",
              "      <td>1503960366</td>\n",
              "      <td>9705</td>\n",
              "      <td>6.48</td>\n",
              "      <td>6.48</td>\n",
              "      <td>0.0</td>\n",
              "      <td>3.19</td>\n",
              "      <td>0.78</td>\n",
              "      <td>2.51</td>\n",
              "      <td>0.0</td>\n",
              "      <td>38</td>\n",
              "      <td>20</td>\n",
              "      <td>164</td>\n",
              "      <td>539</td>\n",
              "      <td>1728</td>\n",
              "      <td>2016-04-17</td>\n",
              "      <td>Sunday</td>\n",
              "    </tr>\n",
              "  </tbody>\n",
              "</table>\n",
              "</div>"
            ],
            "text/plain": [
              "           Id  TotalSteps  TotalDistance  ...  Calories  ActivityDay        Day\n",
              "0  1503960366       10735           6.97  ...      1797   2016-04-13  Wednesday\n",
              "1  1503960366       10460           6.74  ...      1776   2016-04-14   Thursday\n",
              "2  1503960366        9762           6.28  ...      1745   2016-04-15     Friday\n",
              "3  1503960366       12669           8.16  ...      1863   2016-04-16   Saturday\n",
              "4  1503960366        9705           6.48  ...      1728   2016-04-17     Sunday\n",
              "\n",
              "[5 rows x 16 columns]"
            ]
          },
          "metadata": {},
          "execution_count": 144
        }
      ]
    },
    {
      "cell_type": "code",
      "metadata": {
        "colab": {
          "base_uri": "https://localhost:8080/"
        },
        "id": "lv5ErcjSxtuL",
        "outputId": "d7885a75-67ca-495a-c4ec-8ffcb1ba61d0"
      },
      "source": [
        "hourlyStuff.info()"
      ],
      "execution_count": 145,
      "outputs": [
        {
          "output_type": "stream",
          "name": "stdout",
          "text": [
            "<class 'pandas.core.frame.DataFrame'>\n",
            "Int64Index: 13821 entries, 0 to 13820\n",
            "Data columns (total 7 columns):\n",
            " #   Column            Non-Null Count  Dtype  \n",
            "---  ------            --------------  -----  \n",
            " 0   Id                13821 non-null  int64  \n",
            " 1   ActivityHour      13821 non-null  object \n",
            " 2   Calories          13821 non-null  int64  \n",
            " 3   TotalIntensity    13821 non-null  int64  \n",
            " 4   AverageIntensity  13821 non-null  float64\n",
            " 5   StepTotal         13821 non-null  int64  \n",
            " 6   Hour              13821 non-null  int64  \n",
            "dtypes: float64(1), int64(5), object(1)\n",
            "memory usage: 863.8+ KB\n"
          ]
        }
      ]
    },
    {
      "cell_type": "markdown",
      "metadata": {
        "id": "kvvFMPcDyayF"
      },
      "source": [
        "We can see that Activity hour, Id, Hour are in the wrong format. I can convert it to string type. I will need to convert Activity Hour to datetime. Even though technically Hour column is also datetime, it's more useful in the categorical format for us. You'll see why later."
      ]
    },
    {
      "cell_type": "code",
      "metadata": {
        "id": "XQwsqbG2xtrC"
      },
      "source": [
        "hourlyStuff['Hour'] = hourlyStuff['Hour'].astype('category') #categorical\n",
        "hourlyStuff['Id'] = hourlyStuff['Id'].astype('string')"
      ],
      "execution_count": 146,
      "outputs": []
    },
    {
      "cell_type": "code",
      "metadata": {
        "colab": {
          "base_uri": "https://localhost:8080/",
          "height": 0
        },
        "id": "wVYq0JppxtoV",
        "outputId": "7f9603ec-e47a-4902-b898-2ee281b4499b"
      },
      "source": [
        "hourlyStuff.head(4)"
      ],
      "execution_count": 147,
      "outputs": [
        {
          "output_type": "execute_result",
          "data": {
            "text/html": [
              "<div>\n",
              "<style scoped>\n",
              "    .dataframe tbody tr th:only-of-type {\n",
              "        vertical-align: middle;\n",
              "    }\n",
              "\n",
              "    .dataframe tbody tr th {\n",
              "        vertical-align: top;\n",
              "    }\n",
              "\n",
              "    .dataframe thead th {\n",
              "        text-align: right;\n",
              "    }\n",
              "</style>\n",
              "<table border=\"1\" class=\"dataframe\">\n",
              "  <thead>\n",
              "    <tr style=\"text-align: right;\">\n",
              "      <th></th>\n",
              "      <th>Id</th>\n",
              "      <th>ActivityHour</th>\n",
              "      <th>Calories</th>\n",
              "      <th>TotalIntensity</th>\n",
              "      <th>AverageIntensity</th>\n",
              "      <th>StepTotal</th>\n",
              "      <th>Hour</th>\n",
              "    </tr>\n",
              "  </thead>\n",
              "  <tbody>\n",
              "    <tr>\n",
              "      <th>0</th>\n",
              "      <td>1503960366</td>\n",
              "      <td>4/13/2016 12:00:00 AM</td>\n",
              "      <td>69</td>\n",
              "      <td>14</td>\n",
              "      <td>0.233333</td>\n",
              "      <td>144</td>\n",
              "      <td>0</td>\n",
              "    </tr>\n",
              "    <tr>\n",
              "      <th>1</th>\n",
              "      <td>1503960366</td>\n",
              "      <td>4/13/2016 1:00:00 AM</td>\n",
              "      <td>48</td>\n",
              "      <td>0</td>\n",
              "      <td>0.000000</td>\n",
              "      <td>0</td>\n",
              "      <td>1</td>\n",
              "    </tr>\n",
              "    <tr>\n",
              "      <th>2</th>\n",
              "      <td>1503960366</td>\n",
              "      <td>4/13/2016 2:00:00 AM</td>\n",
              "      <td>47</td>\n",
              "      <td>0</td>\n",
              "      <td>0.000000</td>\n",
              "      <td>0</td>\n",
              "      <td>2</td>\n",
              "    </tr>\n",
              "    <tr>\n",
              "      <th>3</th>\n",
              "      <td>1503960366</td>\n",
              "      <td>4/13/2016 3:00:00 AM</td>\n",
              "      <td>53</td>\n",
              "      <td>4</td>\n",
              "      <td>0.066667</td>\n",
              "      <td>36</td>\n",
              "      <td>3</td>\n",
              "    </tr>\n",
              "  </tbody>\n",
              "</table>\n",
              "</div>"
            ],
            "text/plain": [
              "           Id           ActivityHour  ...  StepTotal  Hour\n",
              "0  1503960366  4/13/2016 12:00:00 AM  ...        144     0\n",
              "1  1503960366   4/13/2016 1:00:00 AM  ...          0     1\n",
              "2  1503960366   4/13/2016 2:00:00 AM  ...          0     2\n",
              "3  1503960366   4/13/2016 3:00:00 AM  ...         36     3\n",
              "\n",
              "[4 rows x 7 columns]"
            ]
          },
          "metadata": {},
          "execution_count": 147
        }
      ]
    },
    {
      "cell_type": "code",
      "metadata": {
        "colab": {
          "base_uri": "https://localhost:8080/"
        },
        "id": "xUgSFa3ZxtbK",
        "outputId": "879d9ef9-33b2-4928-842a-7b6115045ee0"
      },
      "source": [
        "#Checking  how many Participants are in our datasets\n",
        "print(dailyStuff[\"Id\"].nunique())\n",
        "print(dailyStuff_with_Sleep[\"Id\"].nunique())\n",
        "print(hourlyStuff[\"Id\"].nunique())"
      ],
      "execution_count": 148,
      "outputs": [
        {
          "output_type": "stream",
          "name": "stdout",
          "text": [
            "33\n",
            "24\n",
            "33\n"
          ]
        }
      ]
    },
    {
      "cell_type": "markdown",
      "metadata": {
        "id": "YL5dafRjyp6V"
      },
      "source": [
        "We can see that Dailystuff and hourlystuff data sets have 33 participants, and daily with sleep have 24 participants"
      ]
    },
    {
      "cell_type": "code",
      "metadata": {
        "colab": {
          "base_uri": "https://localhost:8080/"
        },
        "id": "X73EgUnDyjym",
        "outputId": "e5fc57b0-9e15-4201-a095-8c7048d6b50b"
      },
      "source": [
        "#Checking if there are any missing values in our dataframes\n",
        "print(dailyStuff_with_Sleep.isnull().values.any()) #gives us true or false, df.isnull().values.sum() = gives us number of missing values\n",
        "print(dailyStuff.isnull().values.any())\n",
        "print(hourlyStuff.isnull().values.any())"
      ],
      "execution_count": 149,
      "outputs": [
        {
          "output_type": "stream",
          "name": "stdout",
          "text": [
            "True\n",
            "False\n",
            "False\n"
          ]
        }
      ]
    },
    {
      "cell_type": "markdown",
      "metadata": {
        "id": "wPsUv1QWyyF9"
      },
      "source": [
        "Since we don't have any missing values, We can proceed with the analysis!"
      ]
    },
    {
      "cell_type": "markdown",
      "metadata": {
        "id": "MygR_E7DPbjS"
      },
      "source": [
        "# Section 2: Data Exploration\n",
        "\n",
        "\n",
        "\n",
        "\n"
      ]
    },
    {
      "cell_type": "code",
      "metadata": {
        "scrolled": true,
        "id": "DAzfYbP9PbjT"
      },
      "source": [
        "from  matplotlib import pyplot as plt\n",
        "import seaborn as sns"
      ],
      "execution_count": 150,
      "outputs": []
    },
    {
      "cell_type": "code",
      "metadata": {
        "scrolled": false,
        "colab": {
          "base_uri": "https://localhost:8080/"
        },
        "id": "uIWXMGgpPbjT",
        "outputId": "9ffaf284-ccdc-48f2-ed05-beb5a8150076"
      },
      "source": [
        "#Looking at daily average statistics\n",
        "dailyStuff[['TotalSteps','TotalDistance','Calories','SedentaryMinutes']].mean()"
      ],
      "execution_count": 151,
      "outputs": [
        {
          "output_type": "execute_result",
          "data": {
            "text/plain": [
              "TotalSteps          7787.032872\n",
              "TotalDistance          5.591955\n",
              "Calories            2339.903114\n",
              "SedentaryMinutes    1004.500000\n",
              "dtype: float64"
            ]
          },
          "metadata": {},
          "execution_count": 151
        }
      ]
    },
    {
      "cell_type": "markdown",
      "metadata": {
        "id": "pJ0uQRxxzIiz"
      },
      "source": [
        "Total steps amount is slightly less than the amount recommended by CDC which is 8000 Steps. According to Healthline, Average caloric expenditure of females is 2100 calories and for males its 2600. In this dataset, gender of users is not available. So, mean value of 2300 is acceptable"
      ]
    },
    {
      "cell_type": "code",
      "metadata": {
        "colab": {
          "base_uri": "https://localhost:8080/"
        },
        "id": "2Ct1vCa4zF55",
        "outputId": "1d685633-43ec-48ec-c215-c39103cfc383"
      },
      "source": [
        "#Average Sleep Statistics\n",
        "print(dailyStuff_with_Sleep[['TotalMinutesAsleep','TotalTimeInBed']].mean())\n",
        "print(\"Ratio Between Average Sleep time and Average Total time in bed: \"+\n",
        "     str(dailyStuff_with_Sleep['TotalMinutesAsleep'].mean()/dailyStuff_with_Sleep['TotalTimeInBed'].mean()))"
      ],
      "execution_count": 152,
      "outputs": [
        {
          "output_type": "stream",
          "name": "stdout",
          "text": [
            "TotalMinutesAsleep    419.691748\n",
            "TotalTimeInBed        458.912621\n",
            "dtype: float64\n",
            "Ratio Between Average Sleep time and Average Total time in bed: 0.914535203520352\n"
          ]
        }
      ]
    },
    {
      "cell_type": "markdown",
      "metadata": {
        "id": "Ib4LvH9VzNj8"
      },
      "source": [
        "We can see that in Average Users are Asleep for 91% of the total time in Bed"
      ]
    },
    {
      "cell_type": "code",
      "metadata": {
        "colab": {
          "base_uri": "https://localhost:8080/",
          "height": 0
        },
        "id": "qpLJUSBWzF2U",
        "outputId": "c02c1260-2ae7-4ef4-dd43-168ac6de0bf2"
      },
      "source": [
        "#Let's visualize average values of Types of Active Minutes\n",
        "dailyActivityMean = dailyStuff.agg(\n",
        "{'SedentaryMinutes': ['mean'],'LightlyActiveMinutes': ['mean'],\n",
        " 'FairlyActiveMinutes': ['mean'],'VeryActiveMinutes': ['mean']}).reset_index()\n",
        "plt.figure(figsize = (15,5))\n",
        "plt1 = sns.barplot(data = dailyActivityMean)\n",
        "plt1.set_xticklabels(plt1.get_xticklabels(), rotation=45)\n",
        "plt1.set(xlabel='Level of Activeness', ylabel='Minutes',title = 'Average Activity Comparison')\n",
        "dailyActivityMean"
      ],
      "execution_count": 153,
      "outputs": [
        {
          "output_type": "execute_result",
          "data": {
            "text/html": [
              "<div>\n",
              "<style scoped>\n",
              "    .dataframe tbody tr th:only-of-type {\n",
              "        vertical-align: middle;\n",
              "    }\n",
              "\n",
              "    .dataframe tbody tr th {\n",
              "        vertical-align: top;\n",
              "    }\n",
              "\n",
              "    .dataframe thead th {\n",
              "        text-align: right;\n",
              "    }\n",
              "</style>\n",
              "<table border=\"1\" class=\"dataframe\">\n",
              "  <thead>\n",
              "    <tr style=\"text-align: right;\">\n",
              "      <th></th>\n",
              "      <th>index</th>\n",
              "      <th>SedentaryMinutes</th>\n",
              "      <th>LightlyActiveMinutes</th>\n",
              "      <th>FairlyActiveMinutes</th>\n",
              "      <th>VeryActiveMinutes</th>\n",
              "    </tr>\n",
              "  </thead>\n",
              "  <tbody>\n",
              "    <tr>\n",
              "      <th>0</th>\n",
              "      <td>mean</td>\n",
              "      <td>1004.5</td>\n",
              "      <td>198.320069</td>\n",
              "      <td>13.733564</td>\n",
              "      <td>22.060554</td>\n",
              "    </tr>\n",
              "  </tbody>\n",
              "</table>\n",
              "</div>"
            ],
            "text/plain": [
              "  index  SedentaryMinutes  ...  FairlyActiveMinutes  VeryActiveMinutes\n",
              "0  mean            1004.5  ...            13.733564          22.060554\n",
              "\n",
              "[1 rows x 5 columns]"
            ]
          },
          "metadata": {},
          "execution_count": 153
        },
        {
          "output_type": "display_data",
          "data": {
            "image/png": "[encoded data removed]",
            "text/plain": [
              "<Figure size 1080x360 with 1 Axes>"
            ]
          },
          "metadata": {}
        }
      ]
    },
    {
      "cell_type": "code",
      "metadata": {
        "colab": {
          "base_uri": "https://localhost:8080/",
          "height": 0
        },
        "id": "k5wumQwfzF0C",
        "outputId": "7ea920f3-da39-4657-d02d-8454b8d0f232"
      },
      "source": [
        "#Let's visualize average distances travelled with Active Levels\n",
        "#Sedentary Active Distance dont make any sense because you can you cant walk while being sedentary\n",
        "#So, We'll drop it\n",
        "dailyStuff.drop(['SedentaryActiveDistance'],inplace = True,axis = 1)\n",
        "dailyStuff_with_Sleep.drop(['SedentaryActiveDistance'],inplace = True,axis = 1)\n",
        "dailyDistanceMean = dailyStuff.agg(\n",
        "{'LightActiveDistance': ['mean'],\n",
        " 'ModeratelyActiveDistance': ['mean'],'VeryActiveDistance': ['mean']}).reset_index()\n",
        "plt.figure(figsize = (15,5))\n",
        "plt1 = sns.barplot(data = dailyDistanceMean)\n",
        "plt1.set_xticklabels(plt1.get_xticklabels(), rotation=45)\n",
        "plt1.set(xlabel='Level of Activeness', ylabel='Minutes',title = 'Average Travelled Distance Comparison')\n",
        "dailyActivityMean"
      ],
      "execution_count": 154,
      "outputs": [
        {
          "output_type": "execute_result",
          "data": {
            "text/html": [
              "<div>\n",
              "<style scoped>\n",
              "    .dataframe tbody tr th:only-of-type {\n",
              "        vertical-align: middle;\n",
              "    }\n",
              "\n",
              "    .dataframe tbody tr th {\n",
              "        vertical-align: top;\n",
              "    }\n",
              "\n",
              "    .dataframe thead th {\n",
              "        text-align: right;\n",
              "    }\n",
              "</style>\n",
              "<table border=\"1\" class=\"dataframe\">\n",
              "  <thead>\n",
              "    <tr style=\"text-align: right;\">\n",
              "      <th></th>\n",
              "      <th>index</th>\n",
              "      <th>SedentaryMinutes</th>\n",
              "      <th>LightlyActiveMinutes</th>\n",
              "      <th>FairlyActiveMinutes</th>\n",
              "      <th>VeryActiveMinutes</th>\n",
              "    </tr>\n",
              "  </thead>\n",
              "  <tbody>\n",
              "    <tr>\n",
              "      <th>0</th>\n",
              "      <td>mean</td>\n",
              "      <td>1004.5</td>\n",
              "      <td>198.320069</td>\n",
              "      <td>13.733564</td>\n",
              "      <td>22.060554</td>\n",
              "    </tr>\n",
              "  </tbody>\n",
              "</table>\n",
              "</div>"
            ],
            "text/plain": [
              "  index  SedentaryMinutes  ...  FairlyActiveMinutes  VeryActiveMinutes\n",
              "0  mean            1004.5  ...            13.733564          22.060554\n",
              "\n",
              "[1 rows x 5 columns]"
            ]
          },
          "metadata": {},
          "execution_count": 154
        },
        {
          "output_type": "display_data",
          "data": {
            "image/png": "[encoded data removed]",
            "text/plain": [
              "<Figure size 1080x360 with 1 Axes>"
            ]
          },
          "metadata": {}
        }
      ]
    },
    {
      "cell_type": "markdown",
      "metadata": {
        "id": "Jzv8gXYbzVVi"
      },
      "source": [
        "We can see that users are mostly lightly active when travelling."
      ]
    },
    {
      "cell_type": "code",
      "metadata": {
        "colab": {
          "base_uri": "https://localhost:8080/",
          "height": 0
        },
        "id": "Qgs4NeXezFyH",
        "outputId": "4168c9ae-87b7-4381-cb20-c1c5c6aa018c"
      },
      "source": [
        "#Lets visualize How long users are active (Minutes) according to the day of the week.\n",
        "#Getting total Active minutes (we don't need sedenatary because it's not really active)\n",
        "dailyStuff['TotalActiveMinutes'] = dailyStuff[['LightlyActiveMinutes',\n",
        " 'FairlyActiveMinutes','VeryActiveMinutes']].sum(axis = 1)\n",
        "TotalActivitybyDay =  dailyStuff.groupby(['Day']).agg({'TotalActiveMinutes':'mean'}).reset_index()\n",
        "df_mapping = pd.DataFrame({\n",
        "    'Day': ['Monday', 'Tuesday', 'Wednesday', 'Thursday','Friday','Saturday','Sunday']})\n",
        "sort_mapping = df_mapping.reset_index().set_index('Day')\n",
        "TotalActivitybyDay['DayNum'] = TotalActivitybyDay['Day'].map(sort_mapping['index'])\n",
        "TotalActivitybyDay.sort_values(['DayNum'],inplace =True)\n",
        "plt.figure(figsize = (15,5))\n",
        "plt1 = sns.barplot(data = TotalActivitybyDay,x = \"Day\",y = \"TotalActiveMinutes\")\n",
        "plt1.set_xticklabels(plt1.get_xticklabels(), rotation=45)\n",
        "plt1.set(xlabel='Day of the Week', ylabel='Minutes',title = 'Average Total Active Minutes Vs Days of the week')\n",
        "\n",
        "TotalActivitybyDay"
      ],
      "execution_count": 155,
      "outputs": [
        {
          "output_type": "execute_result",
          "data": {
            "text/html": [
              "<div>\n",
              "<style scoped>\n",
              "    .dataframe tbody tr th:only-of-type {\n",
              "        vertical-align: middle;\n",
              "    }\n",
              "\n",
              "    .dataframe tbody tr th {\n",
              "        vertical-align: top;\n",
              "    }\n",
              "\n",
              "    .dataframe thead th {\n",
              "        text-align: right;\n",
              "    }\n",
              "</style>\n",
              "<table border=\"1\" class=\"dataframe\">\n",
              "  <thead>\n",
              "    <tr style=\"text-align: right;\">\n",
              "      <th></th>\n",
              "      <th>Day</th>\n",
              "      <th>TotalActiveMinutes</th>\n",
              "      <th>DayNum</th>\n",
              "    </tr>\n",
              "  </thead>\n",
              "  <tbody>\n",
              "    <tr>\n",
              "      <th>1</th>\n",
              "      <td>Monday</td>\n",
              "      <td>230.734375</td>\n",
              "      <td>0</td>\n",
              "    </tr>\n",
              "    <tr>\n",
              "      <th>5</th>\n",
              "      <td>Tuesday</td>\n",
              "      <td>238.671875</td>\n",
              "      <td>1</td>\n",
              "    </tr>\n",
              "    <tr>\n",
              "      <th>6</th>\n",
              "      <td>Wednesday</td>\n",
              "      <td>230.216495</td>\n",
              "      <td>2</td>\n",
              "    </tr>\n",
              "    <tr>\n",
              "      <th>4</th>\n",
              "      <td>Thursday</td>\n",
              "      <td>232.597938</td>\n",
              "      <td>3</td>\n",
              "    </tr>\n",
              "    <tr>\n",
              "      <th>0</th>\n",
              "      <td>Friday</td>\n",
              "      <td>237.175258</td>\n",
              "      <td>4</td>\n",
              "    </tr>\n",
              "    <tr>\n",
              "      <th>2</th>\n",
              "      <td>Saturday</td>\n",
              "      <td>252.926316</td>\n",
              "      <td>5</td>\n",
              "    </tr>\n",
              "    <tr>\n",
              "      <th>3</th>\n",
              "      <td>Sunday</td>\n",
              "      <td>208.578125</td>\n",
              "      <td>6</td>\n",
              "    </tr>\n",
              "  </tbody>\n",
              "</table>\n",
              "</div>"
            ],
            "text/plain": [
              "         Day  TotalActiveMinutes  DayNum\n",
              "1     Monday          230.734375       0\n",
              "5    Tuesday          238.671875       1\n",
              "6  Wednesday          230.216495       2\n",
              "4   Thursday          232.597938       3\n",
              "0     Friday          237.175258       4\n",
              "2   Saturday          252.926316       5\n",
              "3     Sunday          208.578125       6"
            ]
          },
          "metadata": {},
          "execution_count": 155
        },
        {
          "output_type": "display_data",
          "data": {
            "image/png": "[encoded data removed]",
            "text/plain": [
              "<Figure size 1080x360 with 1 Axes>"
            ]
          },
          "metadata": {}
        }
      ]
    },
    {
      "cell_type": "markdown",
      "metadata": {
        "id": "3mejJOq5zeD4"
      },
      "source": [
        "We can see that there are no significant differences in active minutes by days of the week."
      ]
    },
    {
      "cell_type": "code",
      "metadata": {
        "colab": {
          "base_uri": "https://localhost:8080/",
          "height": 0
        },
        "id": "SHo6STVTzFwN",
        "outputId": "4cf800e0-af2d-43de-d624-cdd20333a1c5"
      },
      "source": [
        "#Comprehensive Days of the Week vs Active Sedentary Minutes\n",
        "ActiveMinutesTypesbyDay = dailyStuff.groupby(['Day']).agg({\n",
        "    'SedentaryMinutes':'mean','LightlyActiveMinutes':'mean',\n",
        "    'FairlyActiveMinutes':'mean','VeryActiveMinutes':'mean'}).reset_index()\n",
        "ActiveMinutesTypesbyDay['DayNum'] = ActiveMinutesTypesbyDay['Day'].map(sort_mapping['index'])\n",
        "ActiveMinutesTypesbyDay.sort_values(['DayNum'],inplace =True)\n",
        "ActiveMinutesTypesbyDay.drop('DayNum',inplace = True,axis = 1)\n",
        "\n",
        "ActiveMinutesTypesbyDay"
      ],
      "execution_count": 156,
      "outputs": [
        {
          "output_type": "execute_result",
          "data": {
            "text/html": [
              "<div>\n",
              "<style scoped>\n",
              "    .dataframe tbody tr th:only-of-type {\n",
              "        vertical-align: middle;\n",
              "    }\n",
              "\n",
              "    .dataframe tbody tr th {\n",
              "        vertical-align: top;\n",
              "    }\n",
              "\n",
              "    .dataframe thead th {\n",
              "        text-align: right;\n",
              "    }\n",
              "</style>\n",
              "<table border=\"1\" class=\"dataframe\">\n",
              "  <thead>\n",
              "    <tr style=\"text-align: right;\">\n",
              "      <th></th>\n",
              "      <th>Day</th>\n",
              "      <th>SedentaryMinutes</th>\n",
              "      <th>LightlyActiveMinutes</th>\n",
              "      <th>FairlyActiveMinutes</th>\n",
              "      <th>VeryActiveMinutes</th>\n",
              "    </tr>\n",
              "  </thead>\n",
              "  <tbody>\n",
              "    <tr>\n",
              "      <th>1</th>\n",
              "      <td>Monday</td>\n",
              "      <td>1049.953125</td>\n",
              "      <td>190.578125</td>\n",
              "      <td>13.750000</td>\n",
              "      <td>26.406250</td>\n",
              "    </tr>\n",
              "    <tr>\n",
              "      <th>5</th>\n",
              "      <td>Tuesday</td>\n",
              "      <td>1014.671875</td>\n",
              "      <td>201.078125</td>\n",
              "      <td>15.703125</td>\n",
              "      <td>21.890625</td>\n",
              "    </tr>\n",
              "    <tr>\n",
              "      <th>6</th>\n",
              "      <td>Wednesday</td>\n",
              "      <td>1000.278351</td>\n",
              "      <td>194.175258</td>\n",
              "      <td>13.340206</td>\n",
              "      <td>22.701031</td>\n",
              "    </tr>\n",
              "    <tr>\n",
              "      <th>4</th>\n",
              "      <td>Thursday</td>\n",
              "      <td>1007.896907</td>\n",
              "      <td>197.649485</td>\n",
              "      <td>13.041237</td>\n",
              "      <td>21.907216</td>\n",
              "    </tr>\n",
              "    <tr>\n",
              "      <th>0</th>\n",
              "      <td>Friday</td>\n",
              "      <td>993.979381</td>\n",
              "      <td>204.876289</td>\n",
              "      <td>12.350515</td>\n",
              "      <td>19.948454</td>\n",
              "    </tr>\n",
              "    <tr>\n",
              "      <th>2</th>\n",
              "      <td>Saturday</td>\n",
              "      <td>967.452632</td>\n",
              "      <td>215.052632</td>\n",
              "      <td>15.557895</td>\n",
              "      <td>22.315789</td>\n",
              "    </tr>\n",
              "    <tr>\n",
              "      <th>3</th>\n",
              "      <td>Sunday</td>\n",
              "      <td>1021.062500</td>\n",
              "      <td>175.828125</td>\n",
              "      <td>12.781250</td>\n",
              "      <td>19.968750</td>\n",
              "    </tr>\n",
              "  </tbody>\n",
              "</table>\n",
              "</div>"
            ],
            "text/plain": [
              "         Day  SedentaryMinutes  ...  FairlyActiveMinutes  VeryActiveMinutes\n",
              "1     Monday       1049.953125  ...            13.750000          26.406250\n",
              "5    Tuesday       1014.671875  ...            15.703125          21.890625\n",
              "6  Wednesday       1000.278351  ...            13.340206          22.701031\n",
              "4   Thursday       1007.896907  ...            13.041237          21.907216\n",
              "0     Friday        993.979381  ...            12.350515          19.948454\n",
              "2   Saturday        967.452632  ...            15.557895          22.315789\n",
              "3     Sunday       1021.062500  ...            12.781250          19.968750\n",
              "\n",
              "[7 rows x 5 columns]"
            ]
          },
          "metadata": {},
          "execution_count": 156
        }
      ]
    },
    {
      "cell_type": "markdown",
      "metadata": {
        "id": "1Qp3EER4ziv-"
      },
      "source": [
        "In order to plot correctly, We need to melt the dataset with respect to the Day column. This is sort of like converting Wide Table to Long Table"
      ]
    },
    {
      "cell_type": "code",
      "metadata": {
        "colab": {
          "base_uri": "https://localhost:8080/",
          "height": 0
        },
        "id": "xRVSmAHQzFtc",
        "outputId": "ba6df90f-a262-4b96-e1cb-1748f45d730c"
      },
      "source": [
        "melted_ActiveMinutesTypesbyDay = ActiveMinutesTypesbyDay.melt('Day',var_name = 'ActivityLevel',value_name = 'Minutes')\n",
        "melted_ActiveMinutesTypesbyDay"
      ],
      "execution_count": 157,
      "outputs": [
        {
          "output_type": "execute_result",
          "data": {
            "text/html": [
              "<div>\n",
              "<style scoped>\n",
              "    .dataframe tbody tr th:only-of-type {\n",
              "        vertical-align: middle;\n",
              "    }\n",
              "\n",
              "    .dataframe tbody tr th {\n",
              "        vertical-align: top;\n",
              "    }\n",
              "\n",
              "    .dataframe thead th {\n",
              "        text-align: right;\n",
              "    }\n",
              "</style>\n",
              "<table border=\"1\" class=\"dataframe\">\n",
              "  <thead>\n",
              "    <tr style=\"text-align: right;\">\n",
              "      <th></th>\n",
              "      <th>Day</th>\n",
              "      <th>ActivityLevel</th>\n",
              "      <th>Minutes</th>\n",
              "    </tr>\n",
              "  </thead>\n",
              "  <tbody>\n",
              "    <tr>\n",
              "      <th>0</th>\n",
              "      <td>Monday</td>\n",
              "      <td>SedentaryMinutes</td>\n",
              "      <td>1049.953125</td>\n",
              "    </tr>\n",
              "    <tr>\n",
              "      <th>1</th>\n",
              "      <td>Tuesday</td>\n",
              "      <td>SedentaryMinutes</td>\n",
              "      <td>1014.671875</td>\n",
              "    </tr>\n",
              "    <tr>\n",
              "      <th>2</th>\n",
              "      <td>Wednesday</td>\n",
              "      <td>SedentaryMinutes</td>\n",
              "      <td>1000.278351</td>\n",
              "    </tr>\n",
              "    <tr>\n",
              "      <th>3</th>\n",
              "      <td>Thursday</td>\n",
              "      <td>SedentaryMinutes</td>\n",
              "      <td>1007.896907</td>\n",
              "    </tr>\n",
              "    <tr>\n",
              "      <th>4</th>\n",
              "      <td>Friday</td>\n",
              "      <td>SedentaryMinutes</td>\n",
              "      <td>993.979381</td>\n",
              "    </tr>\n",
              "    <tr>\n",
              "      <th>5</th>\n",
              "      <td>Saturday</td>\n",
              "      <td>SedentaryMinutes</td>\n",
              "      <td>967.452632</td>\n",
              "    </tr>\n",
              "    <tr>\n",
              "      <th>6</th>\n",
              "      <td>Sunday</td>\n",
              "      <td>SedentaryMinutes</td>\n",
              "      <td>1021.062500</td>\n",
              "    </tr>\n",
              "    <tr>\n",
              "      <th>7</th>\n",
              "      <td>Monday</td>\n",
              "      <td>LightlyActiveMinutes</td>\n",
              "      <td>190.578125</td>\n",
              "    </tr>\n",
              "    <tr>\n",
              "      <th>8</th>\n",
              "      <td>Tuesday</td>\n",
              "      <td>LightlyActiveMinutes</td>\n",
              "      <td>201.078125</td>\n",
              "    </tr>\n",
              "    <tr>\n",
              "      <th>9</th>\n",
              "      <td>Wednesday</td>\n",
              "      <td>LightlyActiveMinutes</td>\n",
              "      <td>194.175258</td>\n",
              "    </tr>\n",
              "    <tr>\n",
              "      <th>10</th>\n",
              "      <td>Thursday</td>\n",
              "      <td>LightlyActiveMinutes</td>\n",
              "      <td>197.649485</td>\n",
              "    </tr>\n",
              "    <tr>\n",
              "      <th>11</th>\n",
              "      <td>Friday</td>\n",
              "      <td>LightlyActiveMinutes</td>\n",
              "      <td>204.876289</td>\n",
              "    </tr>\n",
              "    <tr>\n",
              "      <th>12</th>\n",
              "      <td>Saturday</td>\n",
              "      <td>LightlyActiveMinutes</td>\n",
              "      <td>215.052632</td>\n",
              "    </tr>\n",
              "    <tr>\n",
              "      <th>13</th>\n",
              "      <td>Sunday</td>\n",
              "      <td>LightlyActiveMinutes</td>\n",
              "      <td>175.828125</td>\n",
              "    </tr>\n",
              "    <tr>\n",
              "      <th>14</th>\n",
              "      <td>Monday</td>\n",
              "      <td>FairlyActiveMinutes</td>\n",
              "      <td>13.750000</td>\n",
              "    </tr>\n",
              "    <tr>\n",
              "      <th>15</th>\n",
              "      <td>Tuesday</td>\n",
              "      <td>FairlyActiveMinutes</td>\n",
              "      <td>15.703125</td>\n",
              "    </tr>\n",
              "    <tr>\n",
              "      <th>16</th>\n",
              "      <td>Wednesday</td>\n",
              "      <td>FairlyActiveMinutes</td>\n",
              "      <td>13.340206</td>\n",
              "    </tr>\n",
              "    <tr>\n",
              "      <th>17</th>\n",
              "      <td>Thursday</td>\n",
              "      <td>FairlyActiveMinutes</td>\n",
              "      <td>13.041237</td>\n",
              "    </tr>\n",
              "    <tr>\n",
              "      <th>18</th>\n",
              "      <td>Friday</td>\n",
              "      <td>FairlyActiveMinutes</td>\n",
              "      <td>12.350515</td>\n",
              "    </tr>\n",
              "    <tr>\n",
              "      <th>19</th>\n",
              "      <td>Saturday</td>\n",
              "      <td>FairlyActiveMinutes</td>\n",
              "      <td>15.557895</td>\n",
              "    </tr>\n",
              "    <tr>\n",
              "      <th>20</th>\n",
              "      <td>Sunday</td>\n",
              "      <td>FairlyActiveMinutes</td>\n",
              "      <td>12.781250</td>\n",
              "    </tr>\n",
              "    <tr>\n",
              "      <th>21</th>\n",
              "      <td>Monday</td>\n",
              "      <td>VeryActiveMinutes</td>\n",
              "      <td>26.406250</td>\n",
              "    </tr>\n",
              "    <tr>\n",
              "      <th>22</th>\n",
              "      <td>Tuesday</td>\n",
              "      <td>VeryActiveMinutes</td>\n",
              "      <td>21.890625</td>\n",
              "    </tr>\n",
              "    <tr>\n",
              "      <th>23</th>\n",
              "      <td>Wednesday</td>\n",
              "      <td>VeryActiveMinutes</td>\n",
              "      <td>22.701031</td>\n",
              "    </tr>\n",
              "    <tr>\n",
              "      <th>24</th>\n",
              "      <td>Thursday</td>\n",
              "      <td>VeryActiveMinutes</td>\n",
              "      <td>21.907216</td>\n",
              "    </tr>\n",
              "    <tr>\n",
              "      <th>25</th>\n",
              "      <td>Friday</td>\n",
              "      <td>VeryActiveMinutes</td>\n",
              "      <td>19.948454</td>\n",
              "    </tr>\n",
              "    <tr>\n",
              "      <th>26</th>\n",
              "      <td>Saturday</td>\n",
              "      <td>VeryActiveMinutes</td>\n",
              "      <td>22.315789</td>\n",
              "    </tr>\n",
              "    <tr>\n",
              "      <th>27</th>\n",
              "      <td>Sunday</td>\n",
              "      <td>VeryActiveMinutes</td>\n",
              "      <td>19.968750</td>\n",
              "    </tr>\n",
              "  </tbody>\n",
              "</table>\n",
              "</div>"
            ],
            "text/plain": [
              "          Day         ActivityLevel      Minutes\n",
              "0      Monday      SedentaryMinutes  1049.953125\n",
              "1     Tuesday      SedentaryMinutes  1014.671875\n",
              "2   Wednesday      SedentaryMinutes  1000.278351\n",
              "3    Thursday      SedentaryMinutes  1007.896907\n",
              "4      Friday      SedentaryMinutes   993.979381\n",
              "5    Saturday      SedentaryMinutes   967.452632\n",
              "6      Sunday      SedentaryMinutes  1021.062500\n",
              "7      Monday  LightlyActiveMinutes   190.578125\n",
              "8     Tuesday  LightlyActiveMinutes   201.078125\n",
              "9   Wednesday  LightlyActiveMinutes   194.175258\n",
              "10   Thursday  LightlyActiveMinutes   197.649485\n",
              "11     Friday  LightlyActiveMinutes   204.876289\n",
              "12   Saturday  LightlyActiveMinutes   215.052632\n",
              "13     Sunday  LightlyActiveMinutes   175.828125\n",
              "14     Monday   FairlyActiveMinutes    13.750000\n",
              "15    Tuesday   FairlyActiveMinutes    15.703125\n",
              "16  Wednesday   FairlyActiveMinutes    13.340206\n",
              "17   Thursday   FairlyActiveMinutes    13.041237\n",
              "18     Friday   FairlyActiveMinutes    12.350515\n",
              "19   Saturday   FairlyActiveMinutes    15.557895\n",
              "20     Sunday   FairlyActiveMinutes    12.781250\n",
              "21     Monday     VeryActiveMinutes    26.406250\n",
              "22    Tuesday     VeryActiveMinutes    21.890625\n",
              "23  Wednesday     VeryActiveMinutes    22.701031\n",
              "24   Thursday     VeryActiveMinutes    21.907216\n",
              "25     Friday     VeryActiveMinutes    19.948454\n",
              "26   Saturday     VeryActiveMinutes    22.315789\n",
              "27     Sunday     VeryActiveMinutes    19.968750"
            ]
          },
          "metadata": {},
          "execution_count": 157
        }
      ]
    },
    {
      "cell_type": "code",
      "metadata": {
        "colab": {
          "base_uri": "https://localhost:8080/",
          "height": 0
        },
        "id": "xR8aVxZNzFq2",
        "outputId": "f97435da-3c58-4277-a394-0bbb138e69fd"
      },
      "source": [
        "#Plotting\n",
        "plt.figure(figsize = (15,5))\n",
        "plt1 = sns.barplot(data = melted_ActiveMinutesTypesbyDay,x = 'Day',y = 'Minutes',hue = 'ActivityLevel')\n",
        "plt1.set_xticklabels(plt1.get_xticklabels(), rotation=45)\n",
        "plt1.set(xlabel='Day of the Week', ylabel='Minutes',title = 'Activity Level Vs Days of the week')\n",
        "plt.show()"
      ],
      "execution_count": 158,
      "outputs": [
        {
          "output_type": "display_data",
          "data": {
            "image/png": "[encoded data removed]",
            "text/plain": [
              "<Figure size 1080x360 with 1 Axes>"
            ]
          },
          "metadata": {}
        }
      ]
    },
    {
      "cell_type": "markdown",
      "metadata": {
        "id": "RZVecXpsztoL"
      },
      "source": [
        "We can see that users have a consistant Activity Type Durations throughout the week.\n",
        "\n",
        "**Now Let's Do the Same for Distance**"
      ]
    },
    {
      "cell_type": "code",
      "metadata": {
        "colab": {
          "base_uri": "https://localhost:8080/",
          "height": 0
        },
        "id": "UC4CK9fjzFn2",
        "outputId": "d83d52b7-77ec-4e06-a38c-693ac3838093"
      },
      "source": [
        "#Comprehensive Days of the Week vs Active Sedentary Minutes\n",
        "DistanceTravelledTypesbyDay = dailyStuff.groupby(['Day']).agg({\n",
        "    'LightActiveDistance':'mean','ModeratelyActiveDistance':'mean',\n",
        "    'VeryActiveDistance':'mean'}).reset_index()\n",
        "DistanceTravelledTypesbyDay['DayNum'] = ActiveMinutesTypesbyDay['Day'].map(sort_mapping['index'])\n",
        "DistanceTravelledTypesbyDay.sort_values(['DayNum'],inplace =True)\n",
        "DistanceTravelledTypesbyDay.drop('DayNum',inplace = True,axis = 1)\n",
        "\n",
        "DistanceTravelledTypesbyDay"
      ],
      "execution_count": 159,
      "outputs": [
        {
          "output_type": "execute_result",
          "data": {
            "text/html": [
              "<div>\n",
              "<style scoped>\n",
              "    .dataframe tbody tr th:only-of-type {\n",
              "        vertical-align: middle;\n",
              "    }\n",
              "\n",
              "    .dataframe tbody tr th {\n",
              "        vertical-align: top;\n",
              "    }\n",
              "\n",
              "    .dataframe thead th {\n",
              "        text-align: right;\n",
              "    }\n",
              "</style>\n",
              "<table border=\"1\" class=\"dataframe\">\n",
              "  <thead>\n",
              "    <tr style=\"text-align: right;\">\n",
              "      <th></th>\n",
              "      <th>Day</th>\n",
              "      <th>LightActiveDistance</th>\n",
              "      <th>ModeratelyActiveDistance</th>\n",
              "      <th>VeryActiveDistance</th>\n",
              "    </tr>\n",
              "  </thead>\n",
              "  <tbody>\n",
              "    <tr>\n",
              "      <th>1</th>\n",
              "      <td>Monday</td>\n",
              "      <td>3.337500</td>\n",
              "      <td>0.573125</td>\n",
              "      <td>1.724531</td>\n",
              "    </tr>\n",
              "    <tr>\n",
              "      <th>5</th>\n",
              "      <td>Tuesday</td>\n",
              "      <td>3.468906</td>\n",
              "      <td>0.619375</td>\n",
              "      <td>1.607187</td>\n",
              "    </tr>\n",
              "    <tr>\n",
              "      <th>6</th>\n",
              "      <td>Wednesday</td>\n",
              "      <td>3.326804</td>\n",
              "      <td>0.523608</td>\n",
              "      <td>1.724021</td>\n",
              "    </tr>\n",
              "    <tr>\n",
              "      <th>4</th>\n",
              "      <td>Thursday</td>\n",
              "      <td>3.449588</td>\n",
              "      <td>0.534227</td>\n",
              "      <td>1.567629</td>\n",
              "    </tr>\n",
              "    <tr>\n",
              "      <th>0</th>\n",
              "      <td>Friday</td>\n",
              "      <td>3.504124</td>\n",
              "      <td>0.489381</td>\n",
              "      <td>1.244742</td>\n",
              "    </tr>\n",
              "    <tr>\n",
              "      <th>2</th>\n",
              "      <td>Saturday</td>\n",
              "      <td>3.765789</td>\n",
              "      <td>0.679895</td>\n",
              "      <td>1.582526</td>\n",
              "    </tr>\n",
              "    <tr>\n",
              "      <th>3</th>\n",
              "      <td>Sunday</td>\n",
              "      <td>2.950781</td>\n",
              "      <td>0.557656</td>\n",
              "      <td>1.456094</td>\n",
              "    </tr>\n",
              "  </tbody>\n",
              "</table>\n",
              "</div>"
            ],
            "text/plain": [
              "         Day  LightActiveDistance  ModeratelyActiveDistance  VeryActiveDistance\n",
              "1     Monday             3.337500                  0.573125            1.724531\n",
              "5    Tuesday             3.468906                  0.619375            1.607187\n",
              "6  Wednesday             3.326804                  0.523608            1.724021\n",
              "4   Thursday             3.449588                  0.534227            1.567629\n",
              "0     Friday             3.504124                  0.489381            1.244742\n",
              "2   Saturday             3.765789                  0.679895            1.582526\n",
              "3     Sunday             2.950781                  0.557656            1.456094"
            ]
          },
          "metadata": {},
          "execution_count": 159
        }
      ]
    },
    {
      "cell_type": "code",
      "metadata": {
        "colab": {
          "base_uri": "https://localhost:8080/",
          "height": 0
        },
        "id": "yfFe9lOfzFlz",
        "outputId": "1a812ae9-ca98-4c73-e191-6c8b40536025"
      },
      "source": [
        "#Melting the dataset\n",
        "melted_DistanceTravelledTypesbyDay = DistanceTravelledTypesbyDay.melt('Day',var_name = 'DistanceType',value_name = 'Distance')\n",
        "melted_DistanceTravelledTypesbyDay"
      ],
      "execution_count": 160,
      "outputs": [
        {
          "output_type": "execute_result",
          "data": {
            "text/html": [
              "<div>\n",
              "<style scoped>\n",
              "    .dataframe tbody tr th:only-of-type {\n",
              "        vertical-align: middle;\n",
              "    }\n",
              "\n",
              "    .dataframe tbody tr th {\n",
              "        vertical-align: top;\n",
              "    }\n",
              "\n",
              "    .dataframe thead th {\n",
              "        text-align: right;\n",
              "    }\n",
              "</style>\n",
              "<table border=\"1\" class=\"dataframe\">\n",
              "  <thead>\n",
              "    <tr style=\"text-align: right;\">\n",
              "      <th></th>\n",
              "      <th>Day</th>\n",
              "      <th>DistanceType</th>\n",
              "      <th>Distance</th>\n",
              "    </tr>\n",
              "  </thead>\n",
              "  <tbody>\n",
              "    <tr>\n",
              "      <th>0</th>\n",
              "      <td>Monday</td>\n",
              "      <td>LightActiveDistance</td>\n",
              "      <td>3.337500</td>\n",
              "    </tr>\n",
              "    <tr>\n",
              "      <th>1</th>\n",
              "      <td>Tuesday</td>\n",
              "      <td>LightActiveDistance</td>\n",
              "      <td>3.468906</td>\n",
              "    </tr>\n",
              "    <tr>\n",
              "      <th>2</th>\n",
              "      <td>Wednesday</td>\n",
              "      <td>LightActiveDistance</td>\n",
              "      <td>3.326804</td>\n",
              "    </tr>\n",
              "    <tr>\n",
              "      <th>3</th>\n",
              "      <td>Thursday</td>\n",
              "      <td>LightActiveDistance</td>\n",
              "      <td>3.449588</td>\n",
              "    </tr>\n",
              "    <tr>\n",
              "      <th>4</th>\n",
              "      <td>Friday</td>\n",
              "      <td>LightActiveDistance</td>\n",
              "      <td>3.504124</td>\n",
              "    </tr>\n",
              "    <tr>\n",
              "      <th>5</th>\n",
              "      <td>Saturday</td>\n",
              "      <td>LightActiveDistance</td>\n",
              "      <td>3.765789</td>\n",
              "    </tr>\n",
              "    <tr>\n",
              "      <th>6</th>\n",
              "      <td>Sunday</td>\n",
              "      <td>LightActiveDistance</td>\n",
              "      <td>2.950781</td>\n",
              "    </tr>\n",
              "    <tr>\n",
              "      <th>7</th>\n",
              "      <td>Monday</td>\n",
              "      <td>ModeratelyActiveDistance</td>\n",
              "      <td>0.573125</td>\n",
              "    </tr>\n",
              "    <tr>\n",
              "      <th>8</th>\n",
              "      <td>Tuesday</td>\n",
              "      <td>ModeratelyActiveDistance</td>\n",
              "      <td>0.619375</td>\n",
              "    </tr>\n",
              "    <tr>\n",
              "      <th>9</th>\n",
              "      <td>Wednesday</td>\n",
              "      <td>ModeratelyActiveDistance</td>\n",
              "      <td>0.523608</td>\n",
              "    </tr>\n",
              "    <tr>\n",
              "      <th>10</th>\n",
              "      <td>Thursday</td>\n",
              "      <td>ModeratelyActiveDistance</td>\n",
              "      <td>0.534227</td>\n",
              "    </tr>\n",
              "    <tr>\n",
              "      <th>11</th>\n",
              "      <td>Friday</td>\n",
              "      <td>ModeratelyActiveDistance</td>\n",
              "      <td>0.489381</td>\n",
              "    </tr>\n",
              "    <tr>\n",
              "      <th>12</th>\n",
              "      <td>Saturday</td>\n",
              "      <td>ModeratelyActiveDistance</td>\n",
              "      <td>0.679895</td>\n",
              "    </tr>\n",
              "    <tr>\n",
              "      <th>13</th>\n",
              "      <td>Sunday</td>\n",
              "      <td>ModeratelyActiveDistance</td>\n",
              "      <td>0.557656</td>\n",
              "    </tr>\n",
              "    <tr>\n",
              "      <th>14</th>\n",
              "      <td>Monday</td>\n",
              "      <td>VeryActiveDistance</td>\n",
              "      <td>1.724531</td>\n",
              "    </tr>\n",
              "    <tr>\n",
              "      <th>15</th>\n",
              "      <td>Tuesday</td>\n",
              "      <td>VeryActiveDistance</td>\n",
              "      <td>1.607187</td>\n",
              "    </tr>\n",
              "    <tr>\n",
              "      <th>16</th>\n",
              "      <td>Wednesday</td>\n",
              "      <td>VeryActiveDistance</td>\n",
              "      <td>1.724021</td>\n",
              "    </tr>\n",
              "    <tr>\n",
              "      <th>17</th>\n",
              "      <td>Thursday</td>\n",
              "      <td>VeryActiveDistance</td>\n",
              "      <td>1.567629</td>\n",
              "    </tr>\n",
              "    <tr>\n",
              "      <th>18</th>\n",
              "      <td>Friday</td>\n",
              "      <td>VeryActiveDistance</td>\n",
              "      <td>1.244742</td>\n",
              "    </tr>\n",
              "    <tr>\n",
              "      <th>19</th>\n",
              "      <td>Saturday</td>\n",
              "      <td>VeryActiveDistance</td>\n",
              "      <td>1.582526</td>\n",
              "    </tr>\n",
              "    <tr>\n",
              "      <th>20</th>\n",
              "      <td>Sunday</td>\n",
              "      <td>VeryActiveDistance</td>\n",
              "      <td>1.456094</td>\n",
              "    </tr>\n",
              "  </tbody>\n",
              "</table>\n",
              "</div>"
            ],
            "text/plain": [
              "          Day              DistanceType  Distance\n",
              "0      Monday       LightActiveDistance  3.337500\n",
              "1     Tuesday       LightActiveDistance  3.468906\n",
              "2   Wednesday       LightActiveDistance  3.326804\n",
              "3    Thursday       LightActiveDistance  3.449588\n",
              "4      Friday       LightActiveDistance  3.504124\n",
              "5    Saturday       LightActiveDistance  3.765789\n",
              "6      Sunday       LightActiveDistance  2.950781\n",
              "7      Monday  ModeratelyActiveDistance  0.573125\n",
              "8     Tuesday  ModeratelyActiveDistance  0.619375\n",
              "9   Wednesday  ModeratelyActiveDistance  0.523608\n",
              "10   Thursday  ModeratelyActiveDistance  0.534227\n",
              "11     Friday  ModeratelyActiveDistance  0.489381\n",
              "12   Saturday  ModeratelyActiveDistance  0.679895\n",
              "13     Sunday  ModeratelyActiveDistance  0.557656\n",
              "14     Monday        VeryActiveDistance  1.724531\n",
              "15    Tuesday        VeryActiveDistance  1.607187\n",
              "16  Wednesday        VeryActiveDistance  1.724021\n",
              "17   Thursday        VeryActiveDistance  1.567629\n",
              "18     Friday        VeryActiveDistance  1.244742\n",
              "19   Saturday        VeryActiveDistance  1.582526\n",
              "20     Sunday        VeryActiveDistance  1.456094"
            ]
          },
          "metadata": {},
          "execution_count": 160
        }
      ]
    },
    {
      "cell_type": "code",
      "metadata": {
        "colab": {
          "base_uri": "https://localhost:8080/",
          "height": 0
        },
        "id": "uVOKPomSzFjv",
        "outputId": "6aeb2c3f-49fc-4672-f4de-ab241c152100"
      },
      "source": [
        "#Plotting the dataset\n",
        "plt.figure(figsize = (15,5))\n",
        "plt1 = sns.barplot(data = melted_DistanceTravelledTypesbyDay,x = 'Day',y = 'Distance',hue = 'DistanceType')\n",
        "plt1.set_xticklabels(plt1.get_xticklabels(), rotation=45)\n",
        "plt1.set(xlabel='Day of the Week', ylabel='Distance',title = 'Distance Type Vs Days of the week')\n",
        "plt.show()"
      ],
      "execution_count": 161,
      "outputs": [
        {
          "output_type": "display_data",
          "data": {
            "image/png": "[encoded data removed]",
            "text/plain": [
              "<Figure size 1080x360 with 1 Axes>"
            ]
          },
          "metadata": {}
        }
      ]
    },
    {
      "cell_type": "markdown",
      "metadata": {
        "id": "JKJENXcqz6R-"
      },
      "source": [
        "Even for Distance, We can see that users have a consistant Distance Type Distances throughout the week.\n",
        "\n",
        "**Now, Let's visualise the relationship between Distance Travelled and Total Active Minutes**"
      ]
    },
    {
      "cell_type": "markdown",
      "metadata": {
        "id": "q6MkSpD-fLLv"
      },
      "source": [
        "#Predictive Analysis"
      ]
    },
    {
      "cell_type": "code",
      "metadata": {
        "colab": {
          "base_uri": "https://localhost:8080/",
          "height": 458
        },
        "id": "ndrZ_gh9zFgw",
        "outputId": "94176a03-4d26-4e72-d3b9-dc74d774b8b5"
      },
      "source": [
        "#Lets also draw a best fitting line / curve through the plot using Linear Regression\n",
        "from sklearn.linear_model import LinearRegression \n",
        "from sklearn.preprocessing import PolynomialFeatures\n",
        "poly_reg = PolynomialFeatures(degree =5)\n",
        "\n",
        "lin_reg = LinearRegression()\n",
        "x = dailyStuff['TotalDistance'].values.reshape(-1,1)\n",
        "y =dailyStuff['TotalActiveMinutes'].values.reshape(-1,1)\n",
        "X_poly = poly_reg.fit_transform(x)\n",
        "lin_reg.fit(X_poly,dailyStuff['TotalActiveMinutes'])\n",
        "pred = lin_reg.predict(X_poly)\n",
        "\n",
        "x_grid = np.arange(min(x),max(x),0.01)\n",
        "\n",
        "plt.figure(figsize = (7,7))\n",
        "plt.scatter(data = dailyStuff,x = 'TotalDistance',y = 'TotalActiveMinutes',color = 'darkblue')\n",
        "plt.plot(x_grid ,lin_reg.predict(poly_reg.fit_transform(x_grid.reshape(-1,1))), color = 'red')\n",
        "plt.xlabel(\"Total Distance\")\n",
        "plt.ylabel(\"Total Active Minutes\")\n",
        "plt.title(\"Total Active Minutes vs Total Distance Travelled\")\n",
        "plt.show()"
      ],
      "execution_count": 162,
      "outputs": [
        {
          "output_type": "display_data",
          "data": {
            "image/png": "[encoded data removed]",
            "text/plain": [
              "<Figure size 504x504 with 1 Axes>"
            ]
          },
          "metadata": {}
        }
      ]
    },
    {
      "cell_type": "markdown",
      "metadata": {
        "id": "KPA06vlA0C38"
      },
      "source": [
        "We can see that their is a correlation between Total Active Minutes and Total Distance Travelled. Since the Fitbit fitness tracker collects Location (GPS) data, We can explain the outliers with Stationary exercising such as running on a trademill, stationary bike.. etc. And this is not exactly a linear relationship. Which is to be expected with this kind of data.\n",
        "\n",
        "**Now, Let's visualise the relationship between Calories Burned and Total Active Minutes**"
      ]
    },
    {
      "cell_type": "code",
      "metadata": {
        "colab": {
          "base_uri": "https://localhost:8080/",
          "height": 458
        },
        "id": "4L7lyUlI0Ggz",
        "outputId": "672862b8-1ed1-4ca8-d01d-233b4dce77c4"
      },
      "source": [
        "#Lets also draw a best fitting line / curve through the plot using Linear Regression\n",
        "poly_reg = PolynomialFeatures(degree =3)\n",
        "x = dailyStuff['TotalActiveMinutes'].values.reshape(-1,1)\n",
        "y =dailyStuff['Calories'].values.reshape(-1,1)\n",
        "X_poly = poly_reg.fit_transform(x)\n",
        "lin_reg = LinearRegression()\n",
        "\n",
        "lin_reg.fit(X_poly,y)\n",
        "pred = lin_reg.predict(X_poly)\n",
        "\n",
        "x_grid = np.arange(min(x),max(x),0.01)\n",
        "\n",
        "plt.figure(figsize = (7,7))\n",
        "plt.scatter(data = dailyStuff,x = 'TotalActiveMinutes',y = 'Calories',color = 'green')\n",
        "plt.plot(x_grid ,lin_reg.predict(poly_reg.fit_transform(x_grid.reshape(-1,1))), color = 'yellow')\n",
        "plt.xlabel(\"Total Active Minutes\")\n",
        "plt.ylabel(\"Daily Calories Burned\")\n",
        "plt.title(\"Daily Calories Burned vs Total Active Minutes\")\n",
        "plt.show()"
      ],
      "execution_count": 163,
      "outputs": [
        {
          "output_type": "display_data",
          "data": {
            "image/png": "[encoded data removed]",
            "text/plain": [
              "<Figure size 504x504 with 1 Axes>"
            ]
          },
          "metadata": {}
        }
      ]
    },
    {
      "cell_type": "markdown",
      "metadata": {
        "id": "SYMzPvLB0Oyf"
      },
      "source": [
        "We can observe a correlation between Daily Calories Burned and Total active Minutes. Obviously, THere will be a minimum amount of calories burned even if there is no active minutes. There are some incorrect data (where daily calories burned are zero) in our dataset. That data are incorrect because there it is impossible to not burn calories throughout the day. This maybe due to the user not wearing the fitness band throughout the day.\n",
        "\n",
        "**It is kind of obvious that there is a postive correlation between Total steps taken and Total Distance travelled** So, We won't be looking at that data"
      ]
    },
    {
      "cell_type": "markdown",
      "metadata": {
        "id": "cynsMfMs0kNP"
      },
      "source": [
        "**Hourly Data**"
      ]
    },
    {
      "cell_type": "code",
      "metadata": {
        "colab": {
          "base_uri": "https://localhost:8080/"
        },
        "id": "IljApHI60GY_",
        "outputId": "66ac7817-3368-4e4c-fd29-93f2e96f7619"
      },
      "source": [
        "#Looking at Hourly average statistics\n",
        "hourlyStuff[['Calories','TotalIntensity','StepTotal']].mean()"
      ],
      "execution_count": 164,
      "outputs": [
        {
          "output_type": "execute_result",
          "data": {
            "text/plain": [
              "Calories           97.445047\n",
              "TotalIntensity     12.199190\n",
              "StepTotal         322.970335\n",
              "dtype: float64"
            ]
          },
          "metadata": {},
          "execution_count": 164
        }
      ]
    },
    {
      "cell_type": "markdown",
      "metadata": {
        "id": "U9Hjg9H80s7f"
      },
      "source": [
        "**Let's findout the Average calories burned throughout the day by Hour**"
      ]
    },
    {
      "cell_type": "code",
      "metadata": {
        "colab": {
          "base_uri": "https://localhost:8080/",
          "height": 241
        },
        "id": "8bLCN8sV0GW9",
        "outputId": "192b0de2-604a-40dc-cad2-31f7d2b8fc80"
      },
      "source": [
        "hourlyCalories = hourlyStuff.groupby(['Hour']).agg({'Calories':'mean'}).reset_index()\n",
        "\n",
        "plt.figure(figsize = (10,3))\n",
        "hC = sns.barplot(data = hourlyCalories,x = 'Hour',y = 'Calories')\n",
        "hC.set(xlabel='Hour of the Day', ylabel='Calories',title = 'Hour of the Day Vs Calories Burned')\n",
        "plt.show()\n",
        "#hourlyCalories"
      ],
      "execution_count": 165,
      "outputs": [
        {
          "output_type": "display_data",
          "data": {
            "image/png": "[encoded data removed]",
            "text/plain": [
              "<Figure size 720x216 with 1 Axes>"
            ]
          },
          "metadata": {}
        }
      ]
    },
    {
      "cell_type": "markdown",
      "metadata": {
        "id": "K1KLYZfR0ySc"
      },
      "source": [
        "We can see that most of the calories are burned during the day time.\n",
        "\n",
        "**Now Let's See Amount of Steps taken (Average) throughout the day by Hour**"
      ]
    },
    {
      "cell_type": "code",
      "metadata": {
        "colab": {
          "base_uri": "https://localhost:8080/",
          "height": 241
        },
        "id": "lKncNxOx0GT8",
        "outputId": "f39bb09f-cae5-4f1b-f06a-92f1e0ab98f9"
      },
      "source": [
        "hourlySteps = hourlyStuff.groupby(['Hour']).agg({'StepTotal':'mean'}).reset_index()\n",
        "\n",
        "plt.figure(figsize = (10,3))\n",
        "hC = sns.barplot(data = hourlySteps,x = 'Hour',y = 'StepTotal')\n",
        "hC.set(xlabel='Hour of the Day', ylabel='Amount of Steps',\n",
        "       title = 'Hour of the Day Vs Amount of Steps Taken')\n",
        "plt.show()\n",
        "#hourlySteps"
      ],
      "execution_count": 166,
      "outputs": [
        {
          "output_type": "display_data",
          "data": {
            "image/png": "[encoded data removed]",
            "text/plain": [
              "<Figure size 720x216 with 1 Axes>"
            ]
          },
          "metadata": {}
        }
      ]
    },
    {
      "cell_type": "markdown",
      "metadata": {
        "id": "nBaq7o0D05Kk"
      },
      "source": [
        "Unsuprisingly, during the night time, amount of steps taken is really low. Most amount of steps are taken during the day.\n",
        "\n",
        "**Let's do the same thing for the Total Intensity**"
      ]
    },
    {
      "cell_type": "code",
      "metadata": {
        "colab": {
          "base_uri": "https://localhost:8080/",
          "height": 241
        },
        "id": "BRvP46iw0GRk",
        "outputId": "3e011a8f-f710-481e-c9a3-796b29fdbb2c"
      },
      "source": [
        "hourlyIntensity = hourlyStuff.groupby(['Hour']).agg({'TotalIntensity':'mean'}).reset_index()\n",
        "\n",
        "plt.figure(figsize = (10,3))\n",
        "hC = sns.barplot(data = hourlyIntensity,x = 'Hour',y = 'TotalIntensity')\n",
        "hC.set(xlabel='Hour of the Day', ylabel='Hourly Intensity',\n",
        "       title = 'Hour of the Day Vs Intensity')\n",
        "plt.show()\n",
        "#hourlyIntensity"
      ],
      "execution_count": 167,
      "outputs": [
        {
          "output_type": "display_data",
          "data": {
            "image/png": "[encoded data removed]",
            "text/plain": [
              "<Figure size 720x216 with 1 Axes>"
            ]
          },
          "metadata": {}
        }
      ]
    },
    {
      "cell_type": "markdown",
      "metadata": {
        "id": "dEqY0yTT1IPR"
      },
      "source": [
        "##Predicting Daily Caloric with Polynomial Linear Regression"
      ]
    },
    {
      "cell_type": "code",
      "metadata": {
        "colab": {
          "base_uri": "https://localhost:8080/",
          "height": 195
        },
        "id": "oiB-5QN80GPZ",
        "outputId": "b45b03e9-c004-4adc-fb91-bc48edc70c74"
      },
      "source": [
        "#Choosing promising variables from the dailyStuff Dataset\n",
        "dailyStuff_filtered = dailyStuff[['TotalSteps','TotalDistance','VeryActiveDistance','ModeratelyActiveDistance',\n",
        "                                 'LightActiveDistance','VeryActiveMinutes','FairlyActiveMinutes','LightlyActiveMinutes',\n",
        "                                 'SedentaryMinutes','TotalActiveMinutes','Calories']]\n",
        "dailyStuff_filtered.head(4)"
      ],
      "execution_count": 168,
      "outputs": [
        {
          "output_type": "execute_result",
          "data": {
            "text/html": [
              "<div>\n",
              "<style scoped>\n",
              "    .dataframe tbody tr th:only-of-type {\n",
              "        vertical-align: middle;\n",
              "    }\n",
              "\n",
              "    .dataframe tbody tr th {\n",
              "        vertical-align: top;\n",
              "    }\n",
              "\n",
              "    .dataframe thead th {\n",
              "        text-align: right;\n",
              "    }\n",
              "</style>\n",
              "<table border=\"1\" class=\"dataframe\">\n",
              "  <thead>\n",
              "    <tr style=\"text-align: right;\">\n",
              "      <th></th>\n",
              "      <th>TotalSteps</th>\n",
              "      <th>TotalDistance</th>\n",
              "      <th>VeryActiveDistance</th>\n",
              "      <th>ModeratelyActiveDistance</th>\n",
              "      <th>LightActiveDistance</th>\n",
              "      <th>VeryActiveMinutes</th>\n",
              "      <th>FairlyActiveMinutes</th>\n",
              "      <th>LightlyActiveMinutes</th>\n",
              "      <th>SedentaryMinutes</th>\n",
              "      <th>TotalActiveMinutes</th>\n",
              "      <th>Calories</th>\n",
              "    </tr>\n",
              "  </thead>\n",
              "  <tbody>\n",
              "    <tr>\n",
              "      <th>0</th>\n",
              "      <td>10735</td>\n",
              "      <td>6.97</td>\n",
              "      <td>1.57</td>\n",
              "      <td>0.69</td>\n",
              "      <td>4.71</td>\n",
              "      <td>21</td>\n",
              "      <td>19</td>\n",
              "      <td>217</td>\n",
              "      <td>776</td>\n",
              "      <td>257</td>\n",
              "      <td>1797</td>\n",
              "    </tr>\n",
              "    <tr>\n",
              "      <th>1</th>\n",
              "      <td>10460</td>\n",
              "      <td>6.74</td>\n",
              "      <td>2.44</td>\n",
              "      <td>0.40</td>\n",
              "      <td>3.91</td>\n",
              "      <td>30</td>\n",
              "      <td>11</td>\n",
              "      <td>181</td>\n",
              "      <td>1218</td>\n",
              "      <td>222</td>\n",
              "      <td>1776</td>\n",
              "    </tr>\n",
              "    <tr>\n",
              "      <th>2</th>\n",
              "      <td>9762</td>\n",
              "      <td>6.28</td>\n",
              "      <td>2.14</td>\n",
              "      <td>1.26</td>\n",
              "      <td>2.83</td>\n",
              "      <td>29</td>\n",
              "      <td>34</td>\n",
              "      <td>209</td>\n",
              "      <td>726</td>\n",
              "      <td>272</td>\n",
              "      <td>1745</td>\n",
              "    </tr>\n",
              "    <tr>\n",
              "      <th>3</th>\n",
              "      <td>12669</td>\n",
              "      <td>8.16</td>\n",
              "      <td>2.71</td>\n",
              "      <td>0.41</td>\n",
              "      <td>5.04</td>\n",
              "      <td>36</td>\n",
              "      <td>10</td>\n",
              "      <td>221</td>\n",
              "      <td>773</td>\n",
              "      <td>267</td>\n",
              "      <td>1863</td>\n",
              "    </tr>\n",
              "  </tbody>\n",
              "</table>\n",
              "</div>"
            ],
            "text/plain": [
              "   TotalSteps  TotalDistance  ...  TotalActiveMinutes  Calories\n",
              "0       10735           6.97  ...                 257      1797\n",
              "1       10460           6.74  ...                 222      1776\n",
              "2        9762           6.28  ...                 272      1745\n",
              "3       12669           8.16  ...                 267      1863\n",
              "\n",
              "[4 rows x 11 columns]"
            ]
          },
          "metadata": {},
          "execution_count": 168
        }
      ]
    },
    {
      "cell_type": "code",
      "metadata": {
        "colab": {
          "base_uri": "https://localhost:8080/"
        },
        "id": "W1fA7IgF1cLm",
        "outputId": "7d1a3efa-3b12-43af-d60b-56cc2067eada"
      },
      "source": [
        "# split into input (X) and output (Y) variables\n",
        "X = dailyStuff_filtered.iloc[:,:-1] #first 10 variables \n",
        "y = dailyStuff_filtered.iloc[:,-1] #Calory Data\n",
        "\n",
        "# Splitting the dataset into the Training set and Test set\n",
        "from sklearn.model_selection import train_test_split\n",
        "X_train, X_test, y_train, y_test = train_test_split(X, y, test_size = 0.2, random_state = 0)#20% test size\n",
        "\n",
        "\n",
        "#Getting Polynomials from variables\n",
        "from sklearn.preprocessing import PolynomialFeatures\n",
        "poly_reg = PolynomialFeatures(degree =2)\n",
        "X_poly = poly_reg.fit_transform(X_train)\n",
        "\n",
        "#Fitting the data to LinearRegressionModel\n",
        "from sklearn.linear_model import LinearRegression\n",
        "regressor = LinearRegression()\n",
        "regressor.fit(X_poly,y_train)\n",
        "\n",
        "#Prediction\n",
        "y_pred = regressor.predict(poly_reg.fit_transform(X_test))\n",
        "\n",
        "#Measuring Accuracy with Mean Squared Error\n",
        "from sklearn.metrics import mean_squared_error \n",
        "print(\"Mean Squared Error is: \" + str(mean_squared_error(y_test,y_pred)))"
      ],
      "execution_count": 169,
      "outputs": [
        {
          "output_type": "stream",
          "name": "stdout",
          "text": [
            "Mean Squared Error is: 68758.09332769367\n"
          ]
        }
      ]
    },
    {
      "cell_type": "markdown",
      "metadata": {
        "id": "V_9OeSOg1fWW"
      },
      "source": [
        "Then we optimized the model to improve prediction accuracy by removing some variables from the dataset."
      ]
    },
    {
      "cell_type": "code",
      "metadata": {
        "colab": {
          "base_uri": "https://localhost:8080/"
        },
        "id": "0Nz_c3Sy1doJ",
        "outputId": "247f7db9-eff6-43f0-85a0-ae014ef3dbc6"
      },
      "source": [
        "newdf = dailyStuff_filtered[['TotalSteps','TotalDistance','VeryActiveDistance',\n",
        "                                 'LightActiveDistance','VeryActiveMinutes','LightlyActiveMinutes',\n",
        "                                 'SedentaryMinutes','Calories']]\n",
        "X = newdf.iloc[:,:-1]\n",
        "y = newdf.iloc[:,-1]\n",
        "\n",
        "X_train, X_test, y_train, y_test = train_test_split(X, y, test_size = 0.2, random_state = 0)#20% test size\n",
        "\n",
        "poly_reg = PolynomialFeatures(degree =2)\n",
        "X_poly = poly_reg.fit_transform(X_train)\n",
        "regressor = LinearRegression()\n",
        "regressor.fit(X_poly,y_train)\n",
        "\n",
        "y_pred= regressor.predict(poly_reg.fit_transform(X_test))\n",
        "\n",
        "mean_squared_error(y_test,y_pred)\n",
        "\n",
        "print(\"NEW Mean Squared Error is: \" + str(mean_squared_error(y_test,y_pred)))"
      ],
      "execution_count": 170,
      "outputs": [
        {
          "output_type": "stream",
          "name": "stdout",
          "text": [
            "NEW Mean Squared Error is: 67886.74446436466\n"
          ]
        }
      ]
    },
    {
      "cell_type": "markdown",
      "metadata": {
        "id": "dhCkraHbfYAK"
      },
      "source": [
        "#Results and Conclusions"
      ]
    },
    {
      "cell_type": "markdown",
      "metadata": {
        "id": "H-p8KKSi1noC"
      },
      "source": [
        "**Insights**\n",
        "1. Clear positive correlation between activity and calories burned\n",
        "2. Less sleep causes users to be less productive. So improving\n",
        "3. Users are more likely to be active during the day time (duh...)\n",
        "4. Cannot find a relationship between sleep duration and amount of calories burned\n",
        "5. Longer a user is active, more likely for them to travel more (walk, run, etc..)\n",
        "6. Activity level, Amount of activity is don't change much with differant days of the week (slightly higher on saturdays)\n",
        "7. When travelling, users are most likely to be lightly active followed by very active, lastly moderately active\n",
        "\n",
        "**Recommendations**\n",
        "\n",
        "1. If bellabeat users want to reduce sedentary time, recommend them to improve their sleeping (sleep longer)\n",
        "2. Recommend users who work sedentary jobs to exercise regularly\n",
        "3. Collect more data from the bellabeat users (with their permission) for better analysis\n",
        "4. Show bellabest users the benefits of increasing amount of steps taken. According to CDC, more than 10000 steps per day reduces the risk of injuries, and reduces mortality in general.\n",
        "5. Suggest users recommended caloric intake based on their activity levels and their needs (lose weight, gain weight, etc.)"
      ]
    }
  ]
}